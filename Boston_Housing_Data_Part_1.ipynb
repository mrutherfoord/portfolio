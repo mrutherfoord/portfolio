{
  "nbformat": 4,
  "nbformat_minor": 0,
  "metadata": {
    "kernelspec": {
      "display_name": "Python 3",
      "language": "python",
      "name": "python3"
    },
    "language_info": {
      "codemirror_mode": {
        "name": "ipython",
        "version": 3
      },
      "file_extension": ".py",
      "mimetype": "text/x-python",
      "name": "python",
      "nbconvert_exporter": "python",
      "pygments_lexer": "ipython3",
      "version": "3.7.0"
    },
    "colab": {
      "name": "Boston Housing Data Part 1 ",
      "provenance": [],
      "include_colab_link": true
    }
  },
  "cells": [
    {
      "cell_type": "markdown",
      "metadata": {
        "id": "view-in-github",
        "colab_type": "text"
      },
      "source": [
        "<a href=\"https://colab.research.google.com/github/mrutherfoord/portfolio/blob/master/Boston_Housing_Data_Part_1.ipynb\" target=\"_parent\"><img src=\"https://colab.research.google.com/assets/colab-badge.svg\" alt=\"Open In Colab\"/></a>"
      ]
    },
    {
      "cell_type": "markdown",
      "metadata": {
        "id": "tCeXY83djcEN",
        "colab_type": "text"
      },
      "source": [
        "# Boston Housing Data\n",
        "\n",
        "FOr this project I will be looking at Boston housing data in order to create models that can predict housing prices dependent on a number of variables. I will be using two types of linear regression in this project: Linear Regression (aka OLS), and Ridge Regression. I will be using all of the explanatory variables with the exception of the neighborhood name for this project."
      ]
    },
    {
      "cell_type": "code",
      "metadata": {
        "id": "hjuw8BKyjcEQ",
        "colab_type": "code",
        "colab": {}
      },
      "source": [
        "# seed value for random number generators to obtain reproducible results\n",
        "RANDOM_SEED = 1\n",
        "\n",
        "SET_FIT_INTERCEPT = True\n",
        "\n",
        "# pretty print dataframes\n",
        "from IPython.display import display\n",
        "\n",
        "# import base packages into the namespace for this program\n",
        "import numpy as np\n",
        "import pandas as pd\n",
        "\n",
        "# modeling routines from Scikit Learn packages\n",
        "import sklearn.linear_model \n",
        "from sklearn.linear_model import LinearRegression, Ridge, RidgeCV, Lasso, ElasticNet\n",
        "from sklearn.metrics import mean_squared_error, r2_score \n",
        "from sklearn.model_selection import cross_val_score, cross_val_predict, learning_curve, train_test_split\n",
        "from math import sqrt  # for root mean-squared error calculation\n",
        "from sklearn.preprocessing import StandardScaler\n",
        "\n",
        "# ignore some warnings\n",
        "import warnings\n",
        "from sklearn.exceptions import DataConversionWarning\n",
        "warnings.filterwarnings(action='ignore', category=DataConversionWarning)\n",
        "\n",
        "# plotting modules\n",
        "import seaborn as sns\n",
        "import matplotlib.pyplot as plt\n",
        "%matplotlib inline"
      ],
      "execution_count": 0,
      "outputs": []
    },
    {
      "cell_type": "markdown",
      "metadata": {
        "id": "kAkThq1gjcEV",
        "colab_type": "text"
      },
      "source": [
        "For the first step, I created a dataframe and took a look at the descriptive statistics."
      ]
    },
    {
      "cell_type": "code",
      "metadata": {
        "id": "T9ezICW0jcEW",
        "colab_type": "code",
        "outputId": "6c417435-796f-45eb-95f2-f0b72ceb8470",
        "colab": {}
      },
      "source": [
        "# read data for the Boston Housing Study\n",
        "# creating data frame restdata\n",
        "boston_input = pd.read_csv('boston.csv')\n",
        "\n",
        "# check the pandas DataFrame object boston_input\n",
        "print('\\nBoston DataFrame First 5 Rows:')\n",
        "display (boston_input.head())\n",
        "\n",
        "print('\\nBoston DataFrame Last 5 Rows:')\n",
        "display (boston_input.tail())\n",
        "\n",
        "print('\\nGeneral description of the boston_input DataFrame:')\n",
        "print(boston_input.info())\n",
        "\n",
        "# drop neighborhood from the data being considered\n",
        "boston = boston_input.drop('neighborhood', 1)\n",
        "print('\\nGeneral description of the boston DataFrame:')\n",
        "print(boston.info())\n",
        "\n",
        "print('\\nDescriptive statistics of the boston DataFrame:')\n",
        "print(boston.describe())"
      ],
      "execution_count": 0,
      "outputs": [
        {
          "output_type": "stream",
          "text": [
            "\n",
            "Boston DataFrame First 5 Rows:\n"
          ],
          "name": "stdout"
        },
        {
          "output_type": "display_data",
          "data": {
            "text/html": [
              "<div>\n",
              "<style scoped>\n",
              "    .dataframe tbody tr th:only-of-type {\n",
              "        vertical-align: middle;\n",
              "    }\n",
              "\n",
              "    .dataframe tbody tr th {\n",
              "        vertical-align: top;\n",
              "    }\n",
              "\n",
              "    .dataframe thead th {\n",
              "        text-align: right;\n",
              "    }\n",
              "</style>\n",
              "<table border=\"1\" class=\"dataframe\">\n",
              "  <thead>\n",
              "    <tr style=\"text-align: right;\">\n",
              "      <th></th>\n",
              "      <th>neighborhood</th>\n",
              "      <th>crim</th>\n",
              "      <th>zn</th>\n",
              "      <th>indus</th>\n",
              "      <th>chas</th>\n",
              "      <th>nox</th>\n",
              "      <th>rooms</th>\n",
              "      <th>age</th>\n",
              "      <th>dis</th>\n",
              "      <th>rad</th>\n",
              "      <th>tax</th>\n",
              "      <th>ptratio</th>\n",
              "      <th>lstat</th>\n",
              "      <th>mv</th>\n",
              "    </tr>\n",
              "  </thead>\n",
              "  <tbody>\n",
              "    <tr>\n",
              "      <th>0</th>\n",
              "      <td>Nahant</td>\n",
              "      <td>0.00632</td>\n",
              "      <td>18.0</td>\n",
              "      <td>2.31</td>\n",
              "      <td>0</td>\n",
              "      <td>0.538</td>\n",
              "      <td>6.575</td>\n",
              "      <td>65.2</td>\n",
              "      <td>4.0900</td>\n",
              "      <td>1</td>\n",
              "      <td>296</td>\n",
              "      <td>15.3</td>\n",
              "      <td>4.98</td>\n",
              "      <td>24.0</td>\n",
              "    </tr>\n",
              "    <tr>\n",
              "      <th>1</th>\n",
              "      <td>Swampscott</td>\n",
              "      <td>0.02731</td>\n",
              "      <td>0.0</td>\n",
              "      <td>7.07</td>\n",
              "      <td>0</td>\n",
              "      <td>0.469</td>\n",
              "      <td>6.421</td>\n",
              "      <td>78.9</td>\n",
              "      <td>4.9671</td>\n",
              "      <td>2</td>\n",
              "      <td>242</td>\n",
              "      <td>17.8</td>\n",
              "      <td>9.14</td>\n",
              "      <td>21.6</td>\n",
              "    </tr>\n",
              "    <tr>\n",
              "      <th>2</th>\n",
              "      <td>Swanpscott</td>\n",
              "      <td>0.02729</td>\n",
              "      <td>0.0</td>\n",
              "      <td>7.07</td>\n",
              "      <td>0</td>\n",
              "      <td>0.469</td>\n",
              "      <td>7.185</td>\n",
              "      <td>61.1</td>\n",
              "      <td>4.9671</td>\n",
              "      <td>2</td>\n",
              "      <td>242</td>\n",
              "      <td>17.8</td>\n",
              "      <td>4.03</td>\n",
              "      <td>34.7</td>\n",
              "    </tr>\n",
              "    <tr>\n",
              "      <th>3</th>\n",
              "      <td>Marblehead</td>\n",
              "      <td>0.03237</td>\n",
              "      <td>0.0</td>\n",
              "      <td>2.18</td>\n",
              "      <td>0</td>\n",
              "      <td>0.458</td>\n",
              "      <td>6.998</td>\n",
              "      <td>45.8</td>\n",
              "      <td>6.0622</td>\n",
              "      <td>3</td>\n",
              "      <td>222</td>\n",
              "      <td>18.7</td>\n",
              "      <td>2.94</td>\n",
              "      <td>33.4</td>\n",
              "    </tr>\n",
              "    <tr>\n",
              "      <th>4</th>\n",
              "      <td>Marblehead</td>\n",
              "      <td>0.06905</td>\n",
              "      <td>0.0</td>\n",
              "      <td>2.18</td>\n",
              "      <td>0</td>\n",
              "      <td>0.458</td>\n",
              "      <td>7.147</td>\n",
              "      <td>54.2</td>\n",
              "      <td>6.0622</td>\n",
              "      <td>3</td>\n",
              "      <td>222</td>\n",
              "      <td>18.7</td>\n",
              "      <td>5.33</td>\n",
              "      <td>36.2</td>\n",
              "    </tr>\n",
              "  </tbody>\n",
              "</table>\n",
              "</div>"
            ],
            "text/plain": [
              "  neighborhood     crim    zn  indus  chas    nox  rooms   age     dis  rad  \\\n",
              "0       Nahant  0.00632  18.0   2.31     0  0.538  6.575  65.2  4.0900    1   \n",
              "1   Swampscott  0.02731   0.0   7.07     0  0.469  6.421  78.9  4.9671    2   \n",
              "2   Swanpscott  0.02729   0.0   7.07     0  0.469  7.185  61.1  4.9671    2   \n",
              "3   Marblehead  0.03237   0.0   2.18     0  0.458  6.998  45.8  6.0622    3   \n",
              "4   Marblehead  0.06905   0.0   2.18     0  0.458  7.147  54.2  6.0622    3   \n",
              "\n",
              "   tax  ptratio  lstat    mv  \n",
              "0  296     15.3   4.98  24.0  \n",
              "1  242     17.8   9.14  21.6  \n",
              "2  242     17.8   4.03  34.7  \n",
              "3  222     18.7   2.94  33.4  \n",
              "4  222     18.7   5.33  36.2  "
            ]
          },
          "metadata": {
            "tags": []
          }
        },
        {
          "output_type": "stream",
          "text": [
            "\n",
            "Boston DataFrame Last 5 Rows:\n"
          ],
          "name": "stdout"
        },
        {
          "output_type": "display_data",
          "data": {
            "text/html": [
              "<div>\n",
              "<style scoped>\n",
              "    .dataframe tbody tr th:only-of-type {\n",
              "        vertical-align: middle;\n",
              "    }\n",
              "\n",
              "    .dataframe tbody tr th {\n",
              "        vertical-align: top;\n",
              "    }\n",
              "\n",
              "    .dataframe thead th {\n",
              "        text-align: right;\n",
              "    }\n",
              "</style>\n",
              "<table border=\"1\" class=\"dataframe\">\n",
              "  <thead>\n",
              "    <tr style=\"text-align: right;\">\n",
              "      <th></th>\n",
              "      <th>neighborhood</th>\n",
              "      <th>crim</th>\n",
              "      <th>zn</th>\n",
              "      <th>indus</th>\n",
              "      <th>chas</th>\n",
              "      <th>nox</th>\n",
              "      <th>rooms</th>\n",
              "      <th>age</th>\n",
              "      <th>dis</th>\n",
              "      <th>rad</th>\n",
              "      <th>tax</th>\n",
              "      <th>ptratio</th>\n",
              "      <th>lstat</th>\n",
              "      <th>mv</th>\n",
              "    </tr>\n",
              "  </thead>\n",
              "  <tbody>\n",
              "    <tr>\n",
              "      <th>501</th>\n",
              "      <td>Winthrop</td>\n",
              "      <td>0.06263</td>\n",
              "      <td>0.0</td>\n",
              "      <td>11.93</td>\n",
              "      <td>0</td>\n",
              "      <td>0.573</td>\n",
              "      <td>6.593</td>\n",
              "      <td>69.1</td>\n",
              "      <td>2.4786</td>\n",
              "      <td>1</td>\n",
              "      <td>273</td>\n",
              "      <td>21.0</td>\n",
              "      <td>9.67</td>\n",
              "      <td>22.4</td>\n",
              "    </tr>\n",
              "    <tr>\n",
              "      <th>502</th>\n",
              "      <td>Winthrop</td>\n",
              "      <td>0.04527</td>\n",
              "      <td>0.0</td>\n",
              "      <td>11.93</td>\n",
              "      <td>0</td>\n",
              "      <td>0.573</td>\n",
              "      <td>6.120</td>\n",
              "      <td>76.7</td>\n",
              "      <td>2.2875</td>\n",
              "      <td>1</td>\n",
              "      <td>273</td>\n",
              "      <td>21.0</td>\n",
              "      <td>9.08</td>\n",
              "      <td>20.6</td>\n",
              "    </tr>\n",
              "    <tr>\n",
              "      <th>503</th>\n",
              "      <td>Winthrop</td>\n",
              "      <td>0.06076</td>\n",
              "      <td>0.0</td>\n",
              "      <td>11.93</td>\n",
              "      <td>0</td>\n",
              "      <td>0.573</td>\n",
              "      <td>6.976</td>\n",
              "      <td>91.0</td>\n",
              "      <td>2.1675</td>\n",
              "      <td>1</td>\n",
              "      <td>273</td>\n",
              "      <td>21.0</td>\n",
              "      <td>5.64</td>\n",
              "      <td>23.9</td>\n",
              "    </tr>\n",
              "    <tr>\n",
              "      <th>504</th>\n",
              "      <td>Winthrop</td>\n",
              "      <td>0.10959</td>\n",
              "      <td>0.0</td>\n",
              "      <td>11.93</td>\n",
              "      <td>0</td>\n",
              "      <td>0.573</td>\n",
              "      <td>6.794</td>\n",
              "      <td>89.3</td>\n",
              "      <td>2.3889</td>\n",
              "      <td>1</td>\n",
              "      <td>273</td>\n",
              "      <td>21.0</td>\n",
              "      <td>6.48</td>\n",
              "      <td>22.0</td>\n",
              "    </tr>\n",
              "    <tr>\n",
              "      <th>505</th>\n",
              "      <td>Winthrop</td>\n",
              "      <td>0.04741</td>\n",
              "      <td>0.0</td>\n",
              "      <td>11.93</td>\n",
              "      <td>0</td>\n",
              "      <td>0.573</td>\n",
              "      <td>6.030</td>\n",
              "      <td>80.8</td>\n",
              "      <td>2.5050</td>\n",
              "      <td>1</td>\n",
              "      <td>273</td>\n",
              "      <td>21.0</td>\n",
              "      <td>7.88</td>\n",
              "      <td>19.0</td>\n",
              "    </tr>\n",
              "  </tbody>\n",
              "</table>\n",
              "</div>"
            ],
            "text/plain": [
              "    neighborhood     crim   zn  indus  chas    nox  rooms   age     dis  rad  \\\n",
              "501     Winthrop  0.06263  0.0  11.93     0  0.573  6.593  69.1  2.4786    1   \n",
              "502     Winthrop  0.04527  0.0  11.93     0  0.573  6.120  76.7  2.2875    1   \n",
              "503     Winthrop  0.06076  0.0  11.93     0  0.573  6.976  91.0  2.1675    1   \n",
              "504     Winthrop  0.10959  0.0  11.93     0  0.573  6.794  89.3  2.3889    1   \n",
              "505     Winthrop  0.04741  0.0  11.93     0  0.573  6.030  80.8  2.5050    1   \n",
              "\n",
              "     tax  ptratio  lstat    mv  \n",
              "501  273     21.0   9.67  22.4  \n",
              "502  273     21.0   9.08  20.6  \n",
              "503  273     21.0   5.64  23.9  \n",
              "504  273     21.0   6.48  22.0  \n",
              "505  273     21.0   7.88  19.0  "
            ]
          },
          "metadata": {
            "tags": []
          }
        },
        {
          "output_type": "stream",
          "text": [
            "\n",
            "General description of the boston_input DataFrame:\n",
            "<class 'pandas.core.frame.DataFrame'>\n",
            "RangeIndex: 506 entries, 0 to 505\n",
            "Data columns (total 14 columns):\n",
            "neighborhood    506 non-null object\n",
            "crim            506 non-null float64\n",
            "zn              506 non-null float64\n",
            "indus           506 non-null float64\n",
            "chas            506 non-null int64\n",
            "nox             506 non-null float64\n",
            "rooms           506 non-null float64\n",
            "age             506 non-null float64\n",
            "dis             506 non-null float64\n",
            "rad             506 non-null int64\n",
            "tax             506 non-null int64\n",
            "ptratio         506 non-null float64\n",
            "lstat           506 non-null float64\n",
            "mv              506 non-null float64\n",
            "dtypes: float64(10), int64(3), object(1)\n",
            "memory usage: 55.4+ KB\n",
            "None\n",
            "\n",
            "General description of the boston DataFrame:\n",
            "<class 'pandas.core.frame.DataFrame'>\n",
            "RangeIndex: 506 entries, 0 to 505\n",
            "Data columns (total 13 columns):\n",
            "crim       506 non-null float64\n",
            "zn         506 non-null float64\n",
            "indus      506 non-null float64\n",
            "chas       506 non-null int64\n",
            "nox        506 non-null float64\n",
            "rooms      506 non-null float64\n",
            "age        506 non-null float64\n",
            "dis        506 non-null float64\n",
            "rad        506 non-null int64\n",
            "tax        506 non-null int64\n",
            "ptratio    506 non-null float64\n",
            "lstat      506 non-null float64\n",
            "mv         506 non-null float64\n",
            "dtypes: float64(10), int64(3)\n",
            "memory usage: 51.5 KB\n",
            "None\n",
            "\n",
            "Descriptive statistics of the boston DataFrame:\n",
            "             crim          zn       indus        chas         nox       rooms  \\\n",
            "count  506.000000  506.000000  506.000000  506.000000  506.000000  506.000000   \n",
            "mean     3.613524   11.363636   11.136779    0.069170    0.554695    6.284634   \n",
            "std      8.601545   23.322453    6.860353    0.253994    0.115878    0.702617   \n",
            "min      0.006320    0.000000    0.460000    0.000000    0.385000    3.561000   \n",
            "25%      0.082045    0.000000    5.190000    0.000000    0.449000    5.885500   \n",
            "50%      0.256510    0.000000    9.690000    0.000000    0.538000    6.208500   \n",
            "75%      3.677082   12.500000   18.100000    0.000000    0.624000    6.623500   \n",
            "max     88.976200  100.000000   27.740000    1.000000    0.871000    8.780000   \n",
            "\n",
            "              age         dis         rad         tax     ptratio       lstat  \\\n",
            "count  506.000000  506.000000  506.000000  506.000000  506.000000  506.000000   \n",
            "mean    68.574901    3.795043    9.549407  408.237154   18.455534   12.653063   \n",
            "std     28.148861    2.105710    8.707259  168.537116    2.164946    7.141062   \n",
            "min      2.900000    1.129600    1.000000  187.000000   12.600000    1.730000   \n",
            "25%     45.025000    2.100175    4.000000  279.000000   17.400000    6.950000   \n",
            "50%     77.500000    3.207450    5.000000  330.000000   19.050000   11.360000   \n",
            "75%     94.075000    5.188425   24.000000  666.000000   20.200000   16.955000   \n",
            "max    100.000000   12.126500   24.000000  711.000000   22.000000   37.970000   \n",
            "\n",
            "               mv  \n",
            "count  506.000000  \n",
            "mean    22.528854  \n",
            "std      9.182176  \n",
            "min      5.000000  \n",
            "25%     17.025000  \n",
            "50%     21.200000  \n",
            "75%     25.000000  \n",
            "max     50.000000  \n"
          ],
          "name": "stdout"
        }
      ]
    },
    {
      "cell_type": "markdown",
      "metadata": {
        "id": "xOyNCHnVjcEb",
        "colab_type": "text"
      },
      "source": [
        "Looking at the mean and median of the 'Median Value' column, I can see that it looks like the distribution may be a little skewed to the right. This could mean that there may be some outliers in the data.\n",
        "\n",
        "I next made a correlation heatmap to find variables that are highly correlated. Collinearity can be a problem among independent variables, so if the model proves unreliable, removing some of these variables could help."
      ]
    },
    {
      "cell_type": "code",
      "metadata": {
        "id": "f3NMgTNyjcEc",
        "colab_type": "code",
        "outputId": "b5072d1d-c615-4abf-b392-4a1af84beaaf",
        "colab": {}
      },
      "source": [
        "# Seaborn style\n",
        "sns.set(style=\"white\")\n",
        "\n",
        "# Correlation matrix\n",
        "corr = boston.corr()\n",
        "\n",
        "# Mask for the upper triangle\n",
        "mask = np.zeros_like(corr, dtype=np.bool)\n",
        "mask[np.triu_indices_from(mask)] = True\n",
        "\n",
        "# Matplotlib figure\n",
        "f, ax = plt.subplots(figsize=(11, 9))\n",
        "\n",
        "# Heatmap with mask\n",
        "sns.heatmap(corr, mask=mask, cmap='coolwarm', vmin=-.8, vmax=.8, center=0,\n",
        "            square=True, linewidths=.5, cbar_kws={\"shrink\": .5}, annot=True)"
      ],
      "execution_count": 0,
      "outputs": [
        {
          "output_type": "execute_result",
          "data": {
            "text/plain": [
              "<matplotlib.axes._subplots.AxesSubplot at 0x224967f1518>"
            ]
          },
          "metadata": {
            "tags": []
          },
          "execution_count": 438
        },
        {
          "output_type": "display_data",
          "data": {
            "image/png": "[encoded data removed]",
            "text/plain": [
              "<Figure size 792x648 with 2 Axes>"
            ]
          },
          "metadata": {
            "tags": []
          }
        }
      ]
    },
    {
      "cell_type": "markdown",
      "metadata": {
        "id": "RIjA_8-jjcEf",
        "colab_type": "text"
      },
      "source": [
        "From the correlation matrix, I can see that the number of rooms positively correlates with the median value, while a property's lower status negatively correlates with the median value. Also of note are some variables that look to be multicollinear including poperty taxes, proximity to radial highways, amount of nitric oxide, proportion of non-residential units found in the area, and age of house. \n",
        "\n",
        "Next, i decided to look at a distribution plot for the median house value. As expected, the plot is slightly right-skewed. There also aprears to be a cap at 50,000 which creates a slight bi-modal shape."
      ]
    },
    {
      "cell_type": "code",
      "metadata": {
        "id": "EOuP3Kl2jcEg",
        "colab_type": "code",
        "outputId": "af75e7de-d5ff-4dac-e150-dfb65a995477",
        "colab": {}
      },
      "source": [
        "# Seaborn style\n",
        "sns.set(style='darkgrid')\n",
        "\n",
        "#Distribution plot for median value\n",
        "sns.distplot(boston['mv'], color = 'red')"
      ],
      "execution_count": 0,
      "outputs": [
        {
          "output_type": "execute_result",
          "data": {
            "text/plain": [
              "<matplotlib.axes._subplots.AxesSubplot at 0x22496865860>"
            ]
          },
          "metadata": {
            "tags": []
          },
          "execution_count": 439
        },
        {
          "output_type": "display_data",
          "data": {
            "image/png": "[encoded data removed]",
            "text/plain": [
              "<Figure size 432x288 with 1 Axes>"
            ]
          },
          "metadata": {
            "tags": []
          }
        }
      ]
    },
    {
      "cell_type": "markdown",
      "metadata": {
        "id": "RF_70dp2jcEj",
        "colab_type": "text"
      },
      "source": [
        "It's now time to scale the data. I chose to only scale the explanatory variables, and not the response variable so that the predictions would be in a scale that would be easily interpretable. I chose to use the standard scaler that appeared in the jump-start code. "
      ]
    },
    {
      "cell_type": "code",
      "metadata": {
        "id": "ypIDhfSsjcEk",
        "colab_type": "code",
        "outputId": "c13d4fe6-8d6e-4c3e-cc05-12df181633a8",
        "colab": {}
      },
      "source": [
        "# Setting scaler\n",
        "scaler = StandardScaler()\n",
        "\n",
        "# Creating dataframes for the explanatory variables and response variable\n",
        "X = boston.drop(['mv'], axis=1)\n",
        "y = boston['mv']\n",
        "\n",
        "# Scaling the explanatory variables\n",
        "X_scaled = pd.DataFrame(scaler.fit_transform(X),columns = X.columns)\n",
        "\n",
        "print('-' * 50)\n",
        "print('\\nScaled Data')\n",
        "display(X_scaled.head())\n",
        "print('-' * 50)\n",
        "print('\\nResponse Variable')\n",
        "display(y.head())\n",
        "\n",
        "# Maximum and Minimum of Median Home Prices\n",
        "print('-' * 50)\n",
        "print('\\nMaximum and Minimum of Median Home Prices')\n",
        "print(min(y))\n",
        "print(max(y))"
      ],
      "execution_count": 0,
      "outputs": [
        {
          "output_type": "stream",
          "text": [
            "--------------------------------------------------\n",
            "\n",
            "Scaled Data\n"
          ],
          "name": "stdout"
        },
        {
          "output_type": "display_data",
          "data": {
            "text/html": [
              "<div>\n",
              "<style scoped>\n",
              "    .dataframe tbody tr th:only-of-type {\n",
              "        vertical-align: middle;\n",
              "    }\n",
              "\n",
              "    .dataframe tbody tr th {\n",
              "        vertical-align: top;\n",
              "    }\n",
              "\n",
              "    .dataframe thead th {\n",
              "        text-align: right;\n",
              "    }\n",
              "</style>\n",
              "<table border=\"1\" class=\"dataframe\">\n",
              "  <thead>\n",
              "    <tr style=\"text-align: right;\">\n",
              "      <th></th>\n",
              "      <th>crim</th>\n",
              "      <th>zn</th>\n",
              "      <th>indus</th>\n",
              "      <th>chas</th>\n",
              "      <th>nox</th>\n",
              "      <th>rooms</th>\n",
              "      <th>age</th>\n",
              "      <th>dis</th>\n",
              "      <th>rad</th>\n",
              "      <th>tax</th>\n",
              "      <th>ptratio</th>\n",
              "      <th>lstat</th>\n",
              "    </tr>\n",
              "  </thead>\n",
              "  <tbody>\n",
              "    <tr>\n",
              "      <th>0</th>\n",
              "      <td>-0.419782</td>\n",
              "      <td>0.284830</td>\n",
              "      <td>-1.287909</td>\n",
              "      <td>-0.272599</td>\n",
              "      <td>-0.144217</td>\n",
              "      <td>0.413672</td>\n",
              "      <td>-0.120013</td>\n",
              "      <td>0.140214</td>\n",
              "      <td>-0.982843</td>\n",
              "      <td>-0.666608</td>\n",
              "      <td>-1.459000</td>\n",
              "      <td>-1.075562</td>\n",
              "    </tr>\n",
              "    <tr>\n",
              "      <th>1</th>\n",
              "      <td>-0.417339</td>\n",
              "      <td>-0.487722</td>\n",
              "      <td>-0.593381</td>\n",
              "      <td>-0.272599</td>\n",
              "      <td>-0.740262</td>\n",
              "      <td>0.194274</td>\n",
              "      <td>0.367166</td>\n",
              "      <td>0.557160</td>\n",
              "      <td>-0.867883</td>\n",
              "      <td>-0.987329</td>\n",
              "      <td>-0.303094</td>\n",
              "      <td>-0.492439</td>\n",
              "    </tr>\n",
              "    <tr>\n",
              "      <th>2</th>\n",
              "      <td>-0.417342</td>\n",
              "      <td>-0.487722</td>\n",
              "      <td>-0.593381</td>\n",
              "      <td>-0.272599</td>\n",
              "      <td>-0.740262</td>\n",
              "      <td>1.282714</td>\n",
              "      <td>-0.265812</td>\n",
              "      <td>0.557160</td>\n",
              "      <td>-0.867883</td>\n",
              "      <td>-0.987329</td>\n",
              "      <td>-0.303094</td>\n",
              "      <td>-1.208727</td>\n",
              "    </tr>\n",
              "    <tr>\n",
              "      <th>3</th>\n",
              "      <td>-0.416750</td>\n",
              "      <td>-0.487722</td>\n",
              "      <td>-1.306878</td>\n",
              "      <td>-0.272599</td>\n",
              "      <td>-0.835284</td>\n",
              "      <td>1.016303</td>\n",
              "      <td>-0.809889</td>\n",
              "      <td>1.077737</td>\n",
              "      <td>-0.752922</td>\n",
              "      <td>-1.106115</td>\n",
              "      <td>0.113032</td>\n",
              "      <td>-1.361517</td>\n",
              "    </tr>\n",
              "    <tr>\n",
              "      <th>4</th>\n",
              "      <td>-0.412482</td>\n",
              "      <td>-0.487722</td>\n",
              "      <td>-1.306878</td>\n",
              "      <td>-0.272599</td>\n",
              "      <td>-0.835284</td>\n",
              "      <td>1.228577</td>\n",
              "      <td>-0.511180</td>\n",
              "      <td>1.077737</td>\n",
              "      <td>-0.752922</td>\n",
              "      <td>-1.106115</td>\n",
              "      <td>0.113032</td>\n",
              "      <td>-1.026501</td>\n",
              "    </tr>\n",
              "  </tbody>\n",
              "</table>\n",
              "</div>"
            ],
            "text/plain": [
              "       crim        zn     indus      chas       nox     rooms       age  \\\n",
              "0 -0.419782  0.284830 -1.287909 -0.272599 -0.144217  0.413672 -0.120013   \n",
              "1 -0.417339 -0.487722 -0.593381 -0.272599 -0.740262  0.194274  0.367166   \n",
              "2 -0.417342 -0.487722 -0.593381 -0.272599 -0.740262  1.282714 -0.265812   \n",
              "3 -0.416750 -0.487722 -1.306878 -0.272599 -0.835284  1.016303 -0.809889   \n",
              "4 -0.412482 -0.487722 -1.306878 -0.272599 -0.835284  1.228577 -0.511180   \n",
              "\n",
              "        dis       rad       tax   ptratio     lstat  \n",
              "0  0.140214 -0.982843 -0.666608 -1.459000 -1.075562  \n",
              "1  0.557160 -0.867883 -0.987329 -0.303094 -0.492439  \n",
              "2  0.557160 -0.867883 -0.987329 -0.303094 -1.208727  \n",
              "3  1.077737 -0.752922 -1.106115  0.113032 -1.361517  \n",
              "4  1.077737 -0.752922 -1.106115  0.113032 -1.026501  "
            ]
          },
          "metadata": {
            "tags": []
          }
        },
        {
          "output_type": "stream",
          "text": [
            "--------------------------------------------------\n",
            "\n",
            "Response Variable\n"
          ],
          "name": "stdout"
        },
        {
          "output_type": "display_data",
          "data": {
            "text/plain": [
              "0    24.0\n",
              "1    21.6\n",
              "2    34.7\n",
              "3    33.4\n",
              "4    36.2\n",
              "Name: mv, dtype: float64"
            ]
          },
          "metadata": {
            "tags": []
          }
        },
        {
          "output_type": "stream",
          "text": [
            "--------------------------------------------------\n",
            "\n",
            "Maximum and Minimum of Median Home Prices\n",
            "5.0\n",
            "50.0\n"
          ],
          "name": "stdout"
        }
      ]
    },
    {
      "cell_type": "markdown",
      "metadata": {
        "id": "AZV_ug-7jcEn",
        "colab_type": "text"
      },
      "source": [
        "# Linear Regression\n",
        "\n",
        "During my research and reading, I saw that using learning curves can help determine how much bias and variance will be in the model and also help determine an appropriate training set size. I used cross-validation with 10 folds, then calculated the mean for the training and validation scores, and finally plotted the results."
      ]
    },
    {
      "cell_type": "code",
      "metadata": {
        "id": "a87E3FDQjcEn",
        "colab_type": "code",
        "colab": {}
      },
      "source": [
        "# Training set sizes\n",
        "train_sizes = [1, 50, 100, 150, 200, 250, 300, 350, 400, 455]\n",
        "\n",
        "# Learning curve for linear regression with 10-fold cross-validation\n",
        "train_sizes, train_scores, validation_scores = learning_curve(\n",
        "                                                   estimator = LinearRegression(), X = X_scaled,\n",
        "                                                   y = y, train_sizes = train_sizes, cv = 10,\n",
        "                                                   scoring = 'neg_mean_squared_error')\n",
        "# Means for training scores and validation scores\n",
        "train_scores_mean = -train_scores.mean(axis = 1)\n",
        "validation_scores_mean = -validation_scores.mean(axis = 1)"
      ],
      "execution_count": 0,
      "outputs": []
    },
    {
      "cell_type": "code",
      "metadata": {
        "id": "1Hk4vowWjcEq",
        "colab_type": "code",
        "outputId": "f118ed41-e690-4eaf-8317-b5feb77f1220",
        "colab": {}
      },
      "source": [
        "# Seaborn style\n",
        "sns.set(style='darkgrid')\n",
        "\n",
        "# Plot of training and validation scores\n",
        "plt.plot(train_sizes, train_scores_mean, label = 'Training error')\n",
        "plt.plot(train_sizes, validation_scores_mean, label = 'Validation error')\n",
        "\n",
        "# Plot labeling\n",
        "plt.ylabel('MSE', fontsize = 14)\n",
        "plt.xlabel('Training set size', fontsize = 14)\n",
        "plt.title('Learning Curve for Boston Housing Linear Regression', fontsize = 14, y = 1.03)\n",
        "plt.legend()\n",
        "plt.ylim(0,150)"
      ],
      "execution_count": 0,
      "outputs": [
        {
          "output_type": "execute_result",
          "data": {
            "text/plain": [
              "(0, 150)"
            ]
          },
          "metadata": {
            "tags": []
          },
          "execution_count": 448
        },
        {
          "output_type": "display_data",
          "data": {
            "image/png": "[encoded data removed]",
            "text/plain": [
              "<Figure size 432x288 with 1 Axes>"
            ]
          },
          "metadata": {
            "tags": []
          }
        }
      ]
    },
    {
      "cell_type": "markdown",
      "metadata": {
        "id": "gbHatUgQjcEt",
        "colab_type": "text"
      },
      "source": [
        "This plot shows that the training and validations sets don't really start to converge until there are at least 400 instances in the training set. The RMSE is hovering around $4.5K which seems high and there is a big gap between the lines, which indicates that the model suffers from both high bias as well as high variance. Since we cannot add more instaces or more features, a more complex model would probably do a better job. \n",
        "\n",
        "Moving forward with the linear regession, I decided on an 80/20 split for the data since that will create a training set of 404 instances"
      ]
    },
    {
      "cell_type": "code",
      "metadata": {
        "id": "bjF03zPCjcEv",
        "colab_type": "code",
        "outputId": "94f315c0-5f0f-45e4-bcd6-1b3a6f8c69d5",
        "colab": {}
      },
      "source": [
        "# Creating an 80/20 training/testing set\n",
        "X_train, X_test, y_train, y_test = train_test_split(X, y, test_size = .2, random_state = RANDOM_SEED)\n",
        "\n",
        "# Checking training set and testing set sizes\n",
        "print('-' * 50)\n",
        "print('Explanatory Variables Training Shape: {}'.format(X_train.shape))\n",
        "print('\\nResponse Variable Training Shape: {}'.format(y_train.shape))\n",
        "print('-' * 50)\n",
        "print('Explanatory Variables Test Shape: {}'.format(X_test.shape))\n",
        "print('\\nResponse Variable Test Shape: {}'.format(y_test.shape))\n"
      ],
      "execution_count": 0,
      "outputs": [
        {
          "output_type": "stream",
          "text": [
            "--------------------------------------------------\n",
            "Explanatory Variables Training Shape: (404, 12)\n",
            "\n",
            "Response Variable Training Shape: (404,)\n",
            "--------------------------------------------------\n",
            "Explanatory Variables Test Shape: (102, 12)\n",
            "\n",
            "Response Variable Test Shape: (102,)\n"
          ],
          "name": "stdout"
        }
      ]
    },
    {
      "cell_type": "markdown",
      "metadata": {
        "id": "aEqCi7jTjcEy",
        "colab_type": "text"
      },
      "source": [
        "I used cross_val_score with 10 folds for the cross validation"
      ]
    },
    {
      "cell_type": "code",
      "metadata": {
        "id": "5o2HIykQjcEz",
        "colab_type": "code",
        "outputId": "df52934b-9d21-441e-804e-f995c799f72c",
        "colab": {}
      },
      "source": [
        "# Making an object instance \n",
        "lin_reg = LinearRegression(fit_intercept = True)\n",
        "\n",
        "# Training the model\n",
        "boston_model = lin_reg.fit(X_train, y_train)\n",
        "scores = cross_val_score(lin_reg, X_train, y_train, scoring = 'neg_mean_squared_error', cv = 10)\n",
        "rmse_scores = np.sqrt(-scores)\n",
        "\n",
        "#Printing RMSE Scores, Coefficients, and Intercept\n",
        "print('-' * 50)\n",
        "print('RMSE Scores for Cross-Validation:\\n')\n",
        "for score in rmse_scores:\n",
        "    print(score)\n",
        "print('-' * 50)\n",
        "print('Coefficients:\\n')    \n",
        "for coef in boston_model.coef_:\n",
        "    print(coef)\n",
        "\n",
        "print('-' * 50)\n",
        "print('Intercept:\\n') \n",
        "print(boston_model.intercept_)"
      ],
      "execution_count": 0,
      "outputs": [
        {
          "output_type": "stream",
          "text": [
            "--------------------------------------------------\n",
            "RMSE Scores for Cross-Validation:\n",
            "\n",
            "3.5333445324315287\n",
            "4.951299254108352\n",
            "5.827651315797572\n",
            "4.257321840177646\n",
            "4.566392901515548\n",
            "3.9907739728292877\n",
            "5.8093630291775264\n",
            "5.85910614233728\n",
            "5.7228084493886575\n",
            "3.5208851038687\n",
            "--------------------------------------------------\n",
            "Coefficients:\n",
            "\n",
            "-0.11755541273046474\n",
            "0.06017008529154487\n",
            "0.015369680387025953\n",
            "2.244581300576328\n",
            "-20.278077456961967\n",
            "2.982644795756847\n",
            "0.0061357093372219305\n",
            "-1.5510134167549678\n",
            "0.28556877123098695\n",
            "-0.011808106721756376\n",
            "-0.9345333309820326\n",
            "-0.5718108370745947\n",
            "--------------------------------------------------\n",
            "Intercept:\n",
            "\n",
            "46.54027873061543\n"
          ],
          "name": "stdout"
        }
      ]
    },
    {
      "cell_type": "markdown",
      "metadata": {
        "id": "gkRPfj3tjcE2",
        "colab_type": "text"
      },
      "source": [
        "The RMSE scores for the cross-validation again seem very high, with errors ranging from 3.5 thousand to 5.8 thousand. Also, the Nitric Oxide coefficent shows that as the median house price increases, the amount of nitric oxide decreases by a high magnitude.\n",
        "\n",
        "I next looked at the test set and created predictions to see how well the model would generalize."
      ]
    },
    {
      "cell_type": "code",
      "metadata": {
        "id": "IdCazbrpjcE2",
        "colab_type": "code",
        "outputId": "43424626-4d35-49f6-c4d8-bb9e3270b1f6",
        "colab": {}
      },
      "source": [
        "# Predicting from X_test data\n",
        "predict = boston_model.predict(X_test)\n",
        "\n",
        "# Plotting predicted vs actual values\n",
        "plt.scatter(y_test, predict, c='steelblue', s=10)\n",
        "plt.xlabel('Actual Values')\n",
        "plt.ylabel('Predictions')"
      ],
      "execution_count": 0,
      "outputs": [
        {
          "output_type": "execute_result",
          "data": {
            "text/plain": [
              "Text(0, 0.5, 'Predictions')"
            ]
          },
          "metadata": {
            "tags": []
          },
          "execution_count": 473
        },
        {
          "output_type": "display_data",
          "data": {
            "image/png": "[encoded data removed]",
            "text/plain": [
              "<Figure size 432x288 with 1 Axes>"
            ]
          },
          "metadata": {
            "tags": []
          }
        }
      ]
    },
    {
      "cell_type": "markdown",
      "metadata": {
        "id": "VeNCvIppjcE6",
        "colab_type": "text"
      },
      "source": [
        "It looks like there is quite a bit of variance between the predicted an actual values. I would expect to see more of a straight line if the predictions were more accurate."
      ]
    },
    {
      "cell_type": "code",
      "metadata": {
        "id": "5wqO16JvjcE7",
        "colab_type": "code",
        "outputId": "c43647d4-0bdf-488e-ed1e-6b09e9a3a1c0",
        "colab": {}
      },
      "source": [
        "# Printing RMSE and R^2 Scores\n",
        "print('-' * 50)\n",
        "print('RSME for y_test vs predicted values')\n",
        "print(sqrt(mean_squared_error(y_test, predict)))\n",
        "print('-' * 50)\n",
        "print('R^2 for y_test vs predicted values')\n",
        "print(r2_score(y_test, predict))"
      ],
      "execution_count": 0,
      "outputs": [
        {
          "output_type": "stream",
          "text": [
            "--------------------------------------------------\n",
            "RSME for y_test vs predicted values\n",
            "4.950529815346268\n",
            "--------------------------------------------------\n",
            "R^2 for y_test vs predicted values\n",
            "0.7520146430543377\n"
          ],
          "name": "stdout"
        }
      ]
    },
    {
      "cell_type": "markdown",
      "metadata": {
        "id": "kfp5KvSsjcE-",
        "colab_type": "text"
      },
      "source": [
        "Again, the RSME is high, but the R^2 is .75, which is isn't a bad score provided the residual plots look good. I plotted those next."
      ]
    },
    {
      "cell_type": "code",
      "metadata": {
        "id": "8qwAaAmhjcE-",
        "colab_type": "code",
        "outputId": "b6c4451b-347d-4dad-af26-719ffae31575",
        "colab": {}
      },
      "source": [
        "# Residual plot of training data\n",
        "plt.scatter(boston_model.predict(X_train), boston_model.predict(X_train) - y_train, color = 'steelblue', s = 10, alpha = .5)\n",
        "plt.hlines(0,-1,51)"
      ],
      "execution_count": 0,
      "outputs": [
        {
          "output_type": "execute_result",
          "data": {
            "text/plain": [
              "<matplotlib.collections.LineCollection at 0x224963a0dd8>"
            ]
          },
          "metadata": {
            "tags": []
          },
          "execution_count": 475
        },
        {
          "output_type": "display_data",
          "data": {
            "image/png": "[encoded data removed]",
            "text/plain": [
              "<Figure size 432x288 with 1 Axes>"
            ]
          },
          "metadata": {
            "tags": []
          }
        }
      ]
    },
    {
      "cell_type": "code",
      "metadata": {
        "id": "ngE0iFcejcFC",
        "colab_type": "code",
        "outputId": "9164bad4-8807-41a8-deeb-5f7c85b63984",
        "colab": {}
      },
      "source": [
        "# Residual plot of testing data\n",
        "plt.scatter(boston_model.predict(X_test), boston_model.predict(X_test) - y_test, color = 'steelblue', s =10, alpha = .5)\n",
        "plt.hlines(0,-1,51)"
      ],
      "execution_count": 0,
      "outputs": [
        {
          "output_type": "execute_result",
          "data": {
            "text/plain": [
              "<matplotlib.collections.LineCollection at 0x22496948c18>"
            ]
          },
          "metadata": {
            "tags": []
          },
          "execution_count": 476
        },
        {
          "output_type": "display_data",
          "data": {
            "image/png": "[encoded data removed]",
            "text/plain": [
              "<Figure size 432x288 with 1 Axes>"
            ]
          },
          "metadata": {
            "tags": []
          }
        }
      ]
    },
    {
      "cell_type": "markdown",
      "metadata": {
        "id": "3Y1whJSBjcFE",
        "colab_type": "text"
      },
      "source": [
        "The residual plots appear fairly random, but there are more point clustered above 0 than below, indicating a Y-axis imbalance. There is also a diagonal line which proabably means that there is a explanatory variable that is directly correlated with the response variable. Some additional EDA could help with this."
      ]
    },
    {
      "cell_type": "markdown",
      "metadata": {
        "id": "z9B_hQl1jcFE",
        "colab_type": "text"
      },
      "source": [
        "# Ridge Regression\n",
        "\n",
        "I decided to try ridge regression next, since it is supposed to be good for data with multicollinearity, which this data appears to have. I started with a learning curve to see how it compared to the linear regression model. Again I used 10-fold cross-validation."
      ]
    },
    {
      "cell_type": "code",
      "metadata": {
        "id": "sBgtj1wJjcFF",
        "colab_type": "code",
        "colab": {}
      },
      "source": [
        "# Calculating training and validation scores\n",
        "train_sizes, train_scores, validation_scores = learning_curve(\n",
        "                                                   estimator = Ridge(fit_intercept = True), X = X_scaled,\n",
        "                                                   y = y, train_sizes = train_sizes, cv = 10,\n",
        "                                                   scoring = 'neg_mean_squared_error')\n",
        "\n",
        "# Training and Validation score means\n",
        "train_scores_mean = -train_scores.mean(axis = 1)\n",
        "validation_scores_mean = -validation_scores.mean(axis = 1)"
      ],
      "execution_count": 0,
      "outputs": []
    },
    {
      "cell_type": "code",
      "metadata": {
        "id": "bfQxyUG4jcFI",
        "colab_type": "code",
        "outputId": "0b5a1a71-14a5-4149-8793-0cc83ba56351",
        "colab": {}
      },
      "source": [
        "# Seaborn style\n",
        "\n",
        "# Plotting training and validation errors\n",
        "sns.set(style='darkgrid')\n",
        "plt.plot(train_sizes, train_scores_mean, label = 'Training error')\n",
        "plt.plot(train_sizes, validation_scores_mean, label = 'Validation error')\n",
        "\n",
        "# Labeling plot\n",
        "plt.ylabel('MSE', fontsize = 14)\n",
        "plt.xlabel('Training set size', fontsize = 14)\n",
        "plt.title('Learning curves Boston Housing Ridge Regression', fontsize = 14, y = 1.03)\n",
        "plt.legend()\n",
        "plt.ylim(0,100)"
      ],
      "execution_count": 0,
      "outputs": [
        {
          "output_type": "execute_result",
          "data": {
            "text/plain": [
              "(0, 100)"
            ]
          },
          "metadata": {
            "tags": []
          },
          "execution_count": 478
        },
        {
          "output_type": "display_data",
          "data": {
            "image/png": "[encoded data removed]",
            "text/plain": [
              "<Figure size 432x288 with 1 Axes>"
            ]
          },
          "metadata": {
            "tags": []
          }
        }
      ]
    },
    {
      "cell_type": "markdown",
      "metadata": {
        "id": "7GLEeHvWjcFL",
        "colab_type": "text"
      },
      "source": [
        "While it still appears that the model still has both high bias and high variance, the variance has decreased significantly as the validation error is much lower."
      ]
    },
    {
      "cell_type": "code",
      "metadata": {
        "id": "75YnYcVyjcFM",
        "colab_type": "code",
        "outputId": "a7b8ac77-6587-41b6-9455-138491e8f9da",
        "colab": {}
      },
      "source": [
        "# Creating object instance of ridge regression\n",
        "ridge_reg = Ridge(fit_intercept = True)\n",
        "\n",
        "boston_model_ridge = ridge_reg.fit(X_train, y_train)\n",
        "scores = cross_val_score(ridge_reg, X_train, y_train, scoring = 'neg_mean_squared_error', cv = 10)\n",
        "rmse_scores = np.sqrt(-scores)\n",
        "\n",
        "print('-' * 50)\n",
        "print('RMSE Scores for Cross-Validation:\\n')\n",
        "for score in rmse_scores:\n",
        "    print(score)\n",
        "    \n",
        "print('-' * 50)\n",
        "print('Coefficients:\\n')    \n",
        "for coef in boston_model_ridge.coef_:\n",
        "    print(coef)\n",
        "\n",
        "print('-' * 50)\n",
        "print('Intercept:\\n') \n",
        "print(boston_model_ridge.intercept_)"
      ],
      "execution_count": 0,
      "outputs": [
        {
          "output_type": "stream",
          "text": [
            "--------------------------------------------------\n",
            "RMSE Scores for Cross-Validation:\n",
            "\n",
            "3.4058439514533636\n",
            "4.971645104384911\n",
            "5.930107743670047\n",
            "4.325309526436382\n",
            "4.659586431542625\n",
            "3.9743123781614544\n",
            "5.705599637870313\n",
            "5.8630231167717834\n",
            "5.80265895999025\n",
            "3.588965356460653\n",
            "--------------------------------------------------\n",
            "Coefficients:\n",
            "\n",
            "-0.11284714959827716\n",
            "0.06078409870495245\n",
            "-0.02518892636665695\n",
            "2.0504773462348855\n",
            "-11.236019446343414\n",
            "3.0500271396930723\n",
            "-0.0011993741250860405\n",
            "-1.4172973671600078\n",
            "0.2640864066984945\n",
            "-0.012692657719025308\n",
            "-0.8312470227281433\n",
            "-0.5842655105961462\n",
            "--------------------------------------------------\n",
            "Intercept:\n",
            "\n",
            "40.359097108315915\n"
          ],
          "name": "stdout"
        }
      ]
    },
    {
      "cell_type": "markdown",
      "metadata": {
        "id": "E49XRKg_jcFP",
        "colab_type": "text"
      },
      "source": [
        "The RMSE scores are similar to that of the linear regression, but the coefficient magnitude has decreased.\n",
        "\n",
        "Next I had the model make predictions for the test set and compared it to the actual values."
      ]
    },
    {
      "cell_type": "code",
      "metadata": {
        "id": "UDZt-FN0jcFP",
        "colab_type": "code",
        "outputId": "07aed7c1-396e-4de3-f9f6-86aa708ea0ca",
        "colab": {}
      },
      "source": [
        "# Making predictions using test set\n",
        "predict_ridge = boston_model_ridge.predict(X_test)\n",
        "\n",
        "# Plotting Predictions vs Actual Values\n",
        "plt.scatter(y_test, predict_ridge, c='steelblue', s=10)\n",
        "plt.xlabel('Actual Values')\n",
        "plt.ylabel('Predictions')"
      ],
      "execution_count": 0,
      "outputs": [
        {
          "output_type": "execute_result",
          "data": {
            "text/plain": [
              "Text(0, 0.5, 'Predictions')"
            ]
          },
          "metadata": {
            "tags": []
          },
          "execution_count": 326
        },
        {
          "output_type": "display_data",
          "data": {
            "image/png": "[encoded data removed]",
            "text/plain": [
              "<Figure size 432x288 with 1 Axes>"
            ]
          },
          "metadata": {
            "tags": []
          }
        }
      ]
    },
    {
      "cell_type": "markdown",
      "metadata": {
        "id": "SeIcs6OfjcFR",
        "colab_type": "text"
      },
      "source": [
        "This plot still looks very similar to the linear regression. I looked at the RMSE and R^2 scores to see if there was any improvement from the linear regression model."
      ]
    },
    {
      "cell_type": "code",
      "metadata": {
        "id": "KU-glTpxjcFS",
        "colab_type": "code",
        "outputId": "4a34ebe6-df3b-4c5a-81b5-879359e0b952",
        "colab": {}
      },
      "source": [
        "# Printing RMSE and R^2 Scores\n",
        "print('-' * 50)\n",
        "print('RSME for y_test vs predicted values')\n",
        "print(sqrt(mean_squared_error(y_test, predict_ridge)))\n",
        "print('-' * 50)\n",
        "print('R^2 for y_test vs predicted values')\n",
        "print(r2_score(y_test, predict_ridge))"
      ],
      "execution_count": 0,
      "outputs": [
        {
          "output_type": "stream",
          "text": [
            "--------------------------------------------------\n",
            "RSME for y_test vs predicted values\n",
            "4.93579010650017\n",
            "--------------------------------------------------\n",
            "R^2 for y_test vs predicted values\n",
            "0.7534891480270521\n"
          ],
          "name": "stdout"
        }
      ]
    },
    {
      "cell_type": "markdown",
      "metadata": {
        "id": "UHu9GACNjcFU",
        "colab_type": "text"
      },
      "source": [
        "There is no difference between the linear regression and ridge regression.I expect the residual plot to also look the same."
      ]
    },
    {
      "cell_type": "code",
      "metadata": {
        "id": "3DQnowj4jcFV",
        "colab_type": "code",
        "outputId": "675ca3e9-88d1-486b-a5df-2493681b2b53",
        "colab": {}
      },
      "source": [
        "# Residual plot for ridge regression\n",
        "plt.scatter(boston_model_ridge.predict(X_test), boston_model_ridge.predict(X_test) - y_test, color = 'steelblue', s =10, alpha = .5)\n",
        "plt.hlines(0,-1,51)"
      ],
      "execution_count": 0,
      "outputs": [
        {
          "output_type": "execute_result",
          "data": {
            "text/plain": [
              "<matplotlib.collections.LineCollection at 0x2248efb8320>"
            ]
          },
          "metadata": {
            "tags": []
          },
          "execution_count": 329
        },
        {
          "output_type": "display_data",
          "data": {
            "image/png": "[encoded data removed]",
            "text/plain": [
              "<Figure size 432x288 with 1 Axes>"
            ]
          },
          "metadata": {
            "tags": []
          }
        }
      ]
    },
    {
      "cell_type": "markdown",
      "metadata": {
        "id": "-paOK6LhjcFX",
        "colab_type": "text"
      },
      "source": [
        "Again there appears to be a Y-imbalance as well a explanatory variable that is directly correlated with the response variable (which makes sense since I have not removed any variables).\n",
        "\n",
        "The benefit of ridge regression is that the alpha parameter can be adjusted to achieve a better model. I wanted to find the best alpha for this model."
      ]
    },
    {
      "cell_type": "code",
      "metadata": {
        "id": "IU4efFSejcFX",
        "colab_type": "code",
        "outputId": "5b54cd92-3cca-4138-fb3f-de8f9cc03680",
        "colab": {}
      },
      "source": [
        "# Storing RidgeCV as an object instance - 10 fold CV\n",
        "ridge_cv = RidgeCV(alphas=[.0001, .001, .01, 0.1, 1.0, 10.0], cv=10)\n",
        "boston_model_cv = ridge_cv.fit(X_train, y_train)\n",
        "boston_model_cv.alpha_"
      ],
      "execution_count": 0,
      "outputs": [
        {
          "output_type": "execute_result",
          "data": {
            "text/plain": [
              "0.1"
            ]
          },
          "metadata": {
            "tags": []
          },
          "execution_count": 463
        }
      ]
    },
    {
      "cell_type": "code",
      "metadata": {
        "id": "0GgXvKaMjcFZ",
        "colab_type": "code",
        "outputId": "ad9d7cd5-d26c-457f-be8b-81b450d5c127",
        "colab": {}
      },
      "source": [
        "ridge_cv = RidgeCV(alphas=[0.05, .1, .15], cv=10)\n",
        "boston_model_cv = ridge_cv.fit(X_train, y_train)\n",
        "boston_model_cv.alpha_"
      ],
      "execution_count": 0,
      "outputs": [
        {
          "output_type": "execute_result",
          "data": {
            "text/plain": [
              "0.05"
            ]
          },
          "metadata": {
            "tags": []
          },
          "execution_count": 464
        }
      ]
    },
    {
      "cell_type": "code",
      "metadata": {
        "id": "SJ5uLOfrjcFd",
        "colab_type": "code",
        "outputId": "ccc2c6ff-8b87-484d-e505-79d53f6057ca",
        "colab": {}
      },
      "source": [
        "ridge_cv = RidgeCV(alphas=[0.02, .03, .04, .05, .06, .07, .08, .09], cv=10)\n",
        "boston_model_cv = ridge_cv.fit(X_train, y_train)\n",
        "boston_model_cv.alpha_"
      ],
      "execution_count": 0,
      "outputs": [
        {
          "output_type": "execute_result",
          "data": {
            "text/plain": [
              "0.07"
            ]
          },
          "metadata": {
            "tags": []
          },
          "execution_count": 465
        }
      ]
    },
    {
      "cell_type": "markdown",
      "metadata": {
        "id": "3aCz5QfojcFg",
        "colab_type": "text"
      },
      "source": [
        "Since .07 is a better alpha, I wanted to see if this would improve the model."
      ]
    },
    {
      "cell_type": "code",
      "metadata": {
        "id": "37YyhCivjcFh",
        "colab_type": "code",
        "outputId": "cede7ae1-7b7d-4fef-df56-d9d343e8a097",
        "colab": {}
      },
      "source": [
        "ridge_reg2 = Ridge(fit_intercept = True, alpha = .07)\n",
        "\n",
        "boston_model_ridge2 = ridge_reg2.fit(X_train, y_train)\n",
        "scores = cross_val_score(ridge_reg2, X_train, y_train, scoring = 'neg_mean_squared_error', cv = 10)\n",
        "rmse_scores2 = np.sqrt(-scores)\n",
        "\n",
        "print('-' * 50)\n",
        "print('RMSE Scores for Cross-Validation:\\n')\n",
        "for score in rmse_scores2:\n",
        "    print(score)\n",
        "    \n",
        "print('-' * 50)\n",
        "print('Coefficients:\\n')    \n",
        "for coef in boston_model_ridge2.coef_:\n",
        "    print(coef)\n",
        "\n",
        "print('-' * 50)\n",
        "print('Intercept:\\n') \n",
        "print(boston_model_ridge2.intercept_)"
      ],
      "execution_count": 0,
      "outputs": [
        {
          "output_type": "stream",
          "text": [
            "--------------------------------------------------\n",
            "RMSE Scores for Cross-Validation:\n",
            "\n",
            "3.5132064171741284\n",
            "4.953025350531747\n",
            "5.838772171934325\n",
            "4.261239026935747\n",
            "4.573851772204191\n",
            "3.986949785884568\n",
            "5.79247935369917\n",
            "5.852700692493799\n",
            "5.730261486677394\n",
            "3.524586396789518\n",
            "--------------------------------------------------\n",
            "Coefficients:\n",
            "\n",
            "-0.11698720318070573\n",
            "0.06023684649926799\n",
            "0.010510215765141447\n",
            "2.2244898169005225\n",
            "-19.197361682323375\n",
            "2.9921325230649405\n",
            "0.005244048453391756\n",
            "-1.5350592350116485\n",
            "0.2829365483396161\n",
            "-0.011911124401051144\n",
            "-0.9220720886356413\n",
            "-0.573192514475266\n",
            "--------------------------------------------------\n",
            "Intercept:\n",
            "\n",
            "45.78958103688795\n"
          ],
          "name": "stdout"
        }
      ]
    },
    {
      "cell_type": "code",
      "metadata": {
        "id": "wk10-Er6jcFk",
        "colab_type": "code",
        "outputId": "6366d69b-b659-4eb7-d6ff-4e3f6bbb6ad1",
        "colab": {}
      },
      "source": [
        "# Predicting values for testing set\n",
        "predict_ridge2 = boston_model_ridge2.predict(X_test)\n",
        "\n",
        "# Plotting actual vs predicted values\n",
        "plt.scatter(y_test, predict_ridge2, c='steelblue', s=10)\n",
        "plt.xlabel('Actual Values')\n",
        "plt.ylabel('Predictions')"
      ],
      "execution_count": 0,
      "outputs": [
        {
          "output_type": "execute_result",
          "data": {
            "text/plain": [
              "Text(0, 0.5, 'Predictions')"
            ]
          },
          "metadata": {
            "tags": []
          },
          "execution_count": 468
        },
        {
          "output_type": "display_data",
          "data": {
            "image/png": "[encoded data removed]",
            "text/plain": [
              "<Figure size 432x288 with 1 Axes>"
            ]
          },
          "metadata": {
            "tags": []
          }
        }
      ]
    },
    {
      "cell_type": "code",
      "metadata": {
        "id": "WWBSbHH2jcFm",
        "colab_type": "code",
        "outputId": "bd7cffe4-d059-47a5-c5c4-4d8916a52c8b",
        "colab": {}
      },
      "source": [
        "# Printing RMSE and R^2 Scores\n",
        "print('-' * 50)\n",
        "print('RSME for y_test vs predicted values')\n",
        "print(sqrt(mean_squared_error(y_test, predict_ridge2)))\n",
        "print('-' * 50)\n",
        "print('R^2 for y_test vs predicted values')\n",
        "print(r2_score(y_test, predict_ridge2))"
      ],
      "execution_count": 0,
      "outputs": [
        {
          "output_type": "stream",
          "text": [
            "--------------------------------------------------\n",
            "RSME for y_test vs predicted values\n",
            "4.945702150002294\n",
            "--------------------------------------------------\n",
            "R^2 for y_test vs predicted values\n",
            "0.7524980687155172\n"
          ],
          "name": "stdout"
        }
      ]
    },
    {
      "cell_type": "markdown",
      "metadata": {
        "id": "OT2quT43jcFq",
        "colab_type": "text"
      },
      "source": [
        "It actually seems like the model is a little worse.\n",
        "\n",
        "With the small amount of data in this set, there isn't really any difference between the two models. They both appear to underfit the data."
      ]
    },
    {
      "cell_type": "markdown",
      "metadata": {
        "id": "C6VvAAV2jcFr",
        "colab_type": "text"
      },
      "source": [
        "For fun, I decided to see if removing some variables would result in a better model. I read that the VIF (Variance Inflation Factor) measure could help find the variables that are multicollinear."
      ]
    },
    {
      "cell_type": "code",
      "metadata": {
        "id": "n7PEodFijcFr",
        "colab_type": "code",
        "outputId": "c1af3ffa-884e-4866-ca93-0f29c3bb90a2",
        "colab": {}
      },
      "source": [
        "# Fix for statsmodels module\n",
        "import sys\n",
        "sys.path.append('c:/users/mturn/anaconda3/lib/site-packages')\n",
        "\n",
        "# Calculating VIF for explanatory variables.\n",
        "from statsmodels.stats.outliers_influence import variance_inflation_factor\n",
        "X2 = X.assign(const=1)\n",
        "pd.Series([variance_inflation_factor(X2.values, i) \n",
        "               for i in range(X2.shape[1])], \n",
        "              index=X2.columns)"
      ],
      "execution_count": 0,
      "outputs": [
        {
          "output_type": "execute_result",
          "data": {
            "text/plain": [
              "crim         1.767486\n",
              "zn           2.298459\n",
              "indus        3.987181\n",
              "chas         1.071168\n",
              "nox          4.369093\n",
              "rooms        1.912532\n",
              "age          3.088232\n",
              "dis          3.954037\n",
              "rad          7.445301\n",
              "tax          9.002158\n",
              "ptratio      1.797060\n",
              "lstat        2.870777\n",
              "const      535.526619\n",
              "dtype: float64"
            ]
          },
          "metadata": {
            "tags": []
          },
          "execution_count": 335
        }
      ]
    },
    {
      "cell_type": "markdown",
      "metadata": {
        "id": "5J0hbUP1jcFu",
        "colab_type": "text"
      },
      "source": [
        "I wanted to see how the learning curve for a ridge regression would be affected by dropping the explanatory variables with the highest VIFs."
      ]
    },
    {
      "cell_type": "code",
      "metadata": {
        "id": "yZ0wwxWnjcFu",
        "colab_type": "code",
        "colab": {}
      },
      "source": [
        "# New dataframes for each data set to test\n",
        "X_ml = boston_input.drop(['mv'], axis=1)\n",
        "y = boston_input['mv']\n",
        "X_scaled_ml = pd.DataFrame(scaler.fit_transform(X_ml),columns = X_ml.columns)\n",
        "\n",
        "X_ml1 = boston_input.drop(['mv', 'tax'], axis=1)\n",
        "X_scaled_ml1 = pd.DataFrame(scaler.fit_transform(X_ml1),columns = X_ml1.columns)\n",
        "\n",
        "X_ml2 = boston_input.drop(['mv','tax', 'rad'], axis=1)\n",
        "X_scaled_ml2 = pd.DataFrame(scaler.fit_transform(X_ml2),columns = X_ml2.columns)\n",
        "\n",
        "X_ml3 = boston_input.drop(['mv','tax', 'rad', 'nox'], axis=1)\n",
        "X_scaled_ml3 = pd.DataFrame(scaler.fit_transform(X_ml3),columns = X_ml3.columns)\n",
        "\n",
        "X_ml4 = boston_input.drop(['mv','tax', 'rad', 'nox', 'indus'], axis=1)\n",
        "X_scaled_ml4 = pd.DataFrame(scaler.fit_transform(X_ml4),columns = X_ml4.columns)\n",
        "\n",
        "X_ml5 = boston_input.drop(['mv','tax', 'rad', 'nox', 'indus', 'dis'], axis=1)\n",
        "X_scaled_ml5 = pd.DataFrame(scaler.fit_transform(X_ml5),columns = X_ml5.columns)"
      ],
      "execution_count": 0,
      "outputs": []
    },
    {
      "cell_type": "code",
      "metadata": {
        "id": "AOjfRlajjcFw",
        "colab_type": "code",
        "colab": {}
      },
      "source": [
        "# Creating testing and validation error info for each dataframe\n",
        "\n",
        "train_sizes, train_scores, validation_scores = learning_curve(\n",
        "                                                   estimator = Ridge(fit_intercept=True), X = X_scaled_ml,\n",
        "                                                   y = y, train_sizes = train_sizes, cv = 10,\n",
        "                                                   scoring = 'neg_mean_squared_error')\n",
        "\n",
        "train_scores_mean = -train_scores.mean(axis = 1)\n",
        "validation_scores_mean = -validation_scores.mean(axis = 1)\n",
        "\n",
        "train_sizes, train_scores1, validation_scores1 = learning_curve(\n",
        "                                                   estimator = Ridge(fit_intercept=True), X = X_scaled_ml1,\n",
        "                                                   y = y, train_sizes = train_sizes, cv = 10,\n",
        "                                                   scoring = 'neg_mean_squared_error')\n",
        "\n",
        "train_scores_mean1 = -train_scores1.mean(axis = 1)\n",
        "validation_scores_mean1 = -validation_scores1.mean(axis = 1)\n",
        "\n",
        "train_sizes, train_scores2, validation_scores2 = learning_curve(\n",
        "                                                   estimator = Ridge(fit_intercept=True), X = X_scaled_ml2,\n",
        "                                                   y = y, train_sizes = train_sizes, cv = 10,\n",
        "                                                   scoring = 'neg_mean_squared_error')\n",
        "\n",
        "train_scores_mean2 = -train_scores2.mean(axis = 1)\n",
        "validation_scores_mean2 = -validation_scores2.mean(axis = 1)\n",
        "\n",
        "train_sizes, train_scores3, validation_scores3 = learning_curve(\n",
        "                                                   estimator = Ridge(fit_intercept=True), X = X_scaled_ml3,\n",
        "                                                   y = y, train_sizes = train_sizes, cv = 10,\n",
        "                                                   scoring = 'neg_mean_squared_error')\n",
        "\n",
        "train_scores_mean3 = -train_scores3.mean(axis = 1)\n",
        "validation_scores_mean3 = -validation_scores3.mean(axis = 1)\n",
        "\n",
        "train_sizes, train_scores4, validation_scores4 = learning_curve(\n",
        "                                                   estimator = Ridge(fit_intercept=True), X = X_scaled_ml4,\n",
        "                                                   y = y, train_sizes = train_sizes, cv = 10,\n",
        "                                                   scoring = 'neg_mean_squared_error')\n",
        "\n",
        "train_scores_mean4 = -train_scores4.mean(axis = 1)\n",
        "validation_scores_mean4 = -validation_scores4.mean(axis = 1)\n",
        "\n",
        "train_sizes, train_scores5, validation_scores5 = learning_curve(\n",
        "                                                   estimator = Ridge(fit_intercept=True), X = X_scaled_ml5,\n",
        "                                                   y = y, train_sizes = train_sizes, cv = 10,\n",
        "                                                   scoring = 'neg_mean_squared_error')\n",
        "\n",
        "train_scores_mean5 = -train_scores5.mean(axis = 1)\n",
        "validation_scores_mean5 = -validation_scores5.mean(axis = 1)"
      ],
      "execution_count": 0,
      "outputs": []
    },
    {
      "cell_type": "code",
      "metadata": {
        "id": "3VjLPaVdjcF0",
        "colab_type": "code",
        "outputId": "d36592e1-8318-45ab-8ae3-4d56c3ab21e8",
        "colab": {}
      },
      "source": [
        "#Plotting learning curves\n",
        "fig, ((ax1, ax2, ax3), (ax4, ax5, ax6)) = plt.subplots(\n",
        "                                    ncols=3,\n",
        "                                    nrows=2,\n",
        "                                    figsize=(15, 10))\n",
        "\n",
        "sns.set(style='darkgrid')\n",
        "fig.suptitle('Learning Curves With Selected Explanatory Variables', fontsize=16)\n",
        "fig.text(0.5, 0.04, 'Training Size', ha='center', va='center')\n",
        "fig.text(0.06, 0.5, 'MSE', ha='center', va='center', rotation='vertical')\n",
        "\n",
        "ax1.plot(train_sizes, train_scores_mean, label = 'Training error')\n",
        "ax1.plot(train_sizes, validation_scores_mean, label = 'Validation error')\n",
        "ax1.set_title('All Explanatory Variables')\n",
        "ax1.legend(loc = 'upper right')\n",
        "\n",
        "ax2.plot(train_sizes1, train_scores_mean1, label = 'Training error')\n",
        "ax2.plot(train_sizes1, validation_scores_mean1, label = 'Validation error')\n",
        "ax2.set_title('No \\'Tax\\'')\n",
        "ax2.legend(loc = 'upper right')\n",
        "\n",
        "ax3.plot(train_sizes2, train_scores_mean2, label = 'Training error')\n",
        "ax3.plot(train_sizes2, validation_scores_mean2, label = 'Validation error')\n",
        "ax3.set_title('No \\'Tax\\', \\'Rad\\'')\n",
        "ax3.legend(loc = 'upper right')\n",
        "\n",
        "ax4.plot(train_sizes3, train_scores_mean3, label = 'Training error')\n",
        "ax4.plot(train_sizes3, validation_scores_mean3, label = 'Validation error')\n",
        "ax4.set_title('No \\'Tax\\', \\'Rad\\', \\'Nox\\'')\n",
        "ax4.legend(loc = 'upper right')\n",
        "\n",
        "ax5.plot(train_sizes4, train_scores_mean4, label = 'Training error')\n",
        "ax5.plot(train_sizes4, validation_scores_mean4, label = 'Validation error')\n",
        "ax5.set_title('No \\'Tax\\', \\'Rad\\', \\'Nox\\', \\'Indus\\'')\n",
        "ax5.legend(loc = 'upper right')\n",
        "\n",
        "ax6.plot(train_sizes5, train_scores_mean5, label = 'Training error')\n",
        "ax6.plot(train_sizes5, validation_scores_mean5, label = 'Validation error')\n",
        "ax6.set_title('No \\'Tax\\', \\'Rad\\', \\'Nox\\', \\'Indus\\', \\'Dis\\'')\n",
        "ax6.legend(loc = 'upper right')"
      ],
      "execution_count": 0,
      "outputs": [
        {
          "output_type": "execute_result",
          "data": {
            "text/plain": [
              "<matplotlib.legend.Legend at 0x224962056a0>"
            ]
          },
          "metadata": {
            "tags": []
          },
          "execution_count": 471
        },
        {
          "output_type": "display_data",
          "data": {
            "image/png": "[encoded data removed]",
            "text/plain": [
              "<Figure size 1080x720 with 6 Axes>"
            ]
          },
          "metadata": {
            "tags": []
          }
        }
      ]
    },
    {
      "cell_type": "markdown",
      "metadata": {
        "id": "dEWDypjLjcF2",
        "colab_type": "text"
      },
      "source": [
        "Removing the property tax, proximity to a radial highway, and nitric oxide columns would result in the best model for this set."
      ]
    },
    {
      "cell_type": "markdown",
      "metadata": {
        "id": "6QdurUZ3jcF3",
        "colab_type": "text"
      },
      "source": [
        "# Conclusion\n",
        "\n",
        "Running the linear regression and ridge regression models for this data set resulted in almost exact results. The models both appear to be underfitting the data, so the company could make a few choices to help make a better model.\n",
        "\n",
        "1. If more instances were possible, the models may improve with more data\n",
        "\n",
        "2. Removing variables that are prefectly correlated with the dependent variable and removing multicollinear variables could improve the models.\n",
        "\n",
        "3. Choosing a more complex model that provides a better fir for the data."
      ]
    },
    {
      "cell_type": "code",
      "metadata": {
        "id": "guHhEtK1jcF3",
        "colab_type": "code",
        "colab": {}
      },
      "source": [
        ""
      ],
      "execution_count": 0,
      "outputs": []
    }
  ]
}