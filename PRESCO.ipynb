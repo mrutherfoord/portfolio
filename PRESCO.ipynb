{
  "nbformat": 4,
  "nbformat_minor": 0,
  "metadata": {
    "colab": {
      "name": "PRESCO.ipynb",
      "provenance": [],
      "collapsed_sections": [],
      "authorship_tag": "ABX9TyMKOyh/hRai8C4iznY6cUtK",
      "include_colab_link": true
    },
    "kernelspec": {
      "name": "python3",
      "display_name": "Python 3"
    }
  },
  "cells": [
    {
      "cell_type": "markdown",
      "metadata": {
        "id": "view-in-github",
        "colab_type": "text"
      },
      "source": [
        "<a href=\"https://colab.research.google.com/github/mrutherfoord/portfolio/blob/master/PRESCO.ipynb\" target=\"_parent\"><img src=\"https://colab.research.google.com/assets/colab-badge.svg\" alt=\"Open In Colab\"/></a>"
      ]
    },
    {
      "cell_type": "markdown",
      "metadata": {
        "id": "eFMTxLKSMI4T"
      },
      "source": [
        "#**Tracking Study Participants by HotSpot**\n",
        "\n",
        "Since zip codes have different populations, I decided to show hotspots by calulating the number of cases per capita."
      ]
    },
    {
      "cell_type": "code",
      "metadata": {
        "id": "DOjvYqG-qg3O"
      },
      "source": [
        "import pandas as pd"
      ],
      "execution_count": null,
      "outputs": []
    },
    {
      "cell_type": "code",
      "metadata": {
        "id": "Y-zV_AebqqBk"
      },
      "source": [
        "# Data pulled from the city of Chicago database\n",
        "df = pd.read_csv(\"COVID-19_Cases__Tests__and_Deaths_by_ZIP_Code.csv\")"
      ],
      "execution_count": null,
      "outputs": []
    },
    {
      "cell_type": "code",
      "metadata": {
        "id": "UwOJ83BXqyC0",
        "outputId": "dbd6cc4e-87fd-436d-8781-0fc809cefa8c",
        "colab": {
          "base_uri": "https://localhost:8080/",
          "height": 411
        }
      },
      "source": [
        "df.head()"
      ],
      "execution_count": null,
      "outputs": [
        {
          "output_type": "execute_result",
          "data": {
            "text/html": [
              "<div>\n",
              "<style scoped>\n",
              "    .dataframe tbody tr th:only-of-type {\n",
              "        vertical-align: middle;\n",
              "    }\n",
              "\n",
              "    .dataframe tbody tr th {\n",
              "        vertical-align: top;\n",
              "    }\n",
              "\n",
              "    .dataframe thead th {\n",
              "        text-align: right;\n",
              "    }\n",
              "</style>\n",
              "<table border=\"1\" class=\"dataframe\">\n",
              "  <thead>\n",
              "    <tr style=\"text-align: right;\">\n",
              "      <th></th>\n",
              "      <th>ZIP Code</th>\n",
              "      <th>Week Number</th>\n",
              "      <th>Week Start</th>\n",
              "      <th>Week End</th>\n",
              "      <th>Cases - Weekly</th>\n",
              "      <th>Cases - Cumulative</th>\n",
              "      <th>Case Rate - Weekly</th>\n",
              "      <th>Case Rate - Cumulative</th>\n",
              "      <th>Tests - Weekly</th>\n",
              "      <th>Tests - Cumulative</th>\n",
              "      <th>Test Rate - Weekly</th>\n",
              "      <th>Test Rate - Cumulative</th>\n",
              "      <th>Percent Tested Positive - Weekly</th>\n",
              "      <th>Percent Tested Positive - Cumulative</th>\n",
              "      <th>Deaths - Weekly</th>\n",
              "      <th>Deaths - Cumulative</th>\n",
              "      <th>Death Rate - Weekly</th>\n",
              "      <th>Death Rate - Cumulative</th>\n",
              "      <th>Population</th>\n",
              "      <th>Row ID</th>\n",
              "      <th>ZIP Code Location</th>\n",
              "    </tr>\n",
              "  </thead>\n",
              "  <tbody>\n",
              "    <tr>\n",
              "      <th>0</th>\n",
              "      <td>Unknown</td>\n",
              "      <td>10</td>\n",
              "      <td>03/01/2020</td>\n",
              "      <td>03/07/2020</td>\n",
              "      <td>NaN</td>\n",
              "      <td>NaN</td>\n",
              "      <td>NaN</td>\n",
              "      <td>NaN</td>\n",
              "      <td>5.0</td>\n",
              "      <td>5</td>\n",
              "      <td>0</td>\n",
              "      <td>0.0</td>\n",
              "      <td>0.0</td>\n",
              "      <td>0.0</td>\n",
              "      <td>0</td>\n",
              "      <td>0</td>\n",
              "      <td>0.0</td>\n",
              "      <td>0.0</td>\n",
              "      <td>0</td>\n",
              "      <td>Unknown-10</td>\n",
              "      <td>NaN</td>\n",
              "    </tr>\n",
              "    <tr>\n",
              "      <th>1</th>\n",
              "      <td>Unknown</td>\n",
              "      <td>11</td>\n",
              "      <td>03/08/2020</td>\n",
              "      <td>03/14/2020</td>\n",
              "      <td>NaN</td>\n",
              "      <td>NaN</td>\n",
              "      <td>NaN</td>\n",
              "      <td>NaN</td>\n",
              "      <td>100.0</td>\n",
              "      <td>105</td>\n",
              "      <td>0</td>\n",
              "      <td>0.0</td>\n",
              "      <td>0.1</td>\n",
              "      <td>0.1</td>\n",
              "      <td>0</td>\n",
              "      <td>0</td>\n",
              "      <td>0.0</td>\n",
              "      <td>0.0</td>\n",
              "      <td>0</td>\n",
              "      <td>Unknown-11</td>\n",
              "      <td>NaN</td>\n",
              "    </tr>\n",
              "    <tr>\n",
              "      <th>2</th>\n",
              "      <td>60613</td>\n",
              "      <td>28</td>\n",
              "      <td>07/05/2020</td>\n",
              "      <td>07/11/2020</td>\n",
              "      <td>24.0</td>\n",
              "      <td>472.0</td>\n",
              "      <td>48.0</td>\n",
              "      <td>941.9</td>\n",
              "      <td>1063.0</td>\n",
              "      <td>7019</td>\n",
              "      <td>2121</td>\n",
              "      <td>14006.3</td>\n",
              "      <td>0.0</td>\n",
              "      <td>0.1</td>\n",
              "      <td>0</td>\n",
              "      <td>31</td>\n",
              "      <td>0.0</td>\n",
              "      <td>61.9</td>\n",
              "      <td>50113</td>\n",
              "      <td>60613-28</td>\n",
              "      <td>POINT (-87.661343 41.953742)</td>\n",
              "    </tr>\n",
              "    <tr>\n",
              "      <th>3</th>\n",
              "      <td>60613</td>\n",
              "      <td>29</td>\n",
              "      <td>07/12/2020</td>\n",
              "      <td>07/18/2020</td>\n",
              "      <td>32.0</td>\n",
              "      <td>504.0</td>\n",
              "      <td>64.0</td>\n",
              "      <td>1005.7</td>\n",
              "      <td>1085.0</td>\n",
              "      <td>8104</td>\n",
              "      <td>2165</td>\n",
              "      <td>16171.5</td>\n",
              "      <td>0.0</td>\n",
              "      <td>0.1</td>\n",
              "      <td>0</td>\n",
              "      <td>31</td>\n",
              "      <td>0.0</td>\n",
              "      <td>61.9</td>\n",
              "      <td>50113</td>\n",
              "      <td>60613-29</td>\n",
              "      <td>POINT (-87.661343 41.953742)</td>\n",
              "    </tr>\n",
              "    <tr>\n",
              "      <th>4</th>\n",
              "      <td>60613</td>\n",
              "      <td>30</td>\n",
              "      <td>07/19/2020</td>\n",
              "      <td>07/25/2020</td>\n",
              "      <td>28.0</td>\n",
              "      <td>532.0</td>\n",
              "      <td>56.0</td>\n",
              "      <td>1061.6</td>\n",
              "      <td>966.0</td>\n",
              "      <td>9070</td>\n",
              "      <td>1928</td>\n",
              "      <td>18099.1</td>\n",
              "      <td>0.0</td>\n",
              "      <td>0.1</td>\n",
              "      <td>0</td>\n",
              "      <td>31</td>\n",
              "      <td>0.0</td>\n",
              "      <td>61.9</td>\n",
              "      <td>50113</td>\n",
              "      <td>60613-30</td>\n",
              "      <td>POINT (-87.661343 41.953742)</td>\n",
              "    </tr>\n",
              "  </tbody>\n",
              "</table>\n",
              "</div>"
            ],
            "text/plain": [
              "  ZIP Code  Week Number  ...      Row ID             ZIP Code Location\n",
              "0  Unknown           10  ...  Unknown-10                           NaN\n",
              "1  Unknown           11  ...  Unknown-11                           NaN\n",
              "2    60613           28  ...    60613-28  POINT (-87.661343 41.953742)\n",
              "3    60613           29  ...    60613-29  POINT (-87.661343 41.953742)\n",
              "4    60613           30  ...    60613-30  POINT (-87.661343 41.953742)\n",
              "\n",
              "[5 rows x 21 columns]"
            ]
          },
          "metadata": {
            "tags": []
          },
          "execution_count": 3
        }
      ]
    },
    {
      "cell_type": "code",
      "metadata": {
        "id": "Pwx3_aAnqzHx"
      },
      "source": [
        "# Calculated total cases per zip code by summing the cases per week.\n",
        "df_by_zip = df.groupby(\"ZIP Code\")[\"Cases - Weekly\"].sum().to_frame()"
      ],
      "execution_count": null,
      "outputs": []
    },
    {
      "cell_type": "code",
      "metadata": {
        "id": "V5BmLQR1rwhf",
        "outputId": "52443901-63b6-475f-cd01-f378e6f53e89",
        "colab": {
          "base_uri": "https://localhost:8080/",
          "height": 1000
        }
      },
      "source": [
        "df_by_zip"
      ],
      "execution_count": null,
      "outputs": [
        {
          "output_type": "execute_result",
          "data": {
            "text/html": [
              "<div>\n",
              "<style scoped>\n",
              "    .dataframe tbody tr th:only-of-type {\n",
              "        vertical-align: middle;\n",
              "    }\n",
              "\n",
              "    .dataframe tbody tr th {\n",
              "        vertical-align: top;\n",
              "    }\n",
              "\n",
              "    .dataframe thead th {\n",
              "        text-align: right;\n",
              "    }\n",
              "</style>\n",
              "<table border=\"1\" class=\"dataframe\">\n",
              "  <thead>\n",
              "    <tr style=\"text-align: right;\">\n",
              "      <th></th>\n",
              "      <th>Cases - Weekly</th>\n",
              "    </tr>\n",
              "    <tr>\n",
              "      <th>ZIP Code</th>\n",
              "      <th></th>\n",
              "    </tr>\n",
              "  </thead>\n",
              "  <tbody>\n",
              "    <tr>\n",
              "      <th>60601</th>\n",
              "      <td>318.0</td>\n",
              "    </tr>\n",
              "    <tr>\n",
              "      <th>60602</th>\n",
              "      <td>31.0</td>\n",
              "    </tr>\n",
              "    <tr>\n",
              "      <th>60603</th>\n",
              "      <td>14.0</td>\n",
              "    </tr>\n",
              "    <tr>\n",
              "      <th>60604</th>\n",
              "      <td>35.0</td>\n",
              "    </tr>\n",
              "    <tr>\n",
              "      <th>60605</th>\n",
              "      <td>613.0</td>\n",
              "    </tr>\n",
              "    <tr>\n",
              "      <th>60606</th>\n",
              "      <td>102.0</td>\n",
              "    </tr>\n",
              "    <tr>\n",
              "      <th>60607</th>\n",
              "      <td>1030.0</td>\n",
              "    </tr>\n",
              "    <tr>\n",
              "      <th>60608</th>\n",
              "      <td>3460.0</td>\n",
              "    </tr>\n",
              "    <tr>\n",
              "      <th>60609</th>\n",
              "      <td>3260.0</td>\n",
              "    </tr>\n",
              "    <tr>\n",
              "      <th>60610</th>\n",
              "      <td>1068.0</td>\n",
              "    </tr>\n",
              "    <tr>\n",
              "      <th>60611</th>\n",
              "      <td>738.0</td>\n",
              "    </tr>\n",
              "    <tr>\n",
              "      <th>60612</th>\n",
              "      <td>1286.0</td>\n",
              "    </tr>\n",
              "    <tr>\n",
              "      <th>60613</th>\n",
              "      <td>1261.0</td>\n",
              "    </tr>\n",
              "    <tr>\n",
              "      <th>60614</th>\n",
              "      <td>1785.0</td>\n",
              "    </tr>\n",
              "    <tr>\n",
              "      <th>60615</th>\n",
              "      <td>826.0</td>\n",
              "    </tr>\n",
              "    <tr>\n",
              "      <th>60616</th>\n",
              "      <td>1224.0</td>\n",
              "    </tr>\n",
              "    <tr>\n",
              "      <th>60617</th>\n",
              "      <td>3004.0</td>\n",
              "    </tr>\n",
              "    <tr>\n",
              "      <th>60618</th>\n",
              "      <td>3118.0</td>\n",
              "    </tr>\n",
              "    <tr>\n",
              "      <th>60619</th>\n",
              "      <td>1764.0</td>\n",
              "    </tr>\n",
              "    <tr>\n",
              "      <th>60620</th>\n",
              "      <td>2139.0</td>\n",
              "    </tr>\n",
              "    <tr>\n",
              "      <th>60621</th>\n",
              "      <td>921.0</td>\n",
              "    </tr>\n",
              "    <tr>\n",
              "      <th>60622</th>\n",
              "      <td>1734.0</td>\n",
              "    </tr>\n",
              "    <tr>\n",
              "      <th>60623</th>\n",
              "      <td>5524.0</td>\n",
              "    </tr>\n",
              "    <tr>\n",
              "      <th>60624</th>\n",
              "      <td>1456.0</td>\n",
              "    </tr>\n",
              "    <tr>\n",
              "      <th>60625</th>\n",
              "      <td>2885.0</td>\n",
              "    </tr>\n",
              "    <tr>\n",
              "      <th>60626</th>\n",
              "      <td>1765.0</td>\n",
              "    </tr>\n",
              "    <tr>\n",
              "      <th>60628</th>\n",
              "      <td>2153.0</td>\n",
              "    </tr>\n",
              "    <tr>\n",
              "      <th>60629</th>\n",
              "      <td>7313.0</td>\n",
              "    </tr>\n",
              "    <tr>\n",
              "      <th>60630</th>\n",
              "      <td>1947.0</td>\n",
              "    </tr>\n",
              "    <tr>\n",
              "      <th>60631</th>\n",
              "      <td>967.0</td>\n",
              "    </tr>\n",
              "    <tr>\n",
              "      <th>60632</th>\n",
              "      <td>6164.0</td>\n",
              "    </tr>\n",
              "    <tr>\n",
              "      <th>60633</th>\n",
              "      <td>529.0</td>\n",
              "    </tr>\n",
              "    <tr>\n",
              "      <th>60634</th>\n",
              "      <td>3626.0</td>\n",
              "    </tr>\n",
              "    <tr>\n",
              "      <th>60636</th>\n",
              "      <td>1334.0</td>\n",
              "    </tr>\n",
              "    <tr>\n",
              "      <th>60637</th>\n",
              "      <td>1184.0</td>\n",
              "    </tr>\n",
              "    <tr>\n",
              "      <th>60638</th>\n",
              "      <td>3068.0</td>\n",
              "    </tr>\n",
              "    <tr>\n",
              "      <th>60639</th>\n",
              "      <td>6140.0</td>\n",
              "    </tr>\n",
              "    <tr>\n",
              "      <th>60640</th>\n",
              "      <td>1673.0</td>\n",
              "    </tr>\n",
              "    <tr>\n",
              "      <th>60641</th>\n",
              "      <td>3454.0</td>\n",
              "    </tr>\n",
              "    <tr>\n",
              "      <th>60642</th>\n",
              "      <td>610.0</td>\n",
              "    </tr>\n",
              "    <tr>\n",
              "      <th>60643</th>\n",
              "      <td>1668.0</td>\n",
              "    </tr>\n",
              "    <tr>\n",
              "      <th>60644</th>\n",
              "      <td>1916.0</td>\n",
              "    </tr>\n",
              "    <tr>\n",
              "      <th>60645</th>\n",
              "      <td>1814.0</td>\n",
              "    </tr>\n",
              "    <tr>\n",
              "      <th>60646</th>\n",
              "      <td>833.0</td>\n",
              "    </tr>\n",
              "    <tr>\n",
              "      <th>60647</th>\n",
              "      <td>3212.0</td>\n",
              "    </tr>\n",
              "    <tr>\n",
              "      <th>60649</th>\n",
              "      <td>1394.0</td>\n",
              "    </tr>\n",
              "    <tr>\n",
              "      <th>60651</th>\n",
              "      <td>3187.0</td>\n",
              "    </tr>\n",
              "    <tr>\n",
              "      <th>60652</th>\n",
              "      <td>2265.0</td>\n",
              "    </tr>\n",
              "    <tr>\n",
              "      <th>60653</th>\n",
              "      <td>992.0</td>\n",
              "    </tr>\n",
              "    <tr>\n",
              "      <th>60654</th>\n",
              "      <td>612.0</td>\n",
              "    </tr>\n",
              "    <tr>\n",
              "      <th>60655</th>\n",
              "      <td>1086.0</td>\n",
              "    </tr>\n",
              "    <tr>\n",
              "      <th>60656</th>\n",
              "      <td>975.0</td>\n",
              "    </tr>\n",
              "    <tr>\n",
              "      <th>60657</th>\n",
              "      <td>1570.0</td>\n",
              "    </tr>\n",
              "    <tr>\n",
              "      <th>60659</th>\n",
              "      <td>1466.0</td>\n",
              "    </tr>\n",
              "    <tr>\n",
              "      <th>60660</th>\n",
              "      <td>1012.0</td>\n",
              "    </tr>\n",
              "    <tr>\n",
              "      <th>60661</th>\n",
              "      <td>268.0</td>\n",
              "    </tr>\n",
              "    <tr>\n",
              "      <th>60666</th>\n",
              "      <td>0.0</td>\n",
              "    </tr>\n",
              "    <tr>\n",
              "      <th>60707</th>\n",
              "      <td>835.0</td>\n",
              "    </tr>\n",
              "    <tr>\n",
              "      <th>60827</th>\n",
              "      <td>129.0</td>\n",
              "    </tr>\n",
              "    <tr>\n",
              "      <th>Unknown</th>\n",
              "      <td>574.0</td>\n",
              "    </tr>\n",
              "  </tbody>\n",
              "</table>\n",
              "</div>"
            ],
            "text/plain": [
              "          Cases - Weekly\n",
              "ZIP Code                \n",
              "60601              318.0\n",
              "60602               31.0\n",
              "60603               14.0\n",
              "60604               35.0\n",
              "60605              613.0\n",
              "60606              102.0\n",
              "60607             1030.0\n",
              "60608             3460.0\n",
              "60609             3260.0\n",
              "60610             1068.0\n",
              "60611              738.0\n",
              "60612             1286.0\n",
              "60613             1261.0\n",
              "60614             1785.0\n",
              "60615              826.0\n",
              "60616             1224.0\n",
              "60617             3004.0\n",
              "60618             3118.0\n",
              "60619             1764.0\n",
              "60620             2139.0\n",
              "60621              921.0\n",
              "60622             1734.0\n",
              "60623             5524.0\n",
              "60624             1456.0\n",
              "60625             2885.0\n",
              "60626             1765.0\n",
              "60628             2153.0\n",
              "60629             7313.0\n",
              "60630             1947.0\n",
              "60631              967.0\n",
              "60632             6164.0\n",
              "60633              529.0\n",
              "60634             3626.0\n",
              "60636             1334.0\n",
              "60637             1184.0\n",
              "60638             3068.0\n",
              "60639             6140.0\n",
              "60640             1673.0\n",
              "60641             3454.0\n",
              "60642              610.0\n",
              "60643             1668.0\n",
              "60644             1916.0\n",
              "60645             1814.0\n",
              "60646              833.0\n",
              "60647             3212.0\n",
              "60649             1394.0\n",
              "60651             3187.0\n",
              "60652             2265.0\n",
              "60653              992.0\n",
              "60654              612.0\n",
              "60655             1086.0\n",
              "60656              975.0\n",
              "60657             1570.0\n",
              "60659             1466.0\n",
              "60660             1012.0\n",
              "60661              268.0\n",
              "60666                0.0\n",
              "60707              835.0\n",
              "60827              129.0\n",
              "Unknown            574.0"
            ]
          },
          "metadata": {
            "tags": []
          },
          "execution_count": 40
        }
      ]
    },
    {
      "cell_type": "code",
      "metadata": {
        "id": "RlvwP1H2sI0A"
      },
      "source": [
        "#get list of zip codes\n",
        "unique_zip = df.drop_duplicates(subset=\"ZIP Code\", keep=\"last\")"
      ],
      "execution_count": null,
      "outputs": []
    },
    {
      "cell_type": "code",
      "metadata": {
        "id": "gzjp7HdIsS4x"
      },
      "source": [
        "# make dataframe with zip codes and population\n",
        "pop = unique_zip[[\"ZIP Code\", \"Population\"]]"
      ],
      "execution_count": null,
      "outputs": []
    },
    {
      "cell_type": "code",
      "metadata": {
        "id": "etv1jPx7vB8I",
        "outputId": "212e908e-efe3-4bfc-8acc-75f75f9736d6",
        "colab": {
          "base_uri": "https://localhost:8080/",
          "height": 204
        }
      },
      "source": [
        "pop.head()"
      ],
      "execution_count": null,
      "outputs": [
        {
          "output_type": "execute_result",
          "data": {
            "text/html": [
              "<div>\n",
              "<style scoped>\n",
              "    .dataframe tbody tr th:only-of-type {\n",
              "        vertical-align: middle;\n",
              "    }\n",
              "\n",
              "    .dataframe tbody tr th {\n",
              "        vertical-align: top;\n",
              "    }\n",
              "\n",
              "    .dataframe thead th {\n",
              "        text-align: right;\n",
              "    }\n",
              "</style>\n",
              "<table border=\"1\" class=\"dataframe\">\n",
              "  <thead>\n",
              "    <tr style=\"text-align: right;\">\n",
              "      <th></th>\n",
              "      <th>ZIP Code</th>\n",
              "      <th>Population</th>\n",
              "    </tr>\n",
              "  </thead>\n",
              "  <tbody>\n",
              "    <tr>\n",
              "      <th>1163</th>\n",
              "      <td>60623</td>\n",
              "      <td>85979</td>\n",
              "    </tr>\n",
              "    <tr>\n",
              "      <th>1191</th>\n",
              "      <td>60619</td>\n",
              "      <td>61258</td>\n",
              "    </tr>\n",
              "    <tr>\n",
              "      <th>1230</th>\n",
              "      <td>60617</td>\n",
              "      <td>82534</td>\n",
              "    </tr>\n",
              "    <tr>\n",
              "      <th>1250</th>\n",
              "      <td>60629</td>\n",
              "      <td>111850</td>\n",
              "    </tr>\n",
              "    <tr>\n",
              "      <th>1280</th>\n",
              "      <td>60610</td>\n",
              "      <td>39019</td>\n",
              "    </tr>\n",
              "  </tbody>\n",
              "</table>\n",
              "</div>"
            ],
            "text/plain": [
              "     ZIP Code  Population\n",
              "1163    60623       85979\n",
              "1191    60619       61258\n",
              "1230    60617       82534\n",
              "1250    60629      111850\n",
              "1280    60610       39019"
            ]
          },
          "metadata": {
            "tags": []
          },
          "execution_count": 31
        }
      ]
    },
    {
      "cell_type": "markdown",
      "metadata": {
        "id": "XwPbRaRF3Xop"
      },
      "source": [
        "Making small changes to end up with a dataframe that contains zip codes, total number of cases per zip, population of each zip, and how many cases in a zip code per 100 people."
      ]
    },
    {
      "cell_type": "code",
      "metadata": {
        "id": "5jixDLUivCkk"
      },
      "source": [
        "pop.set_index(\"ZIP Code\", inplace=True)"
      ],
      "execution_count": null,
      "outputs": []
    },
    {
      "cell_type": "code",
      "metadata": {
        "id": "OCSMWsLrwyg0"
      },
      "source": [
        "df_final = pd.merge(pop, df_by_zip, left_index=True, right_index=True)"
      ],
      "execution_count": null,
      "outputs": []
    },
    {
      "cell_type": "code",
      "metadata": {
        "id": "z45Gla0X1x0C"
      },
      "source": [
        "df_final['zip'] = df_final.index"
      ],
      "execution_count": null,
      "outputs": []
    },
    {
      "cell_type": "code",
      "metadata": {
        "id": "kkgHwiqd2RA2"
      },
      "source": [
        "df_final = df_final.reset_index(drop=True)"
      ],
      "execution_count": null,
      "outputs": []
    },
    {
      "cell_type": "code",
      "metadata": {
        "id": "0qQODw5H27_J"
      },
      "source": [
        "df_final['per_capita'] = df_final['Cases - Weekly'] / df_final['Population'] * 100"
      ],
      "execution_count": null,
      "outputs": []
    },
    {
      "cell_type": "code",
      "metadata": {
        "id": "u8bMfAH-4VrM",
        "outputId": "c515b629-8432-47da-8766-773f57ae310b",
        "colab": {
          "base_uri": "https://localhost:8080/",
          "height": 1000
        }
      },
      "source": [
        "df_final"
      ],
      "execution_count": null,
      "outputs": [
        {
          "output_type": "execute_result",
          "data": {
            "text/html": [
              "<div>\n",
              "<style scoped>\n",
              "    .dataframe tbody tr th:only-of-type {\n",
              "        vertical-align: middle;\n",
              "    }\n",
              "\n",
              "    .dataframe tbody tr th {\n",
              "        vertical-align: top;\n",
              "    }\n",
              "\n",
              "    .dataframe thead th {\n",
              "        text-align: right;\n",
              "    }\n",
              "</style>\n",
              "<table border=\"1\" class=\"dataframe\">\n",
              "  <thead>\n",
              "    <tr style=\"text-align: right;\">\n",
              "      <th></th>\n",
              "      <th>Population</th>\n",
              "      <th>Cases - Weekly</th>\n",
              "      <th>zip</th>\n",
              "      <th>per_capita</th>\n",
              "    </tr>\n",
              "  </thead>\n",
              "  <tbody>\n",
              "    <tr>\n",
              "      <th>0</th>\n",
              "      <td>14675</td>\n",
              "      <td>318.0</td>\n",
              "      <td>60601</td>\n",
              "      <td>2.166951</td>\n",
              "    </tr>\n",
              "    <tr>\n",
              "      <th>1</th>\n",
              "      <td>1244</td>\n",
              "      <td>31.0</td>\n",
              "      <td>60602</td>\n",
              "      <td>2.491961</td>\n",
              "    </tr>\n",
              "    <tr>\n",
              "      <th>2</th>\n",
              "      <td>1174</td>\n",
              "      <td>14.0</td>\n",
              "      <td>60603</td>\n",
              "      <td>1.192504</td>\n",
              "    </tr>\n",
              "    <tr>\n",
              "      <th>3</th>\n",
              "      <td>782</td>\n",
              "      <td>35.0</td>\n",
              "      <td>60604</td>\n",
              "      <td>4.475703</td>\n",
              "    </tr>\n",
              "    <tr>\n",
              "      <th>4</th>\n",
              "      <td>27519</td>\n",
              "      <td>613.0</td>\n",
              "      <td>60605</td>\n",
              "      <td>2.227552</td>\n",
              "    </tr>\n",
              "    <tr>\n",
              "      <th>5</th>\n",
              "      <td>3101</td>\n",
              "      <td>102.0</td>\n",
              "      <td>60606</td>\n",
              "      <td>3.289262</td>\n",
              "    </tr>\n",
              "    <tr>\n",
              "      <th>6</th>\n",
              "      <td>29591</td>\n",
              "      <td>1030.0</td>\n",
              "      <td>60607</td>\n",
              "      <td>3.480788</td>\n",
              "    </tr>\n",
              "    <tr>\n",
              "      <th>7</th>\n",
              "      <td>79205</td>\n",
              "      <td>3460.0</td>\n",
              "      <td>60608</td>\n",
              "      <td>4.368411</td>\n",
              "    </tr>\n",
              "    <tr>\n",
              "      <th>8</th>\n",
              "      <td>61495</td>\n",
              "      <td>3260.0</td>\n",
              "      <td>60609</td>\n",
              "      <td>5.301244</td>\n",
              "    </tr>\n",
              "    <tr>\n",
              "      <th>9</th>\n",
              "      <td>39019</td>\n",
              "      <td>1068.0</td>\n",
              "      <td>60610</td>\n",
              "      <td>2.737128</td>\n",
              "    </tr>\n",
              "    <tr>\n",
              "      <th>10</th>\n",
              "      <td>32426</td>\n",
              "      <td>738.0</td>\n",
              "      <td>60611</td>\n",
              "      <td>2.275951</td>\n",
              "    </tr>\n",
              "    <tr>\n",
              "      <th>11</th>\n",
              "      <td>34311</td>\n",
              "      <td>1286.0</td>\n",
              "      <td>60612</td>\n",
              "      <td>3.748069</td>\n",
              "    </tr>\n",
              "    <tr>\n",
              "      <th>12</th>\n",
              "      <td>50113</td>\n",
              "      <td>1261.0</td>\n",
              "      <td>60613</td>\n",
              "      <td>2.516313</td>\n",
              "    </tr>\n",
              "    <tr>\n",
              "      <th>13</th>\n",
              "      <td>71308</td>\n",
              "      <td>1785.0</td>\n",
              "      <td>60614</td>\n",
              "      <td>2.503225</td>\n",
              "    </tr>\n",
              "    <tr>\n",
              "      <th>14</th>\n",
              "      <td>41563</td>\n",
              "      <td>826.0</td>\n",
              "      <td>60615</td>\n",
              "      <td>1.987345</td>\n",
              "    </tr>\n",
              "    <tr>\n",
              "      <th>15</th>\n",
              "      <td>54464</td>\n",
              "      <td>1224.0</td>\n",
              "      <td>60616</td>\n",
              "      <td>2.247356</td>\n",
              "    </tr>\n",
              "    <tr>\n",
              "      <th>16</th>\n",
              "      <td>82534</td>\n",
              "      <td>3004.0</td>\n",
              "      <td>60617</td>\n",
              "      <td>3.639712</td>\n",
              "    </tr>\n",
              "    <tr>\n",
              "      <th>17</th>\n",
              "      <td>94395</td>\n",
              "      <td>3118.0</td>\n",
              "      <td>60618</td>\n",
              "      <td>3.303141</td>\n",
              "    </tr>\n",
              "    <tr>\n",
              "      <th>18</th>\n",
              "      <td>61258</td>\n",
              "      <td>1764.0</td>\n",
              "      <td>60619</td>\n",
              "      <td>2.879624</td>\n",
              "    </tr>\n",
              "    <tr>\n",
              "      <th>19</th>\n",
              "      <td>68096</td>\n",
              "      <td>2139.0</td>\n",
              "      <td>60620</td>\n",
              "      <td>3.141154</td>\n",
              "    </tr>\n",
              "    <tr>\n",
              "      <th>20</th>\n",
              "      <td>29042</td>\n",
              "      <td>921.0</td>\n",
              "      <td>60621</td>\n",
              "      <td>3.171269</td>\n",
              "    </tr>\n",
              "    <tr>\n",
              "      <th>21</th>\n",
              "      <td>52793</td>\n",
              "      <td>1734.0</td>\n",
              "      <td>60622</td>\n",
              "      <td>3.284526</td>\n",
              "    </tr>\n",
              "    <tr>\n",
              "      <th>22</th>\n",
              "      <td>85979</td>\n",
              "      <td>5524.0</td>\n",
              "      <td>60623</td>\n",
              "      <td>6.424825</td>\n",
              "    </tr>\n",
              "    <tr>\n",
              "      <th>23</th>\n",
              "      <td>36158</td>\n",
              "      <td>1456.0</td>\n",
              "      <td>60624</td>\n",
              "      <td>4.026771</td>\n",
              "    </tr>\n",
              "    <tr>\n",
              "      <th>24</th>\n",
              "      <td>79243</td>\n",
              "      <td>2885.0</td>\n",
              "      <td>60625</td>\n",
              "      <td>3.640700</td>\n",
              "    </tr>\n",
              "    <tr>\n",
              "      <th>25</th>\n",
              "      <td>49730</td>\n",
              "      <td>1765.0</td>\n",
              "      <td>60626</td>\n",
              "      <td>3.549165</td>\n",
              "    </tr>\n",
              "    <tr>\n",
              "      <th>26</th>\n",
              "      <td>66724</td>\n",
              "      <td>2153.0</td>\n",
              "      <td>60628</td>\n",
              "      <td>3.226725</td>\n",
              "    </tr>\n",
              "    <tr>\n",
              "      <th>27</th>\n",
              "      <td>111850</td>\n",
              "      <td>7313.0</td>\n",
              "      <td>60629</td>\n",
              "      <td>6.538221</td>\n",
              "    </tr>\n",
              "    <tr>\n",
              "      <th>28</th>\n",
              "      <td>57344</td>\n",
              "      <td>1947.0</td>\n",
              "      <td>60630</td>\n",
              "      <td>3.395299</td>\n",
              "    </tr>\n",
              "    <tr>\n",
              "      <th>29</th>\n",
              "      <td>29529</td>\n",
              "      <td>967.0</td>\n",
              "      <td>60631</td>\n",
              "      <td>3.274747</td>\n",
              "    </tr>\n",
              "    <tr>\n",
              "      <th>30</th>\n",
              "      <td>91039</td>\n",
              "      <td>6164.0</td>\n",
              "      <td>60632</td>\n",
              "      <td>6.770725</td>\n",
              "    </tr>\n",
              "    <tr>\n",
              "      <th>31</th>\n",
              "      <td>12871</td>\n",
              "      <td>529.0</td>\n",
              "      <td>60633</td>\n",
              "      <td>4.110015</td>\n",
              "    </tr>\n",
              "    <tr>\n",
              "      <th>32</th>\n",
              "      <td>75995</td>\n",
              "      <td>3626.0</td>\n",
              "      <td>60634</td>\n",
              "      <td>4.771367</td>\n",
              "    </tr>\n",
              "    <tr>\n",
              "      <th>33</th>\n",
              "      <td>32203</td>\n",
              "      <td>1334.0</td>\n",
              "      <td>60636</td>\n",
              "      <td>4.142471</td>\n",
              "    </tr>\n",
              "    <tr>\n",
              "      <th>34</th>\n",
              "      <td>47454</td>\n",
              "      <td>1184.0</td>\n",
              "      <td>60637</td>\n",
              "      <td>2.495048</td>\n",
              "    </tr>\n",
              "    <tr>\n",
              "      <th>35</th>\n",
              "      <td>58797</td>\n",
              "      <td>3068.0</td>\n",
              "      <td>60638</td>\n",
              "      <td>5.217953</td>\n",
              "    </tr>\n",
              "    <tr>\n",
              "      <th>36</th>\n",
              "      <td>90517</td>\n",
              "      <td>6140.0</td>\n",
              "      <td>60639</td>\n",
              "      <td>6.783256</td>\n",
              "    </tr>\n",
              "    <tr>\n",
              "      <th>37</th>\n",
              "      <td>69715</td>\n",
              "      <td>1673.0</td>\n",
              "      <td>60640</td>\n",
              "      <td>2.399770</td>\n",
              "    </tr>\n",
              "    <tr>\n",
              "      <th>38</th>\n",
              "      <td>71023</td>\n",
              "      <td>3454.0</td>\n",
              "      <td>60641</td>\n",
              "      <td>4.863213</td>\n",
              "    </tr>\n",
              "    <tr>\n",
              "      <th>39</th>\n",
              "      <td>20201</td>\n",
              "      <td>610.0</td>\n",
              "      <td>60642</td>\n",
              "      <td>3.019652</td>\n",
              "    </tr>\n",
              "    <tr>\n",
              "      <th>40</th>\n",
              "      <td>49870</td>\n",
              "      <td>1668.0</td>\n",
              "      <td>60643</td>\n",
              "      <td>3.344696</td>\n",
              "    </tr>\n",
              "    <tr>\n",
              "      <th>41</th>\n",
              "      <td>47712</td>\n",
              "      <td>1916.0</td>\n",
              "      <td>60644</td>\n",
              "      <td>4.015761</td>\n",
              "    </tr>\n",
              "    <tr>\n",
              "      <th>42</th>\n",
              "      <td>47732</td>\n",
              "      <td>1814.0</td>\n",
              "      <td>60645</td>\n",
              "      <td>3.800385</td>\n",
              "    </tr>\n",
              "    <tr>\n",
              "      <th>43</th>\n",
              "      <td>27987</td>\n",
              "      <td>833.0</td>\n",
              "      <td>60646</td>\n",
              "      <td>2.976382</td>\n",
              "    </tr>\n",
              "    <tr>\n",
              "      <th>44</th>\n",
              "      <td>87509</td>\n",
              "      <td>3212.0</td>\n",
              "      <td>60647</td>\n",
              "      <td>3.670480</td>\n",
              "    </tr>\n",
              "    <tr>\n",
              "      <th>45</th>\n",
              "      <td>46024</td>\n",
              "      <td>1394.0</td>\n",
              "      <td>60649</td>\n",
              "      <td>3.028855</td>\n",
              "    </tr>\n",
              "    <tr>\n",
              "      <th>46</th>\n",
              "      <td>63218</td>\n",
              "      <td>3187.0</td>\n",
              "      <td>60651</td>\n",
              "      <td>5.041286</td>\n",
              "    </tr>\n",
              "    <tr>\n",
              "      <th>47</th>\n",
              "      <td>43907</td>\n",
              "      <td>2265.0</td>\n",
              "      <td>60652</td>\n",
              "      <td>5.158631</td>\n",
              "    </tr>\n",
              "    <tr>\n",
              "      <th>48</th>\n",
              "      <td>31972</td>\n",
              "      <td>992.0</td>\n",
              "      <td>60653</td>\n",
              "      <td>3.102715</td>\n",
              "    </tr>\n",
              "    <tr>\n",
              "      <th>49</th>\n",
              "      <td>19135</td>\n",
              "      <td>612.0</td>\n",
              "      <td>60654</td>\n",
              "      <td>3.198328</td>\n",
              "    </tr>\n",
              "    <tr>\n",
              "      <th>50</th>\n",
              "      <td>28804</td>\n",
              "      <td>1086.0</td>\n",
              "      <td>60655</td>\n",
              "      <td>3.770310</td>\n",
              "    </tr>\n",
              "    <tr>\n",
              "      <th>51</th>\n",
              "      <td>27579</td>\n",
              "      <td>975.0</td>\n",
              "      <td>60656</td>\n",
              "      <td>3.535299</td>\n",
              "    </tr>\n",
              "    <tr>\n",
              "      <th>52</th>\n",
              "      <td>70052</td>\n",
              "      <td>1570.0</td>\n",
              "      <td>60657</td>\n",
              "      <td>2.241192</td>\n",
              "    </tr>\n",
              "    <tr>\n",
              "      <th>53</th>\n",
              "      <td>41068</td>\n",
              "      <td>1466.0</td>\n",
              "      <td>60659</td>\n",
              "      <td>3.569689</td>\n",
              "    </tr>\n",
              "    <tr>\n",
              "      <th>54</th>\n",
              "      <td>43242</td>\n",
              "      <td>1012.0</td>\n",
              "      <td>60660</td>\n",
              "      <td>2.340317</td>\n",
              "    </tr>\n",
              "    <tr>\n",
              "      <th>55</th>\n",
              "      <td>9926</td>\n",
              "      <td>268.0</td>\n",
              "      <td>60661</td>\n",
              "      <td>2.699980</td>\n",
              "    </tr>\n",
              "    <tr>\n",
              "      <th>56</th>\n",
              "      <td>0</td>\n",
              "      <td>0.0</td>\n",
              "      <td>60666</td>\n",
              "      <td>NaN</td>\n",
              "    </tr>\n",
              "    <tr>\n",
              "      <th>57</th>\n",
              "      <td>43019</td>\n",
              "      <td>835.0</td>\n",
              "      <td>60707</td>\n",
              "      <td>1.941003</td>\n",
              "    </tr>\n",
              "    <tr>\n",
              "      <th>58</th>\n",
              "      <td>28577</td>\n",
              "      <td>129.0</td>\n",
              "      <td>60827</td>\n",
              "      <td>0.451412</td>\n",
              "    </tr>\n",
              "    <tr>\n",
              "      <th>59</th>\n",
              "      <td>0</td>\n",
              "      <td>574.0</td>\n",
              "      <td>Unknown</td>\n",
              "      <td>inf</td>\n",
              "    </tr>\n",
              "  </tbody>\n",
              "</table>\n",
              "</div>"
            ],
            "text/plain": [
              "    Population  Cases - Weekly      zip  per_capita\n",
              "0        14675           318.0    60601    2.166951\n",
              "1         1244            31.0    60602    2.491961\n",
              "2         1174            14.0    60603    1.192504\n",
              "3          782            35.0    60604    4.475703\n",
              "4        27519           613.0    60605    2.227552\n",
              "5         3101           102.0    60606    3.289262\n",
              "6        29591          1030.0    60607    3.480788\n",
              "7        79205          3460.0    60608    4.368411\n",
              "8        61495          3260.0    60609    5.301244\n",
              "9        39019          1068.0    60610    2.737128\n",
              "10       32426           738.0    60611    2.275951\n",
              "11       34311          1286.0    60612    3.748069\n",
              "12       50113          1261.0    60613    2.516313\n",
              "13       71308          1785.0    60614    2.503225\n",
              "14       41563           826.0    60615    1.987345\n",
              "15       54464          1224.0    60616    2.247356\n",
              "16       82534          3004.0    60617    3.639712\n",
              "17       94395          3118.0    60618    3.303141\n",
              "18       61258          1764.0    60619    2.879624\n",
              "19       68096          2139.0    60620    3.141154\n",
              "20       29042           921.0    60621    3.171269\n",
              "21       52793          1734.0    60622    3.284526\n",
              "22       85979          5524.0    60623    6.424825\n",
              "23       36158          1456.0    60624    4.026771\n",
              "24       79243          2885.0    60625    3.640700\n",
              "25       49730          1765.0    60626    3.549165\n",
              "26       66724          2153.0    60628    3.226725\n",
              "27      111850          7313.0    60629    6.538221\n",
              "28       57344          1947.0    60630    3.395299\n",
              "29       29529           967.0    60631    3.274747\n",
              "30       91039          6164.0    60632    6.770725\n",
              "31       12871           529.0    60633    4.110015\n",
              "32       75995          3626.0    60634    4.771367\n",
              "33       32203          1334.0    60636    4.142471\n",
              "34       47454          1184.0    60637    2.495048\n",
              "35       58797          3068.0    60638    5.217953\n",
              "36       90517          6140.0    60639    6.783256\n",
              "37       69715          1673.0    60640    2.399770\n",
              "38       71023          3454.0    60641    4.863213\n",
              "39       20201           610.0    60642    3.019652\n",
              "40       49870          1668.0    60643    3.344696\n",
              "41       47712          1916.0    60644    4.015761\n",
              "42       47732          1814.0    60645    3.800385\n",
              "43       27987           833.0    60646    2.976382\n",
              "44       87509          3212.0    60647    3.670480\n",
              "45       46024          1394.0    60649    3.028855\n",
              "46       63218          3187.0    60651    5.041286\n",
              "47       43907          2265.0    60652    5.158631\n",
              "48       31972           992.0    60653    3.102715\n",
              "49       19135           612.0    60654    3.198328\n",
              "50       28804          1086.0    60655    3.770310\n",
              "51       27579           975.0    60656    3.535299\n",
              "52       70052          1570.0    60657    2.241192\n",
              "53       41068          1466.0    60659    3.569689\n",
              "54       43242          1012.0    60660    2.340317\n",
              "55        9926           268.0    60661    2.699980\n",
              "56           0             0.0    60666         NaN\n",
              "57       43019           835.0    60707    1.941003\n",
              "58       28577           129.0    60827    0.451412\n",
              "59           0           574.0  Unknown         inf"
            ]
          },
          "metadata": {
            "tags": []
          },
          "execution_count": 61
        }
      ]
    },
    {
      "cell_type": "code",
      "metadata": {
        "id": "SCcCVIjo4zra"
      },
      "source": [
        "df_final['per_capita'] = df_final['per_capita'].fillna(0)"
      ],
      "execution_count": null,
      "outputs": []
    },
    {
      "cell_type": "code",
      "metadata": {
        "id": "6xJLytC95CZF"
      },
      "source": [
        "# final dataframe to import to Tableau\n",
        "df_final.to_csv(\"COVID_hotspots_per_capita.csv\")"
      ],
      "execution_count": null,
      "outputs": []
    },
    {
      "cell_type": "markdown",
      "metadata": {
        "id": "O6VyAHrv4czc"
      },
      "source": [
        "#**Tracking Participants Through the Study**"
      ]
    },
    {
      "cell_type": "code",
      "metadata": {
        "id": "b_ODUz9n6ru_"
      },
      "source": [
        "import pandas as pd\n",
        "import numpy as np"
      ],
      "execution_count": 46,
      "outputs": []
    },
    {
      "cell_type": "code",
      "metadata": {
        "id": "o1ZsU15XDNmV"
      },
      "source": [
        "cases = pd.read_csv(\"PRESCO data.csv\")"
      ],
      "execution_count": 47,
      "outputs": []
    },
    {
      "cell_type": "code",
      "metadata": {
        "id": "v45gqTFxLp2u"
      },
      "source": [
        "cases = cases.fillna(0)"
      ],
      "execution_count": 48,
      "outputs": []
    },
    {
      "cell_type": "code",
      "metadata": {
        "id": "GQ05kMpTDVzS",
        "outputId": "504a81e5-7d07-45ba-8eb9-e3f827cb39c2",
        "colab": {
          "base_uri": "https://localhost:8080/",
          "height": 0
        }
      },
      "source": [
        "cases.head()"
      ],
      "execution_count": 49,
      "outputs": [
        {
          "output_type": "execute_result",
          "data": {
            "text/html": [
              "<div>\n",
              "<style scoped>\n",
              "    .dataframe tbody tr th:only-of-type {\n",
              "        vertical-align: middle;\n",
              "    }\n",
              "\n",
              "    .dataframe tbody tr th {\n",
              "        vertical-align: top;\n",
              "    }\n",
              "\n",
              "    .dataframe thead th {\n",
              "        text-align: right;\n",
              "    }\n",
              "</style>\n",
              "<table border=\"1\" class=\"dataframe\">\n",
              "  <thead>\n",
              "    <tr style=\"text-align: right;\">\n",
              "      <th></th>\n",
              "      <th>record_id</th>\n",
              "      <th>pt_zipcode</th>\n",
              "      <th>es_screen_dt</th>\n",
              "      <th>es_consent_dt</th>\n",
              "      <th>hospAdmitYn_V1</th>\n",
              "      <th>hospAdmitDt_V1</th>\n",
              "      <th>v1_status</th>\n",
              "      <th>v1_biospecimen_dt</th>\n",
              "      <th>v1_samples_yn</th>\n",
              "      <th>v1_samples_process_dt</th>\n",
              "      <th>v1_specimen_ship_dt</th>\n",
              "      <th>v1_ehr_data_status</th>\n",
              "      <th>v1_entry_dt</th>\n",
              "      <th>v2_status</th>\n",
              "      <th>v2_biospecimen_yn</th>\n",
              "      <th>v2_biospecimen_dt</th>\n",
              "      <th>v2_samples_yn</th>\n",
              "      <th>v2_samples_process_dt</th>\n",
              "      <th>v2_specimen_ship_dt</th>\n",
              "      <th>v2_ehr_data_status</th>\n",
              "      <th>v2_entry_dt</th>\n",
              "      <th>v3_status</th>\n",
              "      <th>v3_icu_admit_dt</th>\n",
              "      <th>v3_biospecimen_yn</th>\n",
              "      <th>v3_biospecimen_dt</th>\n",
              "      <th>v3_samples_yn</th>\n",
              "      <th>v3_samples_process_dt</th>\n",
              "      <th>v3_specimen_ship_dt</th>\n",
              "      <th>v3_ehr_data_status</th>\n",
              "      <th>v3_entry_dt</th>\n",
              "      <th>v4_status</th>\n",
              "      <th>v4_dt</th>\n",
              "      <th>v4_samples_yn</th>\n",
              "      <th>v4_biospecimen_yn</th>\n",
              "      <th>v4_samples_process_dt</th>\n",
              "      <th>v4_specimen_ship_dt</th>\n",
              "      <th>v4_ehr_data_status</th>\n",
              "      <th>v4_entry_dt</th>\n",
              "      <th>v5_status</th>\n",
              "      <th>v5_biospecimen_yn</th>\n",
              "      <th>v5_biospecimen_dt</th>\n",
              "      <th>v5_samples_yn</th>\n",
              "      <th>v5_samples_process_dt</th>\n",
              "      <th>v5_specimen_ship_dt</th>\n",
              "      <th>v5_ehr_data_status</th>\n",
              "      <th>v5_entry_dt</th>\n",
              "    </tr>\n",
              "  </thead>\n",
              "  <tbody>\n",
              "    <tr>\n",
              "      <th>0</th>\n",
              "      <td>3</td>\n",
              "      <td>60619.0</td>\n",
              "      <td>5/28/2020</td>\n",
              "      <td>5/28/2020</td>\n",
              "      <td>Yes</td>\n",
              "      <td>5/28/2020</td>\n",
              "      <td>Completed</td>\n",
              "      <td>5/29/2020</td>\n",
              "      <td>Yes</td>\n",
              "      <td>5/29/2020</td>\n",
              "      <td>5/29/2020</td>\n",
              "      <td>Yes (Complete)</td>\n",
              "      <td>7/13/2020</td>\n",
              "      <td>Not applicable</td>\n",
              "      <td>0</td>\n",
              "      <td>0</td>\n",
              "      <td>0</td>\n",
              "      <td>0</td>\n",
              "      <td>0</td>\n",
              "      <td>Yes (Complete)</td>\n",
              "      <td>10/20/2020</td>\n",
              "      <td>Not applicable</td>\n",
              "      <td>0</td>\n",
              "      <td>0</td>\n",
              "      <td>0</td>\n",
              "      <td>0</td>\n",
              "      <td>0</td>\n",
              "      <td>0</td>\n",
              "      <td>0</td>\n",
              "      <td>0</td>\n",
              "      <td>Not applicable</td>\n",
              "      <td>5/29/2020</td>\n",
              "      <td>0</td>\n",
              "      <td>0</td>\n",
              "      <td>0</td>\n",
              "      <td>0</td>\n",
              "      <td>0</td>\n",
              "      <td>0</td>\n",
              "      <td>0</td>\n",
              "      <td>0</td>\n",
              "      <td>0</td>\n",
              "      <td>0</td>\n",
              "      <td>0</td>\n",
              "      <td>0</td>\n",
              "      <td>0</td>\n",
              "      <td>0</td>\n",
              "    </tr>\n",
              "    <tr>\n",
              "      <th>1</th>\n",
              "      <td>4</td>\n",
              "      <td>60616.0</td>\n",
              "      <td>6/1/2020</td>\n",
              "      <td>6/1/2020</td>\n",
              "      <td>Yes</td>\n",
              "      <td>5/29/2020</td>\n",
              "      <td>Completed</td>\n",
              "      <td>6/2/2020</td>\n",
              "      <td>Yes</td>\n",
              "      <td>6/2/2020</td>\n",
              "      <td>6/2/2020</td>\n",
              "      <td>Yes (Complete)</td>\n",
              "      <td>6/30/2020</td>\n",
              "      <td>Not applicable</td>\n",
              "      <td>0</td>\n",
              "      <td>0</td>\n",
              "      <td>0</td>\n",
              "      <td>0</td>\n",
              "      <td>0</td>\n",
              "      <td>Yes (Complete)</td>\n",
              "      <td>10/20/2020</td>\n",
              "      <td>Not applicable</td>\n",
              "      <td>0</td>\n",
              "      <td>0</td>\n",
              "      <td>0</td>\n",
              "      <td>0</td>\n",
              "      <td>0</td>\n",
              "      <td>0</td>\n",
              "      <td>0</td>\n",
              "      <td>0</td>\n",
              "      <td>Not applicable</td>\n",
              "      <td>6/2/2020</td>\n",
              "      <td>0</td>\n",
              "      <td>0</td>\n",
              "      <td>0</td>\n",
              "      <td>0</td>\n",
              "      <td>0</td>\n",
              "      <td>0</td>\n",
              "      <td>Completed</td>\n",
              "      <td>Yes</td>\n",
              "      <td>9/14/2020</td>\n",
              "      <td>Yes</td>\n",
              "      <td>9/14/2020</td>\n",
              "      <td>9/14/2020</td>\n",
              "      <td>Partial (In progress)</td>\n",
              "      <td>0</td>\n",
              "    </tr>\n",
              "    <tr>\n",
              "      <th>2</th>\n",
              "      <td>5</td>\n",
              "      <td>60651.0</td>\n",
              "      <td>6/3/2020</td>\n",
              "      <td>6/4/2020</td>\n",
              "      <td>Yes</td>\n",
              "      <td>6/3/2020</td>\n",
              "      <td>Completed</td>\n",
              "      <td>6/4/2020</td>\n",
              "      <td>Yes</td>\n",
              "      <td>6/4/2020</td>\n",
              "      <td>6/4/2020</td>\n",
              "      <td>Yes (Complete)</td>\n",
              "      <td>7/13/2020</td>\n",
              "      <td>Completed</td>\n",
              "      <td>Yes</td>\n",
              "      <td>6/5/2020</td>\n",
              "      <td>Yes</td>\n",
              "      <td>6/5/2020</td>\n",
              "      <td>6/5/2020</td>\n",
              "      <td>Yes (Complete)</td>\n",
              "      <td>7/13/2020</td>\n",
              "      <td>Not applicable</td>\n",
              "      <td>0</td>\n",
              "      <td>0</td>\n",
              "      <td>0</td>\n",
              "      <td>0</td>\n",
              "      <td>0</td>\n",
              "      <td>0</td>\n",
              "      <td>0</td>\n",
              "      <td>0</td>\n",
              "      <td>Completed, but missed biospecimen collection</td>\n",
              "      <td>6/17/2020</td>\n",
              "      <td>0</td>\n",
              "      <td>No</td>\n",
              "      <td>0</td>\n",
              "      <td>0</td>\n",
              "      <td>Yes (Complete)</td>\n",
              "      <td>9/3/2020</td>\n",
              "      <td>0</td>\n",
              "      <td>0</td>\n",
              "      <td>0</td>\n",
              "      <td>0</td>\n",
              "      <td>0</td>\n",
              "      <td>0</td>\n",
              "      <td>0</td>\n",
              "      <td>0</td>\n",
              "    </tr>\n",
              "    <tr>\n",
              "      <th>3</th>\n",
              "      <td>6</td>\n",
              "      <td>60636.0</td>\n",
              "      <td>6/3/2020</td>\n",
              "      <td>6/3/2020</td>\n",
              "      <td>Yes</td>\n",
              "      <td>6/2/2020</td>\n",
              "      <td>Completed</td>\n",
              "      <td>6/4/2020</td>\n",
              "      <td>Yes</td>\n",
              "      <td>6/4/2020</td>\n",
              "      <td>6/4/2020</td>\n",
              "      <td>Yes (Complete)</td>\n",
              "      <td>6/29/2020</td>\n",
              "      <td>Completed</td>\n",
              "      <td>Yes</td>\n",
              "      <td>6/5/2020</td>\n",
              "      <td>Yes</td>\n",
              "      <td>6/5/2020</td>\n",
              "      <td>6/5/2020</td>\n",
              "      <td>Yes (Complete)</td>\n",
              "      <td>6/29/2020</td>\n",
              "      <td>Not applicable</td>\n",
              "      <td>0</td>\n",
              "      <td>0</td>\n",
              "      <td>0</td>\n",
              "      <td>0</td>\n",
              "      <td>0</td>\n",
              "      <td>0</td>\n",
              "      <td>0</td>\n",
              "      <td>0</td>\n",
              "      <td>Completed, but missed biospecimen collection</td>\n",
              "      <td>6/8/2020</td>\n",
              "      <td>0</td>\n",
              "      <td>No</td>\n",
              "      <td>0</td>\n",
              "      <td>0</td>\n",
              "      <td>Yes (Complete)</td>\n",
              "      <td>6/29/2020</td>\n",
              "      <td>0</td>\n",
              "      <td>0</td>\n",
              "      <td>0</td>\n",
              "      <td>0</td>\n",
              "      <td>0</td>\n",
              "      <td>0</td>\n",
              "      <td>0</td>\n",
              "      <td>0</td>\n",
              "    </tr>\n",
              "    <tr>\n",
              "      <th>4</th>\n",
              "      <td>7</td>\n",
              "      <td>0.0</td>\n",
              "      <td>6/3/2020</td>\n",
              "      <td>6/3/2020</td>\n",
              "      <td>Yes</td>\n",
              "      <td>6/3/2020</td>\n",
              "      <td>Completed</td>\n",
              "      <td>6/4/2020</td>\n",
              "      <td>Yes</td>\n",
              "      <td>6/4/2020</td>\n",
              "      <td>6/4/2020</td>\n",
              "      <td>Yes (Complete)</td>\n",
              "      <td>7/14/2020</td>\n",
              "      <td>Completed</td>\n",
              "      <td>Yes</td>\n",
              "      <td>6/5/2020</td>\n",
              "      <td>Yes</td>\n",
              "      <td>6/5/2020</td>\n",
              "      <td>6/5/2020</td>\n",
              "      <td>Yes (Complete)</td>\n",
              "      <td>7/14/2020</td>\n",
              "      <td>Completed</td>\n",
              "      <td>0</td>\n",
              "      <td>Yes</td>\n",
              "      <td>6/23/2020</td>\n",
              "      <td>Yes</td>\n",
              "      <td>6/23/2020</td>\n",
              "      <td>6/23/2020</td>\n",
              "      <td>Yes (Complete)</td>\n",
              "      <td>8/25/2020</td>\n",
              "      <td>Completed, but missed biospecimen collection</td>\n",
              "      <td>7/3/2020</td>\n",
              "      <td>0</td>\n",
              "      <td>No</td>\n",
              "      <td>0</td>\n",
              "      <td>0</td>\n",
              "      <td>Yes (Complete)</td>\n",
              "      <td>9/3/2020</td>\n",
              "      <td>Not completed</td>\n",
              "      <td>0</td>\n",
              "      <td>0</td>\n",
              "      <td>0</td>\n",
              "      <td>0</td>\n",
              "      <td>0</td>\n",
              "      <td>0</td>\n",
              "      <td>0</td>\n",
              "    </tr>\n",
              "  </tbody>\n",
              "</table>\n",
              "</div>"
            ],
            "text/plain": [
              "   record_id  pt_zipcode  ...     v5_ehr_data_status v5_entry_dt\n",
              "0          3     60619.0  ...                      0           0\n",
              "1          4     60616.0  ...  Partial (In progress)           0\n",
              "2          5     60651.0  ...                      0           0\n",
              "3          6     60636.0  ...                      0           0\n",
              "4          7         0.0  ...                      0           0\n",
              "\n",
              "[5 rows x 46 columns]"
            ]
          },
          "metadata": {
            "tags": []
          },
          "execution_count": 49
        }
      ]
    },
    {
      "cell_type": "code",
      "metadata": {
        "id": "8-2Zc3ttVe9R",
        "outputId": "a58db338-3510-481e-dc4f-a21074e69cc0",
        "colab": {
          "base_uri": "https://localhost:8080/"
        }
      },
      "source": [
        "print(cases['hospAdmitYn_V1'].value_counts())\n",
        "print(cases['v3_status'].value_counts())"
      ],
      "execution_count": 50,
      "outputs": [
        {
          "output_type": "stream",
          "text": [
            "Yes    51\n",
            "No      7\n",
            "Name: hospAdmitYn_V1, dtype: int64\n",
            "Not applicable    48\n",
            "0                  6\n",
            "Completed          4\n",
            "Name: v3_status, dtype: int64\n"
          ],
          "name": "stdout"
        }
      ]
    },
    {
      "cell_type": "code",
      "metadata": {
        "id": "DqquGquM9o1_",
        "outputId": "639448e8-853d-42df-f915-c2c08e8922a1",
        "colab": {
          "base_uri": "https://localhost:8080/"
        }
      },
      "source": [
        "# add participant type based on conditions.\n",
        "\n",
        "\n",
        "conditions = [(cases['hospAdmitYn_V1'] == 'No'), # Ambulatory\n",
        "              (cases['hospAdmitYn_V1'] == 'Yes') & (cases['v3_status'] == 'Completed'), # Progressor\n",
        "              ((cases['hospAdmitYn_V1'] == 'Yes') & (cases['v3_status'] == 'Not applicable')) |\n",
        "              ((cases['hospAdmitYn_V1'] == 'Yes') & (cases['v3_status'] == 0))]  # Non-Progressor\n",
        "\n",
        "# create a list of the values we want to assign for each condition\n",
        "values = ['Ambulatory', 'Progressor', 'Non-Progressor']\n",
        "\n",
        "# create a new column and use np.select to assign values to it using our lists as arguments\n",
        "cases['participant_type'] = np.select(conditions, values)\n",
        "\n",
        "# display updated DataFrame\n",
        "print(cases['participant_type'].value_counts())\n"
      ],
      "execution_count": 51,
      "outputs": [
        {
          "output_type": "stream",
          "text": [
            "Non-Progressor    47\n",
            "Ambulatory         7\n",
            "Progressor         4\n",
            "Name: participant_type, dtype: int64\n"
          ],
          "name": "stdout"
        }
      ]
    },
    {
      "cell_type": "markdown",
      "metadata": {
        "id": "XpAcQ2hn8rZV"
      },
      "source": [
        "# Study Visit 1"
      ]
    },
    {
      "cell_type": "code",
      "metadata": {
        "id": "28MlOIMsN4dj",
        "outputId": "17f508ac-d1a7-48d8-cd29-174c18fbe330",
        "colab": {
          "base_uri": "https://localhost:8080/"
        }
      },
      "source": [
        "# Status 1 complete based on conditions\n",
        "\n",
        "conditions = [((cases['v1_status'] == 'Completed') & (cases['v1_biospecimen_dt'] != 0)) |\n",
        "              ((cases['v1_status'] == 'Completed, but missed biospecimen collection') & (cases['v1_biospecimen_dt'] != 0)) |\n",
        "              ((cases['v1_status'] == 0) & (cases['v1_biospecimen_dt'] != 0) & (cases['v1_samples_process_dt'] != 0)\n",
        "              & (cases['v1_specimen_ship_dt'] != 0) & (cases['v1_entry_dt'] != 0)) |\n",
        "              ((cases['v1_status'] == 'Completed') & (cases['v1_biospecimen_dt'] == 0)), # Complete\n",
        "              ((cases['v1_status'] == 'Completed, but missed biospecimen collection') & (cases['v1_biospecimen_dt'] == 0)), # Complete, no specimen\n",
        "              (cases['v1_status'] == 0) & (cases['v1_biospecimen_dt'] == 0)] # Pending\n",
        "\n",
        "# create a list of the values we want to assign for each condition\n",
        "values = ['Complete', 'Complete, no specimen', 'Pending']\n",
        "\n",
        "# create a new column and use np.select to assign values to it using our lists as arguments\n",
        "cases['v1_stat'] = np.select(conditions, values)\n",
        "\n",
        "# display updated DataFrame\n",
        "print(cases['v1_stat'].value_counts())"
      ],
      "execution_count": 190,
      "outputs": [
        {
          "output_type": "stream",
          "text": [
            "Complete                 53\n",
            "Pending                   3\n",
            "Complete, no specimen     2\n",
            "Name: v1_stat, dtype: int64\n"
          ],
          "name": "stdout"
        }
      ]
    },
    {
      "cell_type": "code",
      "metadata": {
        "id": "JYgLcwOiflqn",
        "outputId": "536b2368-9d71-4458-8b33-a94fe7cac42e",
        "colab": {
          "base_uri": "https://localhost:8080/"
        }
      },
      "source": [
        "# V1 Biospecimen Collected\n",
        "conditions = [(cases['v1_biospecimen_dt'] != 0) & (cases['v1_stat'] == 'Complete'),\n",
        "              (cases['v1_biospecimen_dt'] == 0) & (cases['v1_stat'] == 'Complete, no specimen'),\n",
        "              (cases['v1_biospecimen_dt'] == 0) & (cases['v1_stat'] == 'Complete'),\n",
        "              (cases['v1_biospecimen_dt'] == 0) & (cases['v1_stat'] == 'Pending')]      \n",
        "\n",
        "# create a list of the values we want to assign for each condition\n",
        "values = ['Yes', 'No', 'Pending', 'Unknown']\n",
        "\n",
        "# create a new column and use np.select to assign values to it using our lists as arguments\n",
        "cases['v1_biospecimen_collected'] = np.select(conditions, values)\n",
        "\n",
        "# display updated DataFrame\n",
        "print(cases['v1_biospecimen_collected'].value_counts())"
      ],
      "execution_count": 191,
      "outputs": [
        {
          "output_type": "stream",
          "text": [
            "Yes        52\n",
            "Unknown     3\n",
            "No          2\n",
            "Pending     1\n",
            "Name: v1_biospecimen_collected, dtype: int64\n"
          ],
          "name": "stdout"
        }
      ]
    },
    {
      "cell_type": "code",
      "metadata": {
        "id": "zbPiz64ohtXO",
        "outputId": "174b65cb-1eb0-4813-9ec0-c5fb97afc8d2",
        "colab": {
          "base_uri": "https://localhost:8080/"
        }
      },
      "source": [
        "# V1 Biospecimen Processed\n",
        "conditions = [(cases['v1_samples_process_dt'] != 0) & (cases['v1_stat'] == 'Complete'),\n",
        "              (cases['v1_samples_process_dt'] == 0) & (cases['v1_stat'] == 'Complete, no specimen'),\n",
        "              (cases['v1_samples_process_dt'] == 0) & (cases['v1_stat'] == 'Complete'),\n",
        "              (cases['v1_samples_process_dt'] == 0) & (cases['v1_stat'] == 'Pending')]\n",
        "\n",
        "# create a list of the values we want to assign for each condition\n",
        "values = ['Yes', 'No', 'Pending', 'Unknown']\n",
        "\n",
        "# create a new column and use np.select to assign values to it using our lists as arguments\n",
        "cases['v1_biospecimen_processed'] = np.select(conditions, values)\n",
        "\n",
        "# display updated DataFrame\n",
        "print(cases['v1_biospecimen_processed'].value_counts())"
      ],
      "execution_count": 192,
      "outputs": [
        {
          "output_type": "stream",
          "text": [
            "Yes        51\n",
            "Unknown     3\n",
            "No          2\n",
            "Pending     2\n",
            "Name: v1_biospecimen_processed, dtype: int64\n"
          ],
          "name": "stdout"
        }
      ]
    },
    {
      "cell_type": "code",
      "metadata": {
        "id": "X_zmyF7diZWL",
        "outputId": "3a6a18ea-9b89-4822-d944-ce04b0e3c37d",
        "colab": {
          "base_uri": "https://localhost:8080/"
        }
      },
      "source": [
        "# V1 Biospecimen Shipped\n",
        "conditions = [(cases['v1_specimen_ship_dt'] != 0) & (cases['v1_stat'] == 'Complete'),\n",
        "              (cases['v1_specimen_ship_dt'] == 0) & (cases['v1_stat'] == 'Complete, no specimen'),\n",
        "              (cases['v1_specimen_ship_dt'] == 0) & (cases['v1_stat'] == 'Complete'),\n",
        "              (cases['v1_specimen_ship_dt'] == 0) & (cases['v1_stat'] == 'Pending')]\n",
        "\n",
        "# create a list of the values we want to assign for each condition\n",
        "values = ['Yes', 'No', 'Pending', 'Unknown']\n",
        "\n",
        "# create a new column and use np.select to assign values to it using our lists as arguments\n",
        "cases['v1_biospecimen_shipped'] = np.select(conditions, values)\n",
        "\n",
        "# display updated DataFrame\n",
        "print(cases['v1_biospecimen_shipped'].value_counts())"
      ],
      "execution_count": 193,
      "outputs": [
        {
          "output_type": "stream",
          "text": [
            "Yes        51\n",
            "Unknown     3\n",
            "No          2\n",
            "Pending     2\n",
            "Name: v1_biospecimen_shipped, dtype: int64\n"
          ],
          "name": "stdout"
        }
      ]
    },
    {
      "cell_type": "code",
      "metadata": {
        "id": "8NOBZ4Yzi5tp",
        "outputId": "10fc44af-8905-47da-9e91-377215b4f79a",
        "colab": {
          "base_uri": "https://localhost:8080/"
        }
      },
      "source": [
        "# check value counts for v1 EHR entry\n",
        "cases['v1_ehr_data_status'].value_counts()"
      ],
      "execution_count": 194,
      "outputs": [
        {
          "output_type": "execute_result",
          "data": {
            "text/plain": [
              "Yes (Complete)           55\n",
              "Partial (In progress)     3\n",
              "Name: v1_ehr_data_status, dtype: int64"
            ]
          },
          "metadata": {
            "tags": []
          },
          "execution_count": 194
        }
      ]
    },
    {
      "cell_type": "code",
      "metadata": {
        "id": "UZnNErbPNn4u",
        "outputId": "87402db9-332d-49bc-f58c-e07e8e81269d",
        "colab": {
          "base_uri": "https://localhost:8080/"
        }
      },
      "source": [
        "cases['v1_ehr'] = np.where(cases['v1_ehr_data_status'] == 'Yes (Complete)', 'Complete', 'Partial')\n",
        "cases['v1_ehr'].value_counts()"
      ],
      "execution_count": 195,
      "outputs": [
        {
          "output_type": "execute_result",
          "data": {
            "text/plain": [
              "Complete    55\n",
              "Partial      3\n",
              "Name: v1_ehr, dtype: int64"
            ]
          },
          "metadata": {
            "tags": []
          },
          "execution_count": 195
        }
      ]
    },
    {
      "cell_type": "code",
      "metadata": {
        "id": "R_t2h-VmkA1J"
      },
      "source": [
        "# creating v1 dataframe which will be merged with dataframes from other study visits \n",
        "v1_df = cases[['record_id', 'participant_type', 'v1_stat', 'v1_biospecimen_collected', 'v1_biospecimen_processed',\n",
        "               'v1_biospecimen_shipped', 'v1_ehr']].copy()\n",
        "\n",
        "v1_df['study_visit'] = 1\n",
        "\n",
        "v1_df = v1_df.rename(columns={'v1_stat':'study_status', 'v1_biospecimen_collected':'biospecimen_collected',\n",
        "                              'v1_biospecimen_processed':'biospecimen_processed', 'v1_biospecimen_shipped':'biospecimen_shipped',\n",
        "                              'v1_ehr':'ehr'})"
      ],
      "execution_count": 198,
      "outputs": []
    },
    {
      "cell_type": "code",
      "metadata": {
        "id": "oHaM6BxfkupC",
        "outputId": "08120069-66a2-4788-bd6e-e6be28db0ec7",
        "colab": {
          "base_uri": "https://localhost:8080/",
          "height": 204
        }
      },
      "source": [
        "v1_df.head()"
      ],
      "execution_count": 199,
      "outputs": [
        {
          "output_type": "execute_result",
          "data": {
            "text/html": [
              "<div>\n",
              "<style scoped>\n",
              "    .dataframe tbody tr th:only-of-type {\n",
              "        vertical-align: middle;\n",
              "    }\n",
              "\n",
              "    .dataframe tbody tr th {\n",
              "        vertical-align: top;\n",
              "    }\n",
              "\n",
              "    .dataframe thead th {\n",
              "        text-align: right;\n",
              "    }\n",
              "</style>\n",
              "<table border=\"1\" class=\"dataframe\">\n",
              "  <thead>\n",
              "    <tr style=\"text-align: right;\">\n",
              "      <th></th>\n",
              "      <th>record_id</th>\n",
              "      <th>participant_type</th>\n",
              "      <th>study_status</th>\n",
              "      <th>biospecimen_collected</th>\n",
              "      <th>biospecimen_processed</th>\n",
              "      <th>biospecimen_shipped</th>\n",
              "      <th>ehr</th>\n",
              "      <th>study_visit</th>\n",
              "    </tr>\n",
              "  </thead>\n",
              "  <tbody>\n",
              "    <tr>\n",
              "      <th>0</th>\n",
              "      <td>3</td>\n",
              "      <td>Non-Progressor</td>\n",
              "      <td>Complete</td>\n",
              "      <td>Yes</td>\n",
              "      <td>Yes</td>\n",
              "      <td>Yes</td>\n",
              "      <td>Complete</td>\n",
              "      <td>1</td>\n",
              "    </tr>\n",
              "    <tr>\n",
              "      <th>1</th>\n",
              "      <td>4</td>\n",
              "      <td>Non-Progressor</td>\n",
              "      <td>Complete</td>\n",
              "      <td>Yes</td>\n",
              "      <td>Yes</td>\n",
              "      <td>Yes</td>\n",
              "      <td>Complete</td>\n",
              "      <td>1</td>\n",
              "    </tr>\n",
              "    <tr>\n",
              "      <th>2</th>\n",
              "      <td>5</td>\n",
              "      <td>Non-Progressor</td>\n",
              "      <td>Complete</td>\n",
              "      <td>Yes</td>\n",
              "      <td>Yes</td>\n",
              "      <td>Yes</td>\n",
              "      <td>Complete</td>\n",
              "      <td>1</td>\n",
              "    </tr>\n",
              "    <tr>\n",
              "      <th>3</th>\n",
              "      <td>6</td>\n",
              "      <td>Non-Progressor</td>\n",
              "      <td>Complete</td>\n",
              "      <td>Yes</td>\n",
              "      <td>Yes</td>\n",
              "      <td>Yes</td>\n",
              "      <td>Complete</td>\n",
              "      <td>1</td>\n",
              "    </tr>\n",
              "    <tr>\n",
              "      <th>4</th>\n",
              "      <td>7</td>\n",
              "      <td>Progressor</td>\n",
              "      <td>Complete</td>\n",
              "      <td>Yes</td>\n",
              "      <td>Yes</td>\n",
              "      <td>Yes</td>\n",
              "      <td>Complete</td>\n",
              "      <td>1</td>\n",
              "    </tr>\n",
              "  </tbody>\n",
              "</table>\n",
              "</div>"
            ],
            "text/plain": [
              "   record_id participant_type  ...       ehr study_visit\n",
              "0          3   Non-Progressor  ...  Complete           1\n",
              "1          4   Non-Progressor  ...  Complete           1\n",
              "2          5   Non-Progressor  ...  Complete           1\n",
              "3          6   Non-Progressor  ...  Complete           1\n",
              "4          7       Progressor  ...  Complete           1\n",
              "\n",
              "[5 rows x 8 columns]"
            ]
          },
          "metadata": {
            "tags": []
          },
          "execution_count": 199
        }
      ]
    },
    {
      "cell_type": "markdown",
      "metadata": {
        "id": "rB0K_i-oooOl"
      },
      "source": [
        "# Study Visit 2"
      ]
    },
    {
      "cell_type": "code",
      "metadata": {
        "id": "5io2s-1UmD_S",
        "outputId": "739060a9-e5cd-42b4-9194-7fdae8d7ce93",
        "colab": {
          "base_uri": "https://localhost:8080/"
        }
      },
      "source": [
        "# v2 status value counts\n",
        "cases['v2_status'].value_counts()"
      ],
      "execution_count": 60,
      "outputs": [
        {
          "output_type": "execute_result",
          "data": {
            "text/plain": [
              "Not applicable                                  33\n",
              "Completed                                       14\n",
              "0                                                7\n",
              "Completed, but missed biospecimen collection     4\n",
              "Name: v2_status, dtype: int64"
            ]
          },
          "metadata": {
            "tags": []
          },
          "execution_count": 60
        }
      ]
    },
    {
      "cell_type": "code",
      "metadata": {
        "id": "kdKqCvBVJcy1",
        "outputId": "12a9f3cd-8217-415f-a51e-7d3bbdc5c0a2",
        "colab": {
          "base_uri": "https://localhost:8080/"
        }
      },
      "source": [
        "# Status 2 complete based on conditions\n",
        "\n",
        "conditions = [((cases['v2_status'] == 'Completed') & (cases['v2_biospecimen_dt'] != 0)) |\n",
        "              ((cases['v2_status'] == 'Completed, but missed biospecimen collection') & (cases['v2_biospecimen_dt'] != 0)) |\n",
        "              ((cases['v2_status'] == 0) & (cases['v2_biospecimen_dt'] != 0) & (cases['v2_samples_process_dt'] != 0)\n",
        "              & (cases['v2_specimen_ship_dt'] != 0) & (cases['v2_entry_dt'] != 0)) |\n",
        "              ((cases['v2_status'] == 'Completed') & (cases['v2_biospecimen_dt'] == 0)), # Complete\n",
        "              ((cases['v2_status'] == 'Completed, but missed biospecimen collection') & (cases['v2_biospecimen_dt'] == 0)), # Complete, no specimen\n",
        "              (cases['v2_status'] == 0) & ((cases['v2_biospecimen_dt'] == 0) | (cases['v2_samples_process_dt'] == 0) | \n",
        "                                           (cases['v2_specimen_ship_dt'] == 0) | (cases['v2_entry_dt'] == 0)), # Pending\n",
        "              ((cases['v2_status'] == 'Not applicable')) & (cases['v2_biospecimen_dt'] == 0)] # Not Applicable\n",
        "\n",
        "# create a list of the values we want to assign for each condition\n",
        "values = ['Complete', 'Complete, no specimen', 'Pending', 'Not Applicable']\n",
        "\n",
        "# create a new column and use np.select to assign values to it using our lists as arguments\n",
        "cases['v2_stat'] = np.select(conditions, values)\n",
        "\n",
        "# display updated DataFrame\n",
        "print(cases['v2_stat'].value_counts())\n"
      ],
      "execution_count": 61,
      "outputs": [
        {
          "output_type": "stream",
          "text": [
            "Not Applicable           33\n",
            "Complete                 14\n",
            "Pending                   7\n",
            "Complete, no specimen     4\n",
            "Name: v2_stat, dtype: int64\n"
          ],
          "name": "stdout"
        }
      ]
    },
    {
      "cell_type": "code",
      "metadata": {
        "id": "t-PL7NXTowHU",
        "outputId": "1b2a6bf5-cdc4-4064-90e2-1a5534163cf7",
        "colab": {
          "base_uri": "https://localhost:8080/"
        }
      },
      "source": [
        "# biospecimen collected value counts\n",
        "cases['v2_biospecimen_dt'].value_counts()\n"
      ],
      "execution_count": 62,
      "outputs": [
        {
          "output_type": "execute_result",
          "data": {
            "text/plain": [
              "0             43\n",
              "9/25/2020      4\n",
              "6/5/2020       3\n",
              "7/21/2020      1\n",
              "8/26/2020      1\n",
              "10/7/2020      1\n",
              "7/23/2020      1\n",
              "10/16/2020     1\n",
              "9/18/2020      1\n",
              "9/3/2020       1\n",
              "10/22/2020     1\n",
              "Name: v2_biospecimen_dt, dtype: int64"
            ]
          },
          "metadata": {
            "tags": []
          },
          "execution_count": 62
        }
      ]
    },
    {
      "cell_type": "code",
      "metadata": {
        "id": "zS2GVPKEn8Vf",
        "outputId": "971dd481-9b47-49e1-be4d-e94e0de20387",
        "colab": {
          "base_uri": "https://localhost:8080/"
        }
      },
      "source": [
        "# V2 Biospecimen Collected\n",
        "conditions = [((cases['v2_biospecimen_dt'] != 0) & (cases['v2_stat'] == 'Complete')) |\n",
        "              ((cases['v2_biospecimen_dt'] != 0) & (cases['v2_stat'] == 'Pending')), # Yes\n",
        "              (cases['v2_biospecimen_dt'] == 0) & (cases['v2_stat'] == 'Complete, no specimen'), # No\n",
        "              (cases['v2_biospecimen_dt'] == 0) & (cases['v2_stat'] == 'Complete'), # Pending\n",
        "              (cases['v2_biospecimen_dt'] == 0) & (cases['v2_stat'] == 'Pending'), # Unknown\n",
        "              (cases['v2_stat'] == 'Not Applicable')]  # Not Applicable   \n",
        "\n",
        "# create a list of the values we want to assign for each condition\n",
        "values = ['Yes', 'No', 'Pending', 'Unknown', 'Not Applicable']\n",
        "\n",
        "# create a new column and use np.select to assign values to it using our lists as arguments\n",
        "cases['v2_biospecimen_collected'] = np.select(conditions, values)\n",
        "\n",
        "# display updated DataFrame\n",
        "print(cases['v2_biospecimen_collected'].value_counts())"
      ],
      "execution_count": 63,
      "outputs": [
        {
          "output_type": "stream",
          "text": [
            "Not Applicable    33\n",
            "Yes               15\n",
            "Unknown            6\n",
            "No                 4\n",
            "Name: v2_biospecimen_collected, dtype: int64\n"
          ],
          "name": "stdout"
        }
      ]
    },
    {
      "cell_type": "code",
      "metadata": {
        "id": "P7iTAmq0qUju",
        "outputId": "392115c5-217e-4e3d-edf4-76833efe87eb",
        "colab": {
          "base_uri": "https://localhost:8080/"
        }
      },
      "source": [
        "# V2 Biospecimen Processed\n",
        "conditions = [((cases['v2_samples_process_dt'] != 0) & (cases['v2_stat'] == 'Complete')) |\n",
        "              ((cases['v2_samples_process_dt'] != 0) & (cases['v2_stat'] == 'Pending')), # Yes\n",
        "              (cases['v2_samples_process_dt'] == 0) & (cases['v2_stat'] == 'Complete, no specimen'), # No\n",
        "              (cases['v2_samples_process_dt'] == 0) & (cases['v2_stat'] == 'Complete'), # Pending\n",
        "              (cases['v2_samples_process_dt'] == 0) & (cases['v2_stat'] == 'Pending'), # Unknown\n",
        "              (cases['v2_stat'] == 'Not Applicable')]  # Not Applicable\n",
        "# create a list of the values we want to assign for each condition\n",
        "values = ['Yes', 'No', 'Pending', 'Unknown', 'Not Applicable']\n",
        "\n",
        "# create a new column and use np.select to assign values to it using our lists as arguments\n",
        "cases['v2_biospecimen_processed'] = np.select(conditions, values)\n",
        "\n",
        "# display updated DataFrame\n",
        "print(cases['v2_biospecimen_processed'].value_counts())"
      ],
      "execution_count": 64,
      "outputs": [
        {
          "output_type": "stream",
          "text": [
            "Not Applicable    33\n",
            "Yes               11\n",
            "Unknown            6\n",
            "No                 4\n",
            "Pending            4\n",
            "Name: v2_biospecimen_processed, dtype: int64\n"
          ],
          "name": "stdout"
        }
      ]
    },
    {
      "cell_type": "code",
      "metadata": {
        "id": "vS9SwIJOrV32",
        "outputId": "7b4cfbf1-bb6e-4f4d-bf8e-bd0d2fc7a368",
        "colab": {
          "base_uri": "https://localhost:8080/"
        }
      },
      "source": [
        "# V2 Biospecimen Shipped\n",
        "conditions = [((cases['v2_specimen_ship_dt'] != 0) & (cases['v2_stat'] == 'Complete')) |\n",
        "              ((cases['v2_specimen_ship_dt'] != 0) & (cases['v2_stat'] == 'Pending')), # Yes\n",
        "              (cases['v2_specimen_ship_dt'] == 0) & (cases['v2_stat'] == 'Complete, no specimen'), # No\n",
        "              (cases['v2_specimen_ship_dt'] == 0) & (cases['v2_stat'] == 'Complete'), # Pending\n",
        "              (cases['v2_specimen_ship_dt'] == 0) & (cases['v2_stat'] == 'Pending'), # Unknown\n",
        "              (cases['v2_stat'] == 'Not Applicable')] # Not Applicable\n",
        "\n",
        "# create a list of the values we want to assign for each condition\n",
        "values = ['Yes', 'No', 'Pending', 'Unknown', 'Not Applicable']\n",
        "\n",
        "# create a new column and use np.select to assign values to it using our lists as arguments\n",
        "cases['v2_biospecimen_shipped'] = np.select(conditions, values)\n",
        "\n",
        "# display updated DataFrame\n",
        "print(cases['v2_biospecimen_shipped'].value_counts())"
      ],
      "execution_count": 65,
      "outputs": [
        {
          "output_type": "stream",
          "text": [
            "Not Applicable    33\n",
            "Yes               11\n",
            "Unknown            6\n",
            "No                 4\n",
            "Pending            4\n",
            "Name: v2_biospecimen_shipped, dtype: int64\n"
          ],
          "name": "stdout"
        }
      ]
    },
    {
      "cell_type": "code",
      "metadata": {
        "id": "3KGE_oAGsTiP",
        "outputId": "31449147-1748-426e-93c7-2bee5b5605a7",
        "colab": {
          "base_uri": "https://localhost:8080/"
        }
      },
      "source": [
        "# EHR value counts\n",
        "cases['v2_ehr_data_status'].value_counts()"
      ],
      "execution_count": 66,
      "outputs": [
        {
          "output_type": "execute_result",
          "data": {
            "text/plain": [
              "0                 36\n",
              "Yes (Complete)    21\n",
              "No (Pending)       1\n",
              "Name: v2_ehr_data_status, dtype: int64"
            ]
          },
          "metadata": {
            "tags": []
          },
          "execution_count": 66
        }
      ]
    },
    {
      "cell_type": "code",
      "metadata": {
        "id": "btXbhuCztAL1",
        "outputId": "3d3562f8-2e3f-4af2-f152-4369f307be95",
        "colab": {
          "base_uri": "https://localhost:8080/"
        }
      },
      "source": [
        "# V2 EHR\n",
        "conditions = [((cases['v2_ehr_data_status'] == 'Yes (Complete)') & ((cases['v2_stat'] == 'Complete') |\n",
        "                                                                    (cases['v2_stat'] == 'Complete, no specimen') |\n",
        "                                                                    (cases['v2_stat'] == 'Pending'))), # Complete\n",
        "              ((cases['v2_ehr_data_status'] == 0) & ((cases['v2_stat'] == 'Complete') |\n",
        "                                                     (cases['v2_stat'] == 'Complete, no specimen') |\n",
        "                                                     (cases['v2_stat'] == 'Pending'))), # Pending\n",
        "              (cases['v2_stat'] == 'Not Applicable')] # Not Applicable\n",
        "\n",
        "# create a list of the values we want to assign for each condition\n",
        "values = ['Complete', 'Pending', 'Not Applicable']\n",
        "\n",
        "# create a new column and use np.select to assign values to it using our lists as arguments\n",
        "cases['v2_ehr'] = np.select(conditions, values)\n",
        "\n",
        "# display updated DataFrame\n",
        "print(cases['v2_ehr'].value_counts())"
      ],
      "execution_count": 67,
      "outputs": [
        {
          "output_type": "stream",
          "text": [
            "Not Applicable    33\n",
            "Complete          19\n",
            "Pending            6\n",
            "Name: v2_ehr, dtype: int64\n"
          ],
          "name": "stdout"
        }
      ]
    },
    {
      "cell_type": "code",
      "metadata": {
        "id": "V02q6mYOvgWd",
        "outputId": "b281f193-5022-4e80-ed9a-3a9ff0b0be21",
        "colab": {
          "base_uri": "https://localhost:8080/",
          "height": 204
        }
      },
      "source": [
        "# study visit 2 dataframe\n",
        "v2_df = cases[['record_id', 'participant_type', 'v2_stat', 'v2_biospecimen_collected', 'v2_biospecimen_processed',\n",
        "               'v2_biospecimen_shipped', 'v2_ehr']].copy()\n",
        "\n",
        "v2_df['study_visit'] = 2\n",
        "\n",
        "v2_df = v2_df.rename(columns={'v2_stat':'study_status', 'v2_biospecimen_collected':'biospecimen_collected',\n",
        "                              'v2_biospecimen_processed':'biospecimen_processed', 'v2_biospecimen_shipped':'biospecimen_shipped',\n",
        "                              'v2_ehr':'ehr'})\n",
        "\n",
        "v2_df.head()"
      ],
      "execution_count": 200,
      "outputs": [
        {
          "output_type": "execute_result",
          "data": {
            "text/html": [
              "<div>\n",
              "<style scoped>\n",
              "    .dataframe tbody tr th:only-of-type {\n",
              "        vertical-align: middle;\n",
              "    }\n",
              "\n",
              "    .dataframe tbody tr th {\n",
              "        vertical-align: top;\n",
              "    }\n",
              "\n",
              "    .dataframe thead th {\n",
              "        text-align: right;\n",
              "    }\n",
              "</style>\n",
              "<table border=\"1\" class=\"dataframe\">\n",
              "  <thead>\n",
              "    <tr style=\"text-align: right;\">\n",
              "      <th></th>\n",
              "      <th>record_id</th>\n",
              "      <th>participant_type</th>\n",
              "      <th>study_status</th>\n",
              "      <th>biospecimen_collected</th>\n",
              "      <th>biospecimen_processed</th>\n",
              "      <th>biospecimen_shipped</th>\n",
              "      <th>ehr</th>\n",
              "      <th>study_visit</th>\n",
              "    </tr>\n",
              "  </thead>\n",
              "  <tbody>\n",
              "    <tr>\n",
              "      <th>0</th>\n",
              "      <td>3</td>\n",
              "      <td>Non-Progressor</td>\n",
              "      <td>Not Applicable</td>\n",
              "      <td>Not Applicable</td>\n",
              "      <td>Not Applicable</td>\n",
              "      <td>Not Applicable</td>\n",
              "      <td>Not Applicable</td>\n",
              "      <td>2</td>\n",
              "    </tr>\n",
              "    <tr>\n",
              "      <th>1</th>\n",
              "      <td>4</td>\n",
              "      <td>Non-Progressor</td>\n",
              "      <td>Not Applicable</td>\n",
              "      <td>Not Applicable</td>\n",
              "      <td>Not Applicable</td>\n",
              "      <td>Not Applicable</td>\n",
              "      <td>Not Applicable</td>\n",
              "      <td>2</td>\n",
              "    </tr>\n",
              "    <tr>\n",
              "      <th>2</th>\n",
              "      <td>5</td>\n",
              "      <td>Non-Progressor</td>\n",
              "      <td>Complete</td>\n",
              "      <td>Yes</td>\n",
              "      <td>Yes</td>\n",
              "      <td>Yes</td>\n",
              "      <td>Complete</td>\n",
              "      <td>2</td>\n",
              "    </tr>\n",
              "    <tr>\n",
              "      <th>3</th>\n",
              "      <td>6</td>\n",
              "      <td>Non-Progressor</td>\n",
              "      <td>Complete</td>\n",
              "      <td>Yes</td>\n",
              "      <td>Yes</td>\n",
              "      <td>Yes</td>\n",
              "      <td>Complete</td>\n",
              "      <td>2</td>\n",
              "    </tr>\n",
              "    <tr>\n",
              "      <th>4</th>\n",
              "      <td>7</td>\n",
              "      <td>Progressor</td>\n",
              "      <td>Complete</td>\n",
              "      <td>Yes</td>\n",
              "      <td>Yes</td>\n",
              "      <td>Yes</td>\n",
              "      <td>Complete</td>\n",
              "      <td>2</td>\n",
              "    </tr>\n",
              "  </tbody>\n",
              "</table>\n",
              "</div>"
            ],
            "text/plain": [
              "   record_id participant_type  ...             ehr study_visit\n",
              "0          3   Non-Progressor  ...  Not Applicable           2\n",
              "1          4   Non-Progressor  ...  Not Applicable           2\n",
              "2          5   Non-Progressor  ...        Complete           2\n",
              "3          6   Non-Progressor  ...        Complete           2\n",
              "4          7       Progressor  ...        Complete           2\n",
              "\n",
              "[5 rows x 8 columns]"
            ]
          },
          "metadata": {
            "tags": []
          },
          "execution_count": 200
        }
      ]
    },
    {
      "cell_type": "markdown",
      "metadata": {
        "id": "04rWMHtkw5v2"
      },
      "source": [
        "# Study Visit 3"
      ]
    },
    {
      "cell_type": "code",
      "metadata": {
        "id": "lmUqot5NxLAJ",
        "outputId": "8eee8d07-2fbf-4953-cb90-e752aa0409fd",
        "colab": {
          "base_uri": "https://localhost:8080/"
        }
      },
      "source": [
        "cases['v3_status'].value_counts()"
      ],
      "execution_count": 69,
      "outputs": [
        {
          "output_type": "execute_result",
          "data": {
            "text/plain": [
              "Not applicable    48\n",
              "0                  6\n",
              "Completed          4\n",
              "Name: v3_status, dtype: int64"
            ]
          },
          "metadata": {
            "tags": []
          },
          "execution_count": 69
        }
      ]
    },
    {
      "cell_type": "code",
      "metadata": {
        "id": "izwrUayvxFfZ",
        "outputId": "ca5f5ecc-3236-443c-8a2a-df2d21e78356",
        "colab": {
          "base_uri": "https://localhost:8080/"
        }
      },
      "source": [
        "# Status 3 complete based on conditions\n",
        "\n",
        "conditions = [((cases['v3_status'] == 'Completed') & (cases['v3_biospecimen_dt'] != 0)) |\n",
        "              ((cases['v3_status'] == 'Completed, but missed biospecimen collection') & (cases['v3_biospecimen_dt'] != 0)) |\n",
        "              ((cases['v3_status'] == 0) & (cases['v3_biospecimen_dt'] != 0) & (cases['v3_samples_process_dt'] != 0)\n",
        "              & (cases['v3_specimen_ship_dt'] != 0) & (cases['v3_entry_dt'] != 0)) |\n",
        "              ((cases['v3_status'] == 'Completed') & (cases['v3_biospecimen_dt'] == 0)), # Complete\n",
        "              ((cases['v3_status'] == 'Completed, but missed biospecimen collection') & (cases['v3_biospecimen_dt'] == 0)), # Complete, no specimen\n",
        "              (cases['v3_status'] == 0) & ((cases['v3_biospecimen_dt'] == 0) | (cases['v3_samples_process_dt'] == 0) | \n",
        "                                           (cases['v3_specimen_ship_dt'] == 0) | (cases['v3_entry_dt'] == 0)), # Pending\n",
        "              ((cases['v3_status'] == 'Not applicable')) & (cases['v3_biospecimen_dt'] == 0)] # Not Applicable\n",
        "\n",
        "# create a list of the values we want to assign for each condition\n",
        "values = ['Complete', 'Complete, no specimen', 'Pending', 'Not Applicable']\n",
        "\n",
        "# create a new column and use np.select to assign values to it using our lists as arguments\n",
        "cases['v3_stat'] = np.select(conditions, values)\n",
        "\n",
        "# display updated DataFrame\n",
        "print(cases['v3_stat'].value_counts())\n"
      ],
      "execution_count": 70,
      "outputs": [
        {
          "output_type": "stream",
          "text": [
            "Not Applicable    48\n",
            "Pending            6\n",
            "Complete           4\n",
            "Name: v3_stat, dtype: int64\n"
          ],
          "name": "stdout"
        }
      ]
    },
    {
      "cell_type": "code",
      "metadata": {
        "id": "v3_zIl1UxFfe",
        "outputId": "4089ee41-9b7b-442d-bb66-5871732c4ef5",
        "colab": {
          "base_uri": "https://localhost:8080/"
        }
      },
      "source": [
        "# biospecimen collected value counts\n",
        "cases['v3_biospecimen_dt'].value_counts()\n"
      ],
      "execution_count": 71,
      "outputs": [
        {
          "output_type": "execute_result",
          "data": {
            "text/plain": [
              "0            55\n",
              "9/25/2020     1\n",
              "7/14/2020     1\n",
              "6/23/2020     1\n",
              "Name: v3_biospecimen_dt, dtype: int64"
            ]
          },
          "metadata": {
            "tags": []
          },
          "execution_count": 71
        }
      ]
    },
    {
      "cell_type": "code",
      "metadata": {
        "id": "VAq0b26exFfh",
        "outputId": "81bbfaf1-ed81-45b9-82b6-7a641ea5a7a6",
        "colab": {
          "base_uri": "https://localhost:8080/"
        }
      },
      "source": [
        "# V3 Biospecimen Collected\n",
        "conditions = [((cases['v3_biospecimen_dt'] != 0) & (cases['v3_stat'] == 'Complete')) |\n",
        "              ((cases['v3_biospecimen_dt'] != 0) & (cases['v3_stat'] == 'Pending')), # Yes\n",
        "              (cases['v3_biospecimen_dt'] == 0) & (cases['v3_stat'] == 'Complete, no specimen'), # No\n",
        "              (cases['v3_biospecimen_dt'] == 0) & (cases['v3_stat'] == 'Complete'), # Pending\n",
        "              (cases['v3_biospecimen_dt'] == 0) & (cases['v3_stat'] == 'Pending'), # Unknown\n",
        "              (cases['v3_stat'] == 'Not Applicable')]  # Not Applicable   \n",
        "\n",
        "# create a list of the values we want to assign for each condition\n",
        "values = ['Yes', 'No', 'Pending', 'Unknown', 'Not Applicable']\n",
        "\n",
        "# create a new column and use np.select to assign values to it using our lists as arguments\n",
        "cases['v3_biospecimen_collected'] = np.select(conditions, values)\n",
        "\n",
        "# display updated DataFrame\n",
        "print(cases['v3_biospecimen_collected'].value_counts())"
      ],
      "execution_count": 72,
      "outputs": [
        {
          "output_type": "stream",
          "text": [
            "Not Applicable    48\n",
            "Unknown            6\n",
            "Yes                3\n",
            "Pending            1\n",
            "Name: v3_biospecimen_collected, dtype: int64\n"
          ],
          "name": "stdout"
        }
      ]
    },
    {
      "cell_type": "code",
      "metadata": {
        "id": "cZ-ckZxKxFfk",
        "outputId": "270a6fa7-7780-47f9-c623-27c65a078244",
        "colab": {
          "base_uri": "https://localhost:8080/"
        }
      },
      "source": [
        "# V3 Biospecimen Processed\n",
        "conditions = [((cases['v3_samples_process_dt'] != 0) & (cases['v3_stat'] == 'Complete')) |\n",
        "              ((cases['v3_samples_process_dt'] != 0) & (cases['v3_stat'] == 'Pending')), # Yes\n",
        "              (cases['v3_samples_process_dt'] == 0) & (cases['v3_stat'] == 'Complete, no specimen'), # No\n",
        "              (cases['v3_samples_process_dt'] == 0) & (cases['v3_stat'] == 'Complete'), # Pending\n",
        "              (cases['v3_samples_process_dt'] == 0) & (cases['v3_stat'] == 'Pending'), # Unknown\n",
        "              (cases['v3_stat'] == 'Not Applicable')]  # Not Applicable\n",
        "# create a list of the values we want to assign for each condition\n",
        "values = ['Yes', 'No', 'Pending', 'Unknown', 'Not Applicable']\n",
        "\n",
        "# create a new column and use np.select to assign values to it using our lists as arguments\n",
        "cases['v3_biospecimen_processed'] = np.select(conditions, values)\n",
        "\n",
        "# display updated DataFrame\n",
        "print(cases['v3_biospecimen_processed'].value_counts())"
      ],
      "execution_count": 73,
      "outputs": [
        {
          "output_type": "stream",
          "text": [
            "Not Applicable    48\n",
            "Unknown            6\n",
            "Yes                3\n",
            "Pending            1\n",
            "Name: v3_biospecimen_processed, dtype: int64\n"
          ],
          "name": "stdout"
        }
      ]
    },
    {
      "cell_type": "code",
      "metadata": {
        "id": "SuJJ8jW2xFfn",
        "outputId": "ae9dfbd8-23ac-4fe7-85d7-5d18aed230a5",
        "colab": {
          "base_uri": "https://localhost:8080/"
        }
      },
      "source": [
        "# V3 Biospecimen Shipped\n",
        "conditions = [((cases['v3_specimen_ship_dt'] != 0) & (cases['v3_stat'] == 'Complete')) |\n",
        "              ((cases['v3_specimen_ship_dt'] != 0) & (cases['v3_stat'] == 'Pending')), # Yes\n",
        "              (cases['v3_specimen_ship_dt'] == 0) & (cases['v3_stat'] == 'Complete, no specimen'), # No\n",
        "              (cases['v3_specimen_ship_dt'] == 0) & (cases['v3_stat'] == 'Complete'), # Pending\n",
        "              (cases['v3_specimen_ship_dt'] == 0) & (cases['v3_stat'] == 'Pending'), # Unknown\n",
        "              (cases['v3_stat'] == 'Not Applicable')] # Not Applicable\n",
        "\n",
        "# create a list of the values we want to assign for each condition\n",
        "values = ['Yes', 'No', 'Pending', 'Unknown', 'Not Applicable']\n",
        "\n",
        "# create a new column and use np.select to assign values to it using our lists as arguments\n",
        "cases['v3_biospecimen_shipped'] = np.select(conditions, values)\n",
        "\n",
        "# display updated DataFrame\n",
        "print(cases['v3_biospecimen_shipped'].value_counts())"
      ],
      "execution_count": 74,
      "outputs": [
        {
          "output_type": "stream",
          "text": [
            "Not Applicable    48\n",
            "Unknown            6\n",
            "Yes                3\n",
            "Pending            1\n",
            "Name: v3_biospecimen_shipped, dtype: int64\n"
          ],
          "name": "stdout"
        }
      ]
    },
    {
      "cell_type": "code",
      "metadata": {
        "id": "iqrbvUqSxFfq",
        "outputId": "76801778-f76c-439a-d9eb-76340972ee1d",
        "colab": {
          "base_uri": "https://localhost:8080/"
        }
      },
      "source": [
        "# EHR value counts\n",
        "cases['v3_ehr_data_status'].value_counts()"
      ],
      "execution_count": 75,
      "outputs": [
        {
          "output_type": "execute_result",
          "data": {
            "text/plain": [
              "0                 53\n",
              "Yes (Complete)     3\n",
              "No (Pending)       2\n",
              "Name: v3_ehr_data_status, dtype: int64"
            ]
          },
          "metadata": {
            "tags": []
          },
          "execution_count": 75
        }
      ]
    },
    {
      "cell_type": "code",
      "metadata": {
        "id": "Hc_qjFd4xFfs",
        "outputId": "c2b19638-3928-4f83-8ef6-b3a257e32f12",
        "colab": {
          "base_uri": "https://localhost:8080/"
        }
      },
      "source": [
        "# V3 EHR\n",
        "conditions = [((cases['v3_ehr_data_status'] == 'Yes (Complete)') & ((cases['v3_stat'] == 'Complete') |\n",
        "                                                                    (cases['v3_stat'] == 'Complete, no specimen') |\n",
        "                                                                    (cases['v3_stat'] == 'Pending'))), # Complete\n",
        "              ((cases['v3_ehr_data_status'] == 0) & ((cases['v3_stat'] == 'Complete') |\n",
        "                                                     (cases['v3_stat'] == 'Complete, no specimen') |\n",
        "                                                     (cases['v3_stat'] == 'Pending'))), # Pending\n",
        "              (cases['v3_stat'] == 'Not Applicable')] # Not Applicable\n",
        "\n",
        "# create a list of the values we want to assign for each condition\n",
        "values = ['Complete', 'Pending', 'Not Applicable']\n",
        "\n",
        "# create a new column and use np.select to assign values to it using our lists as arguments\n",
        "cases['v3_ehr'] = np.select(conditions, values)\n",
        "\n",
        "# display updated DataFrame\n",
        "print(cases['v3_ehr'].value_counts())"
      ],
      "execution_count": 76,
      "outputs": [
        {
          "output_type": "stream",
          "text": [
            "Not Applicable    48\n",
            "Pending            7\n",
            "Complete           3\n",
            "Name: v3_ehr, dtype: int64\n"
          ],
          "name": "stdout"
        }
      ]
    },
    {
      "cell_type": "code",
      "metadata": {
        "id": "2gH56HMJxFfu",
        "outputId": "9d796f0c-eb00-401c-c80f-d678d087fe51",
        "colab": {
          "base_uri": "https://localhost:8080/",
          "height": 204
        }
      },
      "source": [
        "# study visit 3 dataframe\n",
        "v3_df = cases[['record_id', 'participant_type', 'v3_stat', 'v3_biospecimen_collected', 'v3_biospecimen_processed',\n",
        "               'v3_biospecimen_shipped', 'v3_ehr']].copy()\n",
        "               \n",
        "v3_df['study_visit'] = 3\n",
        "\n",
        "v3_df = v3_df.rename(columns={'v3_stat':'study_status', 'v3_biospecimen_collected':'biospecimen_collected',\n",
        "                              'v3_biospecimen_processed':'biospecimen_processed', 'v3_biospecimen_shipped':'biospecimen_shipped',\n",
        "                              'v3_ehr':'ehr'})\n",
        "\n",
        "v3_df.head()"
      ],
      "execution_count": 201,
      "outputs": [
        {
          "output_type": "execute_result",
          "data": {
            "text/html": [
              "<div>\n",
              "<style scoped>\n",
              "    .dataframe tbody tr th:only-of-type {\n",
              "        vertical-align: middle;\n",
              "    }\n",
              "\n",
              "    .dataframe tbody tr th {\n",
              "        vertical-align: top;\n",
              "    }\n",
              "\n",
              "    .dataframe thead th {\n",
              "        text-align: right;\n",
              "    }\n",
              "</style>\n",
              "<table border=\"1\" class=\"dataframe\">\n",
              "  <thead>\n",
              "    <tr style=\"text-align: right;\">\n",
              "      <th></th>\n",
              "      <th>record_id</th>\n",
              "      <th>participant_type</th>\n",
              "      <th>study_status</th>\n",
              "      <th>biospecimen_collected</th>\n",
              "      <th>biospecimen_processed</th>\n",
              "      <th>biospecimen_shipped</th>\n",
              "      <th>ehr</th>\n",
              "      <th>study_visit</th>\n",
              "    </tr>\n",
              "  </thead>\n",
              "  <tbody>\n",
              "    <tr>\n",
              "      <th>0</th>\n",
              "      <td>3</td>\n",
              "      <td>Non-Progressor</td>\n",
              "      <td>Not Applicable</td>\n",
              "      <td>Not Applicable</td>\n",
              "      <td>Not Applicable</td>\n",
              "      <td>Not Applicable</td>\n",
              "      <td>Not Applicable</td>\n",
              "      <td>3</td>\n",
              "    </tr>\n",
              "    <tr>\n",
              "      <th>1</th>\n",
              "      <td>4</td>\n",
              "      <td>Non-Progressor</td>\n",
              "      <td>Not Applicable</td>\n",
              "      <td>Not Applicable</td>\n",
              "      <td>Not Applicable</td>\n",
              "      <td>Not Applicable</td>\n",
              "      <td>Not Applicable</td>\n",
              "      <td>3</td>\n",
              "    </tr>\n",
              "    <tr>\n",
              "      <th>2</th>\n",
              "      <td>5</td>\n",
              "      <td>Non-Progressor</td>\n",
              "      <td>Not Applicable</td>\n",
              "      <td>Not Applicable</td>\n",
              "      <td>Not Applicable</td>\n",
              "      <td>Not Applicable</td>\n",
              "      <td>Not Applicable</td>\n",
              "      <td>3</td>\n",
              "    </tr>\n",
              "    <tr>\n",
              "      <th>3</th>\n",
              "      <td>6</td>\n",
              "      <td>Non-Progressor</td>\n",
              "      <td>Not Applicable</td>\n",
              "      <td>Not Applicable</td>\n",
              "      <td>Not Applicable</td>\n",
              "      <td>Not Applicable</td>\n",
              "      <td>Not Applicable</td>\n",
              "      <td>3</td>\n",
              "    </tr>\n",
              "    <tr>\n",
              "      <th>4</th>\n",
              "      <td>7</td>\n",
              "      <td>Progressor</td>\n",
              "      <td>Complete</td>\n",
              "      <td>Yes</td>\n",
              "      <td>Yes</td>\n",
              "      <td>Yes</td>\n",
              "      <td>Complete</td>\n",
              "      <td>3</td>\n",
              "    </tr>\n",
              "  </tbody>\n",
              "</table>\n",
              "</div>"
            ],
            "text/plain": [
              "   record_id participant_type  ...             ehr study_visit\n",
              "0          3   Non-Progressor  ...  Not Applicable           3\n",
              "1          4   Non-Progressor  ...  Not Applicable           3\n",
              "2          5   Non-Progressor  ...  Not Applicable           3\n",
              "3          6   Non-Progressor  ...  Not Applicable           3\n",
              "4          7       Progressor  ...        Complete           3\n",
              "\n",
              "[5 rows x 8 columns]"
            ]
          },
          "metadata": {
            "tags": []
          },
          "execution_count": 201
        }
      ]
    },
    {
      "cell_type": "markdown",
      "metadata": {
        "id": "VkF1sNKHzcfQ"
      },
      "source": [
        "# Study Visit 4"
      ]
    },
    {
      "cell_type": "code",
      "metadata": {
        "id": "6GNdA6EqzfLe",
        "outputId": "133816fb-24dc-42e6-9847-b9a9e0b37a50",
        "colab": {
          "base_uri": "https://localhost:8080/"
        }
      },
      "source": [
        "cases['v4_status'].value_counts()"
      ],
      "execution_count": 90,
      "outputs": [
        {
          "output_type": "execute_result",
          "data": {
            "text/plain": [
              "Not applicable                                  28\n",
              "Completed, but missed biospecimen collection    16\n",
              "Completed                                        7\n",
              "0                                                7\n",
              "Name: v4_status, dtype: int64"
            ]
          },
          "metadata": {
            "tags": []
          },
          "execution_count": 90
        }
      ]
    },
    {
      "cell_type": "code",
      "metadata": {
        "id": "3lC91vDNzgBZ",
        "outputId": "339b22ca-81fc-4b88-ccb5-e2df0f986a4f",
        "colab": {
          "base_uri": "https://localhost:8080/"
        }
      },
      "source": [
        "# Status 4 complete based on conditions\n",
        "\n",
        "conditions = [((cases['v4_status'] == 'Completed') & (cases['v4_samples_yn'] != 0)) |\n",
        "              ((cases['v4_status'] == 'Completed, but missed biospecimen collection') & (cases['v4_samples_yn'] != 0)) |\n",
        "              ((cases['v4_status'] == 0) & (cases['v4_samples_yn'] != 0) & (cases['v4_samples_process_dt'] != 0)\n",
        "              & (cases['v4_specimen_ship_dt'] != 0) & (cases['v4_entry_dt'] != 0)) |\n",
        "              ((cases['v4_status'] == 'Completed') & (cases['v4_samples_yn'] == 0)), # Complete\n",
        "              ((cases['v4_status'] == 'Completed, but missed biospecimen collection') & (cases['v4_samples_yn'] == 0)), # Complete, no specimen\n",
        "              (cases['v4_status'] == 0) & ((cases['v4_samples_yn'] == 0) | (cases['v4_samples_process_dt'] == 0) | \n",
        "                                           (cases['v4_specimen_ship_dt'] == 0) | (cases['v4_entry_dt'] == 0)), # Pending\n",
        "              ((cases['v4_status'] == 'Not applicable')) & (cases['v4_samples_yn'] == 0)] # Not Applicable\n",
        "\n",
        "# create a list of the values we want to assign for each condition\n",
        "values = ['Complete', 'Complete, no specimen', 'Pending', 'Not Applicable']\n",
        "\n",
        "# create a new column and use np.select to assign values to it using our lists as arguments\n",
        "cases['v4_stat'] = np.select(conditions, values)\n",
        "\n",
        "# display updated DataFrame\n",
        "print(cases['v4_stat'].value_counts())\n"
      ],
      "execution_count": 91,
      "outputs": [
        {
          "output_type": "stream",
          "text": [
            "Not Applicable           28\n",
            "Complete, no specimen    16\n",
            "Pending                   7\n",
            "Complete                  7\n",
            "Name: v4_stat, dtype: int64\n"
          ],
          "name": "stdout"
        }
      ]
    },
    {
      "cell_type": "code",
      "metadata": {
        "id": "yh-JdUU6zgBe",
        "outputId": "3c8c6101-8f23-48e9-87b4-d2ded09f91a1",
        "colab": {
          "base_uri": "https://localhost:8080/"
        }
      },
      "source": [
        "# biospecimen collected value counts\n",
        "cases['v4_samples_yn'].value_counts()\n"
      ],
      "execution_count": 92,
      "outputs": [
        {
          "output_type": "execute_result",
          "data": {
            "text/plain": [
              "0      52\n",
              "Yes     6\n",
              "Name: v4_samples_yn, dtype: int64"
            ]
          },
          "metadata": {
            "tags": []
          },
          "execution_count": 92
        }
      ]
    },
    {
      "cell_type": "code",
      "metadata": {
        "id": "CdAxJlfBzgBh",
        "outputId": "678da4d2-f4ac-4b31-d8d1-0f52c8c0568d",
        "colab": {
          "base_uri": "https://localhost:8080/"
        }
      },
      "source": [
        "# V4 Biospecimen Collected\n",
        "conditions = [((cases['v4_dt'] != 0) & (cases['v4_stat'] == 'Complete')) |\n",
        "              ((cases['v4_dt'] != 0) & (cases['v4_stat'] == 'Pending')), # Yes\n",
        "              (cases['v4_dt'] == 0) & (cases['v4_stat'] == 'Complete, no specimen'), # No\n",
        "              (cases['v4_dt'] == 0) & (cases['v4_stat'] == 'Complete'), # Pending\n",
        "              (cases['v4_dt'] == 0) & (cases['v4_stat'] == 'Pending'), # Unknown\n",
        "              (cases['v4_stat'] == 'Not Applicable')]  # Not Applicable   \n",
        "\n",
        "# create a list of the values we want to assign for each condition\n",
        "values = ['Yes', 'No', 'Pending', 'Unknown', 'Not Applicable']\n",
        "\n",
        "# create a new column and use np.select to assign values to it using our lists as arguments\n",
        "cases['v4_biospecimen_collected'] = np.select(conditions, values)\n",
        "\n",
        "# display updated DataFrame\n",
        "print(cases['v4_biospecimen_collected'].value_counts())"
      ],
      "execution_count": 101,
      "outputs": [
        {
          "output_type": "stream",
          "text": [
            "Not Applicable    28\n",
            "0                 16\n",
            "Yes                7\n",
            "Unknown            7\n",
            "Name: v4_biospecimen_collected, dtype: int64\n"
          ],
          "name": "stdout"
        }
      ]
    },
    {
      "cell_type": "code",
      "metadata": {
        "id": "7jjISp0izgBj",
        "outputId": "5fdb489b-71ca-4a9e-837c-f0dc92eda3f9",
        "colab": {
          "base_uri": "https://localhost:8080/"
        }
      },
      "source": [
        "# V4 Biospecimen Processed\n",
        "conditions = [((cases['v4_samples_process_dt'] != 0) & (cases['v4_stat'] == 'Complete')) |\n",
        "              ((cases['v4_samples_process_dt'] != 0) & (cases['v4_stat'] == 'Pending')), # Yes\n",
        "              (cases['v4_samples_process_dt'] == 0) & (cases['v4_stat'] == 'Complete, no specimen'), # No\n",
        "              (cases['v4_samples_process_dt'] == 0) & (cases['v4_stat'] == 'Complete'), # Pending\n",
        "              (cases['v4_samples_process_dt'] == 0) & (cases['v4_stat'] == 'Pending'), # Unknown\n",
        "              (cases['v4_stat'] == 'Not Applicable')]  # Not Applicable\n",
        "# create a list of the values we want to assign for each condition\n",
        "values = ['Yes', 'No', 'Pending', 'Unknown', 'Not Applicable']\n",
        "\n",
        "# create a new column and use np.select to assign values to it using our lists as arguments\n",
        "cases['v4_biospecimen_processed'] = np.select(conditions, values)\n",
        "\n",
        "# display updated DataFrame\n",
        "print(cases['v4_biospecimen_processed'].value_counts())"
      ],
      "execution_count": 102,
      "outputs": [
        {
          "output_type": "stream",
          "text": [
            "Not Applicable    28\n",
            "No                16\n",
            "Unknown            7\n",
            "Yes                6\n",
            "Pending            1\n",
            "Name: v4_biospecimen_processed, dtype: int64\n"
          ],
          "name": "stdout"
        }
      ]
    },
    {
      "cell_type": "code",
      "metadata": {
        "id": "_4rSfke-zgBl",
        "outputId": "51993f75-b1aa-42e9-804e-9c24bb49d8b9",
        "colab": {
          "base_uri": "https://localhost:8080/"
        }
      },
      "source": [
        "# V4 Biospecimen Shipped\n",
        "conditions = [((cases['v4_specimen_ship_dt'] != 0) & (cases['v4_stat'] == 'Complete')) |\n",
        "              ((cases['v4_specimen_ship_dt'] != 0) & (cases['v4_stat'] == 'Pending')), # Yes\n",
        "              (cases['v4_specimen_ship_dt'] == 0) & (cases['v4_stat'] == 'Complete, no specimen'), # No\n",
        "              (cases['v4_specimen_ship_dt'] == 0) & (cases['v4_stat'] == 'Complete'), # Pending\n",
        "              (cases['v4_specimen_ship_dt'] == 0) & (cases['v4_stat'] == 'Pending'), # Unknown\n",
        "              (cases['v4_stat'] == 'Not Applicable')] # Not Applicable\n",
        "\n",
        "# create a list of the values we want to assign for each condition\n",
        "values = ['Yes', 'No', 'Pending', 'Unknown', 'Not Applicable']\n",
        "\n",
        "# create a new column and use np.select to assign values to it using our lists as arguments\n",
        "cases['v4_biospecimen_shipped'] = np.select(conditions, values)\n",
        "\n",
        "# display updated DataFrame\n",
        "print(cases['v4_biospecimen_shipped'].value_counts())"
      ],
      "execution_count": 103,
      "outputs": [
        {
          "output_type": "stream",
          "text": [
            "Not Applicable    28\n",
            "No                16\n",
            "Unknown            7\n",
            "Yes                6\n",
            "Pending            1\n",
            "Name: v4_biospecimen_shipped, dtype: int64\n"
          ],
          "name": "stdout"
        }
      ]
    },
    {
      "cell_type": "code",
      "metadata": {
        "id": "4dK7QSluzgBp",
        "outputId": "8279e685-3275-43b9-b096-b22e7b354f5a",
        "colab": {
          "base_uri": "https://localhost:8080/"
        }
      },
      "source": [
        "# EHR value counts\n",
        "cases['v4_ehr_data_status'].value_counts()"
      ],
      "execution_count": 104,
      "outputs": [
        {
          "output_type": "execute_result",
          "data": {
            "text/plain": [
              "0                 34\n",
              "Yes (Complete)    23\n",
              "No (Pending)       1\n",
              "Name: v4_ehr_data_status, dtype: int64"
            ]
          },
          "metadata": {
            "tags": []
          },
          "execution_count": 104
        }
      ]
    },
    {
      "cell_type": "code",
      "metadata": {
        "id": "azcCqbbbzgBr",
        "outputId": "659bcd68-eb2b-46ad-d25d-2b2da551c2d9",
        "colab": {
          "base_uri": "https://localhost:8080/"
        }
      },
      "source": [
        "# V4 EHR\n",
        "conditions = [((cases['v4_ehr_data_status'] == 'Yes (Complete)') & ((cases['v4_stat'] == 'Complete') |\n",
        "                                                                    (cases['v4_stat'] == 'Complete, no specimen') |\n",
        "                                                                    (cases['v4_stat'] == 'Pending'))), # Complete\n",
        "              ((cases['v4_ehr_data_status'] == 0) & ((cases['v4_stat'] == 'Complete') |\n",
        "                                                     (cases['v4_stat'] == 'Complete, no specimen') |\n",
        "                                                     (cases['v4_stat'] == 'Pending'))), # Pending\n",
        "              (cases['v4_stat'] == 'Not Applicable')] # Not Applicable\n",
        "\n",
        "# create a list of the values we want to assign for each condition\n",
        "values = ['Complete', 'Pending', 'Not Applicable']\n",
        "\n",
        "# create a new column and use np.select to assign values to it using our lists as arguments\n",
        "cases['v4_ehr'] = np.select(conditions, values)\n",
        "\n",
        "# display updated DataFrame\n",
        "print(cases['v4_ehr'].value_counts())"
      ],
      "execution_count": 105,
      "outputs": [
        {
          "output_type": "stream",
          "text": [
            "Not Applicable    28\n",
            "Complete          23\n",
            "Pending            7\n",
            "Name: v4_ehr, dtype: int64\n"
          ],
          "name": "stdout"
        }
      ]
    },
    {
      "cell_type": "code",
      "metadata": {
        "id": "cMaZBTvJzgBu",
        "outputId": "2aa942eb-7e50-4e79-ff20-8805bc7fff51",
        "colab": {
          "base_uri": "https://localhost:8080/",
          "height": 204
        }
      },
      "source": [
        "# study visit 4 dataframe\n",
        "v4_df = cases[['record_id', 'participant_type', 'v4_stat', 'v4_biospecimen_collected', 'v4_biospecimen_processed',\n",
        "               'v4_biospecimen_shipped', 'v4_ehr']].copy()\n",
        "               \n",
        "v4_df['study_visit'] = 4\n",
        "\n",
        "v4_df = v4_df.rename(columns={'v4_stat':'study_status', 'v4_biospecimen_collected':'biospecimen_collected',\n",
        "                              'v4_biospecimen_processed':'biospecimen_processed', 'v4_biospecimen_shipped':'biospecimen_shipped',\n",
        "                              'v4_ehr':'ehr'})\n",
        "\n",
        "v4_df.head()"
      ],
      "execution_count": 202,
      "outputs": [
        {
          "output_type": "execute_result",
          "data": {
            "text/html": [
              "<div>\n",
              "<style scoped>\n",
              "    .dataframe tbody tr th:only-of-type {\n",
              "        vertical-align: middle;\n",
              "    }\n",
              "\n",
              "    .dataframe tbody tr th {\n",
              "        vertical-align: top;\n",
              "    }\n",
              "\n",
              "    .dataframe thead th {\n",
              "        text-align: right;\n",
              "    }\n",
              "</style>\n",
              "<table border=\"1\" class=\"dataframe\">\n",
              "  <thead>\n",
              "    <tr style=\"text-align: right;\">\n",
              "      <th></th>\n",
              "      <th>record_id</th>\n",
              "      <th>participant_type</th>\n",
              "      <th>study_status</th>\n",
              "      <th>biospecimen_collected</th>\n",
              "      <th>biospecimen_processed</th>\n",
              "      <th>biospecimen_shipped</th>\n",
              "      <th>ehr</th>\n",
              "      <th>study_visit</th>\n",
              "    </tr>\n",
              "  </thead>\n",
              "  <tbody>\n",
              "    <tr>\n",
              "      <th>0</th>\n",
              "      <td>3</td>\n",
              "      <td>Non-Progressor</td>\n",
              "      <td>Not Applicable</td>\n",
              "      <td>Not Applicable</td>\n",
              "      <td>Unknown</td>\n",
              "      <td>Not Applicable</td>\n",
              "      <td>Not Applicable</td>\n",
              "      <td>4</td>\n",
              "    </tr>\n",
              "    <tr>\n",
              "      <th>1</th>\n",
              "      <td>4</td>\n",
              "      <td>Non-Progressor</td>\n",
              "      <td>Not Applicable</td>\n",
              "      <td>Not Applicable</td>\n",
              "      <td>Yes</td>\n",
              "      <td>Not Applicable</td>\n",
              "      <td>Not Applicable</td>\n",
              "      <td>4</td>\n",
              "    </tr>\n",
              "    <tr>\n",
              "      <th>2</th>\n",
              "      <td>5</td>\n",
              "      <td>Non-Progressor</td>\n",
              "      <td>Complete, no specimen</td>\n",
              "      <td>0</td>\n",
              "      <td>Unknown</td>\n",
              "      <td>No</td>\n",
              "      <td>Complete</td>\n",
              "      <td>4</td>\n",
              "    </tr>\n",
              "    <tr>\n",
              "      <th>3</th>\n",
              "      <td>6</td>\n",
              "      <td>Non-Progressor</td>\n",
              "      <td>Complete, no specimen</td>\n",
              "      <td>0</td>\n",
              "      <td>Unknown</td>\n",
              "      <td>No</td>\n",
              "      <td>Complete</td>\n",
              "      <td>4</td>\n",
              "    </tr>\n",
              "    <tr>\n",
              "      <th>4</th>\n",
              "      <td>7</td>\n",
              "      <td>Progressor</td>\n",
              "      <td>Complete, no specimen</td>\n",
              "      <td>0</td>\n",
              "      <td>No</td>\n",
              "      <td>No</td>\n",
              "      <td>Complete</td>\n",
              "      <td>4</td>\n",
              "    </tr>\n",
              "  </tbody>\n",
              "</table>\n",
              "</div>"
            ],
            "text/plain": [
              "   record_id participant_type  ...             ehr study_visit\n",
              "0          3   Non-Progressor  ...  Not Applicable           4\n",
              "1          4   Non-Progressor  ...  Not Applicable           4\n",
              "2          5   Non-Progressor  ...        Complete           4\n",
              "3          6   Non-Progressor  ...        Complete           4\n",
              "4          7       Progressor  ...        Complete           4\n",
              "\n",
              "[5 rows x 8 columns]"
            ]
          },
          "metadata": {
            "tags": []
          },
          "execution_count": 202
        }
      ]
    },
    {
      "cell_type": "markdown",
      "metadata": {
        "id": "KOlNGeZ_6GGH"
      },
      "source": [
        "# Study Visit 5"
      ]
    },
    {
      "cell_type": "code",
      "metadata": {
        "id": "lFc9N33B_pGB",
        "outputId": "16c67dcd-ac3b-4711-c90f-e5e463e73600",
        "colab": {
          "base_uri": "https://localhost:8080/"
        }
      },
      "source": [
        "cases['v5_status'].value_counts()"
      ],
      "execution_count": 119,
      "outputs": [
        {
          "output_type": "execute_result",
          "data": {
            "text/plain": [
              "0                                               47\n",
              "Completed                                        8\n",
              "Completed, but missed biospecimen collection     2\n",
              "Not completed                                    1\n",
              "Name: v5_status, dtype: int64"
            ]
          },
          "metadata": {
            "tags": []
          },
          "execution_count": 119
        }
      ]
    },
    {
      "cell_type": "code",
      "metadata": {
        "id": "3boe0M5A6FT3",
        "outputId": "e679e4ec-b187-4f91-ef6d-6102fc8e9891",
        "colab": {
          "base_uri": "https://localhost:8080/"
        }
      },
      "source": [
        "# checking to see when v5 is due\n",
        "#new_df = pd.read_csv('PRESCO data.csv')\n",
        "from datetime import timedelta\n",
        "cases['admitted'] = cases['es_consent_dt']\n",
        "cases['admitted'] = pd.to_datetime(cases['admitted'])\n",
        "cases['v5_due'] = cases['admitted'] + timedelta(days=104)\n",
        "cases['v5_due'].head()"
      ],
      "execution_count": 170,
      "outputs": [
        {
          "output_type": "execute_result",
          "data": {
            "text/plain": [
              "0   2020-09-09\n",
              "1   2020-09-13\n",
              "2   2020-09-16\n",
              "3   2020-09-15\n",
              "4   2020-09-15\n",
              "Name: v5_due, dtype: datetime64[ns]"
            ]
          },
          "metadata": {
            "tags": []
          },
          "execution_count": 170
        }
      ]
    },
    {
      "cell_type": "code",
      "metadata": {
        "id": "x9HiZ9qV8ef1",
        "outputId": "958a8ce0-7e33-43d8-93b5-aeb40845424d",
        "colab": {
          "base_uri": "https://localhost:8080/"
        }
      },
      "source": [
        "cases['overdue'] = np.where(cases['v5_due'] <= '2020-11-17', 'Yes', 'No')\n",
        "cases['overdue'].value_counts()\n"
      ],
      "execution_count": 164,
      "outputs": [
        {
          "output_type": "execute_result",
          "data": {
            "text/plain": [
              "No     35\n",
              "Yes    23\n",
              "Name: overdue, dtype: int64"
            ]
          },
          "metadata": {
            "tags": []
          },
          "execution_count": 164
        }
      ]
    },
    {
      "cell_type": "code",
      "metadata": {
        "id": "kAI1YAp89p2V",
        "outputId": "ed54c8d7-783d-42c1-948a-c952db606295",
        "colab": {
          "base_uri": "https://localhost:8080/"
        }
      },
      "source": [
        "# Status 5 complete based on conditions\n",
        "\n",
        "conditions = [(((cases['v5_status'] == 'Completed') | (cases['v5_status'] == 'Completed, but missed biospecimen collection')) & (cases['v5_biospecimen_dt'] != 0)) |\n",
        "              ((cases['v5_status'] == 0) & (cases['v5_biospecimen_dt'] != 0) & (cases['v5_samples_process_dt'] != 0)\n",
        "              & (cases['v5_specimen_ship_dt'] != 0) & (cases['v5_entry_dt'] != 0)) |\n",
        "              ((cases['v5_status'] == 'Completed') & (cases['v5_biospecimen_dt'] == 0)), # Complete\n",
        "              ((cases['v5_status'] == 'Completed, but missed biospecimen collection') & (cases['v5_biospecimen_dt'] == 0)), # Complete, no specimen\n",
        "              (cases['v5_status'] == 0) & ((cases['v5_biospecimen_dt'] == 0) | (cases['v5_samples_process_dt'] == 0) | \n",
        "                                           (cases['v5_specimen_ship_dt'] == 0) | (cases['v5_entry_dt'] == 0)) & (cases['overdue'] == 'Yes'), # Pending\n",
        "              (cases['overdue'] == 'No'), # Not Due\n",
        "              (cases['v5_status'] == 'Not completed')] # Not Completed\n",
        "\n",
        "# create a list of the values we want to assign for each condition\n",
        "values = ['Complete', 'Complete, no specimen', 'Pending', 'Not Due', 'Not Completed']\n",
        "\n",
        "# create a new column and use np.select to assign values to it using our lists as arguments\n",
        "cases['v5_stat'] = np.select(conditions, values)\n",
        "\n",
        "# display updated DataFrame\n",
        "print(cases['v5_stat'].value_counts())"
      ],
      "execution_count": 166,
      "outputs": [
        {
          "output_type": "stream",
          "text": [
            "Not Due                  35\n",
            "Pending                  12\n",
            "Complete                  8\n",
            "Complete, no specimen     2\n",
            "Not Completed             1\n",
            "Name: v5_stat, dtype: int64\n"
          ],
          "name": "stdout"
        }
      ]
    },
    {
      "cell_type": "code",
      "metadata": {
        "id": "_HkEP2nSA30x",
        "outputId": "6497e391-9916-4ec2-b8c6-eb46396255f2",
        "colab": {
          "base_uri": "https://localhost:8080/"
        }
      },
      "source": [
        "# V5 Biospecimen Collected\n",
        "conditions = [((cases['v5_biospecimen_dt'] != 0) & (cases['v5_stat'] == 'Complete')) |\n",
        "              ((cases['v5_biospecimen_dt'] != 0) & (cases['v5_stat'] == 'Pending')), # Yes\n",
        "              ((cases['v5_biospecimen_dt'] == 0) & (cases['v5_stat'] == 'Complete, no specimen')) |\n",
        "              (cases['v5_stat'] == 'Not Completed'), # No\n",
        "              (cases['v5_biospecimen_dt'] == 0) & (cases['v5_stat'] == 'Complete') & (cases['overdue'] == 'Yes'), # Pending\n",
        "              (cases['v5_biospecimen_dt'] == 0) & (cases['v5_stat'] == 'Pending') & (cases['overdue'] == 'Yes'),\n",
        "              (cases['overdue'] == 'No')] # Not Due  \n",
        "\n",
        "# create a list of the values we want to assign for each condition\n",
        "values = ['Yes', 'No', 'Pending', 'Unknown', 'Not Due']\n",
        "\n",
        "# create a new column and use np.select to assign values to it using our lists as arguments\n",
        "cases['v5_biospecimen_collected'] = np.select(conditions, values)\n",
        "\n",
        "# display updated DataFrame\n",
        "print(cases['v5_biospecimen_collected'].value_counts())"
      ],
      "execution_count": 167,
      "outputs": [
        {
          "output_type": "stream",
          "text": [
            "Not Due    35\n",
            "Unknown    12\n",
            "Yes         8\n",
            "No          3\n",
            "Name: v5_biospecimen_collected, dtype: int64\n"
          ],
          "name": "stdout"
        }
      ]
    },
    {
      "cell_type": "code",
      "metadata": {
        "id": "q0vhxY-FLagc",
        "outputId": "70debfd0-f346-48e4-b6b8-900785d433e3",
        "colab": {
          "base_uri": "https://localhost:8080/"
        }
      },
      "source": [
        "# V5 Biospecimen Processed\n",
        "conditions = [((cases['v5_samples_process_dt'] != 0) & (cases['v5_stat'] == 'Complete')) |\n",
        "              ((cases['v5_samples_process_dt'] != 0) & (cases['v5_stat'] == 'Pending')), # Yes\n",
        "              ((cases['v5_samples_process_dt'] == 0) & (cases['v5_stat'] == 'Complete, no specimen')) |\n",
        "              (cases['v5_stat'] == 'Not Completed'), # No\n",
        "              (cases['v5_samples_process_dt'] == 0) & (cases['v5_stat'] == 'Complete') & (cases['overdue'] == 'Yes'), # Pending\n",
        "              (cases['v5_samples_process_dt'] == 0) & (cases['v5_stat'] == 'Pending') & (cases['overdue'] == 'Yes'),\n",
        "              (cases['overdue'] == 'No')] # Not Due  \n",
        "\n",
        "# create a list of the values we want to assign for each condition\n",
        "values = ['Yes', 'No', 'Pending', 'Unknown', 'Not Due']\n",
        "\n",
        "# create a new column and use np.select to assign values to it using our lists as arguments\n",
        "cases['v5_biospecimen_processed'] = np.select(conditions, values)\n",
        "\n",
        "# display updated DataFrame\n",
        "print(cases['v5_biospecimen_processed'].value_counts())"
      ],
      "execution_count": 168,
      "outputs": [
        {
          "output_type": "stream",
          "text": [
            "Not Due    35\n",
            "Unknown    12\n",
            "Yes         8\n",
            "No          3\n",
            "Name: v5_biospecimen_processed, dtype: int64\n"
          ],
          "name": "stdout"
        }
      ]
    },
    {
      "cell_type": "code",
      "metadata": {
        "id": "lD_by6voLwjd",
        "outputId": "edf5699d-6ba5-4999-994f-392c47ae6599",
        "colab": {
          "base_uri": "https://localhost:8080/"
        }
      },
      "source": [
        "# V5 Biospecimen Shipped\n",
        "conditions = [((cases['v5_specimen_ship_dt'] != 0) & (cases['v5_stat'] == 'Complete')) |\n",
        "              ((cases['v5_specimen_ship_dt'] != 0) & (cases['v5_stat'] == 'Pending')), # Yes\n",
        "              ((cases['v5_specimen_ship_dt'] == 0) & (cases['v5_stat'] == 'Complete, no specimen')) |\n",
        "              (cases['v5_stat'] == 'Not Completed'), # No\n",
        "              (cases['v5_specimen_ship_dt'] == 0) & (cases['v5_stat'] == 'Complete') & (cases['overdue'] == 'Yes'), # Pending\n",
        "              (cases['v5_specimen_ship_dt'] == 0) & (cases['v5_stat'] == 'Pending') & (cases['overdue'] == 'Yes'),\n",
        "              (cases['overdue'] == 'No')] # Not Due  \n",
        "\n",
        "# create a list of the values we want to assign for each condition\n",
        "values = ['Yes', 'No', 'Pending', 'Unknown', 'Not Due']\n",
        "\n",
        "# create a new column and use np.select to assign values to it using our lists as arguments\n",
        "cases['v5_biospecimen_shipped'] = np.select(conditions, values)\n",
        "\n",
        "# display updated DataFrame\n",
        "print(cases['v5_biospecimen_shipped'].value_counts())"
      ],
      "execution_count": 169,
      "outputs": [
        {
          "output_type": "stream",
          "text": [
            "Not Due    35\n",
            "Unknown    12\n",
            "Yes         8\n",
            "No          3\n",
            "Name: v5_biospecimen_shipped, dtype: int64\n"
          ],
          "name": "stdout"
        }
      ]
    },
    {
      "cell_type": "code",
      "metadata": {
        "id": "ImbODW4EMfhQ",
        "outputId": "44af1700-a3a1-476d-c8aa-3cc4250e6b12",
        "colab": {
          "base_uri": "https://localhost:8080/"
        }
      },
      "source": [
        "cases['v5_ehr_data_status'].value_counts()"
      ],
      "execution_count": 171,
      "outputs": [
        {
          "output_type": "execute_result",
          "data": {
            "text/plain": [
              "0                        50\n",
              "Partial (In progress)     3\n",
              "Yes (Complete)            3\n",
              "No (Pending)              2\n",
              "Name: v5_ehr_data_status, dtype: int64"
            ]
          },
          "metadata": {
            "tags": []
          },
          "execution_count": 171
        }
      ]
    },
    {
      "cell_type": "code",
      "metadata": {
        "id": "jJQos74GMcMo",
        "outputId": "372a20b1-1f3b-4755-95d8-ba5ba589368d",
        "colab": {
          "base_uri": "https://localhost:8080/"
        }
      },
      "source": [
        "# V5 EHR\n",
        "conditions = [((cases['v5_ehr_data_status'] == 'Yes (Complete)') & ((cases['v5_stat'] == 'Complete') |\n",
        "                                                                    (cases['v5_stat'] == 'Complete, no specimen') |\n",
        "                                                                    (cases['v5_stat'] == 'Pending'))), # Complete\n",
        "              (((cases['v5_ehr_data_status'] == 0) | (cases['v5_ehr_data_status'] == 'No (Pending)')) & ((cases['v5_stat'] == 'Complete') |\n",
        "                                                     (cases['v5_stat'] == 'Complete, no specimen') |\n",
        "                                                     (cases['v5_stat'] == 'Pending') |\n",
        "                                                     (cases['v5_stat'] == 'Not Completed'))), # Pending\n",
        "              (cases['v5_ehr_data_status'] == 'Partial (In progress)'), # Partial\n",
        "              (cases['overdue'] == 'No')] # Not Due\n",
        "              \n",
        "\n",
        "# create a list of the values we want to assign for each condition\n",
        "values = ['Complete', 'Pending', 'Partial', 'Not Due']\n",
        "\n",
        "# create a new column and use np.select to assign values to it using our lists as arguments\n",
        "cases['v5_ehr'] = np.select(conditions, values)\n",
        "\n",
        "# display updated DataFrame\n",
        "print(cases['v5_ehr'].value_counts())"
      ],
      "execution_count": 182,
      "outputs": [
        {
          "output_type": "stream",
          "text": [
            "Not Due     35\n",
            "Pending     17\n",
            "Partial      3\n",
            "Complete     3\n",
            "Name: v5_ehr, dtype: int64\n"
          ],
          "name": "stdout"
        }
      ]
    },
    {
      "cell_type": "code",
      "metadata": {
        "id": "pyvHTSsTMcMz",
        "outputId": "2bee17c5-2057-4464-fe81-948a1bf3aa0c",
        "colab": {
          "base_uri": "https://localhost:8080/",
          "height": 204
        }
      },
      "source": [
        "# study visit 5 dataframe\n",
        "v5_df = cases[['record_id', 'participant_type', 'v5_stat', 'v5_biospecimen_collected', 'v5_biospecimen_processed',\n",
        "               'v5_biospecimen_shipped', 'v5_ehr']].copy()\n",
        "               \n",
        "v5_df['study_visit'] = 5\n",
        "\n",
        "v5_df = v5_df.rename(columns={'v5_stat':'study_status', 'v5_biospecimen_collected':'biospecimen_collected',\n",
        "                              'v5_biospecimen_processed':'biospecimen_processed', 'v5_biospecimen_shipped':'biospecimen_shipped',\n",
        "                              'v5_ehr':'ehr'})\n",
        "\n",
        "v5_df.head()"
      ],
      "execution_count": 203,
      "outputs": [
        {
          "output_type": "execute_result",
          "data": {
            "text/html": [
              "<div>\n",
              "<style scoped>\n",
              "    .dataframe tbody tr th:only-of-type {\n",
              "        vertical-align: middle;\n",
              "    }\n",
              "\n",
              "    .dataframe tbody tr th {\n",
              "        vertical-align: top;\n",
              "    }\n",
              "\n",
              "    .dataframe thead th {\n",
              "        text-align: right;\n",
              "    }\n",
              "</style>\n",
              "<table border=\"1\" class=\"dataframe\">\n",
              "  <thead>\n",
              "    <tr style=\"text-align: right;\">\n",
              "      <th></th>\n",
              "      <th>record_id</th>\n",
              "      <th>participant_type</th>\n",
              "      <th>study_status</th>\n",
              "      <th>biospecimen_collected</th>\n",
              "      <th>biospecimen_processed</th>\n",
              "      <th>biospecimen_shipped</th>\n",
              "      <th>ehr</th>\n",
              "      <th>study_visit</th>\n",
              "    </tr>\n",
              "  </thead>\n",
              "  <tbody>\n",
              "    <tr>\n",
              "      <th>0</th>\n",
              "      <td>3</td>\n",
              "      <td>Non-Progressor</td>\n",
              "      <td>Pending</td>\n",
              "      <td>Unknown</td>\n",
              "      <td>Unknown</td>\n",
              "      <td>Unknown</td>\n",
              "      <td>Pending</td>\n",
              "      <td>5</td>\n",
              "    </tr>\n",
              "    <tr>\n",
              "      <th>1</th>\n",
              "      <td>4</td>\n",
              "      <td>Non-Progressor</td>\n",
              "      <td>Complete</td>\n",
              "      <td>Yes</td>\n",
              "      <td>Yes</td>\n",
              "      <td>Yes</td>\n",
              "      <td>Partial</td>\n",
              "      <td>5</td>\n",
              "    </tr>\n",
              "    <tr>\n",
              "      <th>2</th>\n",
              "      <td>5</td>\n",
              "      <td>Non-Progressor</td>\n",
              "      <td>Pending</td>\n",
              "      <td>Unknown</td>\n",
              "      <td>Unknown</td>\n",
              "      <td>Unknown</td>\n",
              "      <td>Pending</td>\n",
              "      <td>5</td>\n",
              "    </tr>\n",
              "    <tr>\n",
              "      <th>3</th>\n",
              "      <td>6</td>\n",
              "      <td>Non-Progressor</td>\n",
              "      <td>Pending</td>\n",
              "      <td>Unknown</td>\n",
              "      <td>Unknown</td>\n",
              "      <td>Unknown</td>\n",
              "      <td>Pending</td>\n",
              "      <td>5</td>\n",
              "    </tr>\n",
              "    <tr>\n",
              "      <th>4</th>\n",
              "      <td>7</td>\n",
              "      <td>Progressor</td>\n",
              "      <td>Not Completed</td>\n",
              "      <td>No</td>\n",
              "      <td>No</td>\n",
              "      <td>No</td>\n",
              "      <td>Pending</td>\n",
              "      <td>5</td>\n",
              "    </tr>\n",
              "  </tbody>\n",
              "</table>\n",
              "</div>"
            ],
            "text/plain": [
              "   record_id participant_type  ...      ehr study_visit\n",
              "0          3   Non-Progressor  ...  Pending           5\n",
              "1          4   Non-Progressor  ...  Partial           5\n",
              "2          5   Non-Progressor  ...  Pending           5\n",
              "3          6   Non-Progressor  ...  Pending           5\n",
              "4          7       Progressor  ...  Pending           5\n",
              "\n",
              "[5 rows x 8 columns]"
            ]
          },
          "metadata": {
            "tags": []
          },
          "execution_count": 203
        }
      ]
    },
    {
      "cell_type": "markdown",
      "metadata": {
        "id": "HZk9uADPPldF"
      },
      "source": [
        "# Merge Dataframes for Tableau"
      ]
    },
    {
      "cell_type": "code",
      "metadata": {
        "id": "uQ42YbtEPr5D"
      },
      "source": [
        "frames = [v1_df, v2_df, v3_df, v4_df, v5_df]\n",
        "\n",
        "study_final_df = pd.concat(frames)"
      ],
      "execution_count": 204,
      "outputs": []
    },
    {
      "cell_type": "code",
      "metadata": {
        "id": "AO0gT7bEQWzv",
        "outputId": "349bacf6-bd7f-4bc9-c7e9-1eb43e38b70d",
        "colab": {
          "base_uri": "https://localhost:8080/",
          "height": 204
        }
      },
      "source": [
        "study_final_df.head()"
      ],
      "execution_count": 205,
      "outputs": [
        {
          "output_type": "execute_result",
          "data": {
            "text/html": [
              "<div>\n",
              "<style scoped>\n",
              "    .dataframe tbody tr th:only-of-type {\n",
              "        vertical-align: middle;\n",
              "    }\n",
              "\n",
              "    .dataframe tbody tr th {\n",
              "        vertical-align: top;\n",
              "    }\n",
              "\n",
              "    .dataframe thead th {\n",
              "        text-align: right;\n",
              "    }\n",
              "</style>\n",
              "<table border=\"1\" class=\"dataframe\">\n",
              "  <thead>\n",
              "    <tr style=\"text-align: right;\">\n",
              "      <th></th>\n",
              "      <th>record_id</th>\n",
              "      <th>participant_type</th>\n",
              "      <th>study_status</th>\n",
              "      <th>biospecimen_collected</th>\n",
              "      <th>biospecimen_processed</th>\n",
              "      <th>biospecimen_shipped</th>\n",
              "      <th>ehr</th>\n",
              "      <th>study_visit</th>\n",
              "    </tr>\n",
              "  </thead>\n",
              "  <tbody>\n",
              "    <tr>\n",
              "      <th>0</th>\n",
              "      <td>3</td>\n",
              "      <td>Non-Progressor</td>\n",
              "      <td>Complete</td>\n",
              "      <td>Yes</td>\n",
              "      <td>Yes</td>\n",
              "      <td>Yes</td>\n",
              "      <td>Complete</td>\n",
              "      <td>1</td>\n",
              "    </tr>\n",
              "    <tr>\n",
              "      <th>1</th>\n",
              "      <td>4</td>\n",
              "      <td>Non-Progressor</td>\n",
              "      <td>Complete</td>\n",
              "      <td>Yes</td>\n",
              "      <td>Yes</td>\n",
              "      <td>Yes</td>\n",
              "      <td>Complete</td>\n",
              "      <td>1</td>\n",
              "    </tr>\n",
              "    <tr>\n",
              "      <th>2</th>\n",
              "      <td>5</td>\n",
              "      <td>Non-Progressor</td>\n",
              "      <td>Complete</td>\n",
              "      <td>Yes</td>\n",
              "      <td>Yes</td>\n",
              "      <td>Yes</td>\n",
              "      <td>Complete</td>\n",
              "      <td>1</td>\n",
              "    </tr>\n",
              "    <tr>\n",
              "      <th>3</th>\n",
              "      <td>6</td>\n",
              "      <td>Non-Progressor</td>\n",
              "      <td>Complete</td>\n",
              "      <td>Yes</td>\n",
              "      <td>Yes</td>\n",
              "      <td>Yes</td>\n",
              "      <td>Complete</td>\n",
              "      <td>1</td>\n",
              "    </tr>\n",
              "    <tr>\n",
              "      <th>4</th>\n",
              "      <td>7</td>\n",
              "      <td>Progressor</td>\n",
              "      <td>Complete</td>\n",
              "      <td>Yes</td>\n",
              "      <td>Yes</td>\n",
              "      <td>Yes</td>\n",
              "      <td>Complete</td>\n",
              "      <td>1</td>\n",
              "    </tr>\n",
              "  </tbody>\n",
              "</table>\n",
              "</div>"
            ],
            "text/plain": [
              "   record_id participant_type  ...       ehr study_visit\n",
              "0          3   Non-Progressor  ...  Complete           1\n",
              "1          4   Non-Progressor  ...  Complete           1\n",
              "2          5   Non-Progressor  ...  Complete           1\n",
              "3          6   Non-Progressor  ...  Complete           1\n",
              "4          7       Progressor  ...  Complete           1\n",
              "\n",
              "[5 rows x 8 columns]"
            ]
          },
          "metadata": {
            "tags": []
          },
          "execution_count": 205
        }
      ]
    },
    {
      "cell_type": "code",
      "metadata": {
        "id": "S2gHBEBbSABZ",
        "outputId": "54f15ae2-8e47-4750-e364-5d696de383d1",
        "colab": {
          "base_uri": "https://localhost:8080/"
        }
      },
      "source": [
        "study_final_df.shape"
      ],
      "execution_count": 207,
      "outputs": [
        {
          "output_type": "execute_result",
          "data": {
            "text/plain": [
              "(290, 8)"
            ]
          },
          "metadata": {
            "tags": []
          },
          "execution_count": 207
        }
      ]
    },
    {
      "cell_type": "code",
      "metadata": {
        "id": "orF7t1jbSQpU"
      },
      "source": [
        "# csv for tableau\n",
        "study_final_df.to_csv('presco_new_tableau.csv', index=None)"
      ],
      "execution_count": 210,
      "outputs": []
    }
  ]
}